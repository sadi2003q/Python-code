{
 "cells": [
  {
   "cell_type": "code",
   "outputs": [],
   "source": [
    "import wave\n",
    "import pyaudio\n",
    "\n",
    "audio = pyaudio.PyAudio()\n",
    "stream = audio.open(format=pyaudio.paInt16, channels=1, rate=44100, input=True, frames_per_buffer=1024)\n",
    "frame = []\n",
    "try:\n",
    "    while True:\n",
    "        data = stream.read(1024)\n",
    "        frame.append(data)\n",
    "except KeyboardInterrupt:\n",
    "    pass\n",
    "\n",
    "stream.stop_stream()\n",
    "stream.close()\n",
    "audio.terminate()\n",
    "\n",
    "sound_file = wave.open(\"new_audio.wav\", \"wb\")\n",
    "sound_file.setnchannels(1)\n",
    "sound_file.setsampwidth(audio.get_sample_size(pyaudio.paInt16))\n",
    "sound_file.setframerate(44100)\n",
    "sound_file.writeframes(b''.join(frame))\n",
    "sound_file.close()"
   ],
   "metadata": {
    "collapsed": false,
    "is_executing": true
   },
   "id": "defe1acaddfe1573",
   "execution_count": null
  },
  {
   "cell_type": "code",
   "outputs": [],
   "source": [
    "import wave\n",
    "import pyaudio\n",
    "\n",
    "audio = pyaudio.PyAudio()\n",
    "stream = audio.open(format=pyaudio.paInt16, channels=1, rate=44100, input=True, frames_per_buffer=1024)\n",
    "frames = []\n",
    "\n",
    "try:\n",
    "    print(\"Recording... Press Ctrl+C to stop.\")\n",
    "    while True:\n",
    "        data = stream.read(1024)\n",
    "        frames.append(data)\n",
    "except KeyboardInterrupt:\n",
    "    print(\"Recording stopped.\")\n",
    "\n",
    "stream.stop_stream()\n",
    "stream.close()\n",
    "audio.terminate()\n",
    "\n",
    "output_filename = \"new_audio.wav\"\n",
    "with wave.open(output_filename, \"wb\") as sound_file:\n",
    "    sound_file.setnchannels(1)\n",
    "    sound_file.setsampwidth(audio.get_sample_size(pyaudio.paInt16))\n",
    "    sound_file.setframerate(44100)\n",
    "    sound_file.writeframes(b''.join(frames))\n",
    "\n",
    "print(f\"Audio saved as {output_filename}\")"
   ],
   "metadata": {
    "collapsed": false,
    "is_executing": true
   },
   "id": "98889a55c4e7c8da"
  },
  {
   "cell_type": "code",
   "outputs": [],
   "source": [],
   "metadata": {
    "collapsed": false
   },
   "id": "fb9bf87974da704d"
  }
 ],
 "metadata": {
  "kernelspec": {
   "display_name": "Python 3",
   "language": "python",
   "name": "python3"
  },
  "language_info": {
   "codemirror_mode": {
    "name": "ipython",
    "version": 2
   },
   "file_extension": ".py",
   "mimetype": "text/x-python",
   "name": "python",
   "nbconvert_exporter": "python",
   "pygments_lexer": "ipython2",
   "version": "2.7.6"
  }
 },
 "nbformat": 4,
 "nbformat_minor": 5
}
