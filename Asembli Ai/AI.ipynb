{
 "cells": [
  {
   "cell_type": "code",
   "outputs": [
    {
     "name": "stdout",
     "output_type": "stream",
     "text": []
    },
    {
     "ename": "TypeError",
     "evalue": "'NoneType' object is not iterable",
     "output_type": "error",
     "traceback": [
      "\u001B[0;31m---------------------------------------------------------------------------\u001B[0m",
      "\u001B[0;31mTypeError\u001B[0m                                 Traceback (most recent call last)",
      "Cell \u001B[0;32mIn[4], line 20\u001B[0m\n\u001B[1;32m     16\u001B[0m transcript \u001B[38;5;241m=\u001B[39m transcriber\u001B[38;5;241m.\u001B[39mtranscribe(audio_url, config)\n\u001B[1;32m     18\u001B[0m \u001B[38;5;28mprint\u001B[39m(transcript\u001B[38;5;241m.\u001B[39mtext)\n\u001B[0;32m---> 20\u001B[0m \u001B[38;5;28;43;01mfor\u001B[39;49;00m\u001B[43m \u001B[49m\u001B[43mutterance\u001B[49m\u001B[43m \u001B[49m\u001B[38;5;129;43;01min\u001B[39;49;00m\u001B[43m \u001B[49m\u001B[43mtranscript\u001B[49m\u001B[38;5;241;43m.\u001B[39;49m\u001B[43mutterances\u001B[49m\u001B[43m:\u001B[49m\n\u001B[1;32m     21\u001B[0m \u001B[43m    \u001B[49m\u001B[38;5;28;43mprint\u001B[39;49m\u001B[43m(\u001B[49m\u001B[38;5;124;43mf\u001B[39;49m\u001B[38;5;124;43m\"\u001B[39;49m\u001B[38;5;124;43mSpeaker \u001B[39;49m\u001B[38;5;132;43;01m{\u001B[39;49;00m\u001B[43mutterance\u001B[49m\u001B[38;5;241;43m.\u001B[39;49m\u001B[43mspeaker\u001B[49m\u001B[38;5;132;43;01m}\u001B[39;49;00m\u001B[38;5;124;43m: \u001B[39;49m\u001B[38;5;132;43;01m{\u001B[39;49;00m\u001B[43mutterance\u001B[49m\u001B[38;5;241;43m.\u001B[39;49m\u001B[43mtext\u001B[49m\u001B[38;5;132;43;01m}\u001B[39;49;00m\u001B[38;5;124;43m\"\u001B[39;49m\u001B[43m)\u001B[49m\n",
      "\u001B[0;31mTypeError\u001B[0m: 'NoneType' object is not iterable"
     ]
    }
   ],
   "source": [
    "import assemblyai as aai\n",
    "from constants import name\n",
    "aai.settings.api_key = name\n",
    "\n",
    "\n",
    "transcriber = aai.Transcriber()\n",
    "\n",
    "audio_url = (\n",
    "    # \"https://storage.googleapis.com/aai-web-samples/5_common_sports_injuries.mp3\"\n",
    "    \"/Users/sadi_/Coding/pythonProject/Asembli Ai/audio.m4a\"\n",
    "    # \"/Users/sadi_/Coding/pythonProject/Asembli Ai/new_audio.wav\"\n",
    ")\n",
    "\n",
    "config = aai.TranscriptionConfig(speaker_labels=True)\n",
    "\n",
    "transcript = transcriber.transcribe(audio_url, config)\n",
    "\n",
    "print(transcript.text)\n",
    "\n",
    "for utterance in transcript.utterances:\n",
    "    print(f\"Speaker {utterance.speaker}: {utterance.text}\")"
   ],
   "metadata": {
    "collapsed": false,
    "ExecuteTime": {
     "end_time": "2024-07-31T04:57:57.323103Z",
     "start_time": "2024-07-31T04:56:10.755797Z"
    }
   },
   "id": "1d607be8205a05e8",
   "execution_count": 4
  },
  {
   "cell_type": "code",
   "outputs": [],
   "source": [],
   "metadata": {
    "collapsed": false
   },
   "id": "495ed42140c125f4"
  }
 ],
 "metadata": {
  "kernelspec": {
   "display_name": "Python 3",
   "language": "python",
   "name": "python3"
  },
  "language_info": {
   "codemirror_mode": {
    "name": "ipython",
    "version": 2
   },
   "file_extension": ".py",
   "mimetype": "text/x-python",
   "name": "python",
   "nbconvert_exporter": "python",
   "pygments_lexer": "ipython2",
   "version": "2.7.6"
  }
 },
 "nbformat": 4,
 "nbformat_minor": 5
}
