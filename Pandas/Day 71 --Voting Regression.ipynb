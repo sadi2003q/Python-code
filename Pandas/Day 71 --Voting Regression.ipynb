{
 "cells": [
  {
   "cell_type": "markdown",
   "source": [
    "# Loading Datasets"
   ],
   "metadata": {
    "collapsed": false
   },
   "id": "2b5405eddc655046"
  },
  {
   "cell_type": "code",
   "execution_count": 1,
   "id": "initial_id",
   "metadata": {
    "collapsed": true,
    "ExecuteTime": {
     "end_time": "2024-07-15T11:38:39.653018Z",
     "start_time": "2024-07-15T11:38:39.226510Z"
    }
   },
   "outputs": [],
   "source": [
    "from sklearn.datasets import load_diabetes"
   ]
  },
  {
   "cell_type": "code",
   "outputs": [],
   "source": [
    "x, y = load_diabetes(return_X_y=True)"
   ],
   "metadata": {
    "collapsed": false,
    "ExecuteTime": {
     "end_time": "2024-07-15T11:38:39.659936Z",
     "start_time": "2024-07-15T11:38:39.654241Z"
    }
   },
   "id": "b3b206b09fe5b27a",
   "execution_count": 2
  },
  {
   "cell_type": "markdown",
   "source": [
    "# Model training "
   ],
   "metadata": {
    "collapsed": false
   },
   "id": "732e2f2495a46868"
  },
  {
   "cell_type": "code",
   "outputs": [],
   "source": [
    "from sklearn.linear_model import LinearRegression, SGDRegressor\n",
    "from Model_Training import Model_Training"
   ],
   "metadata": {
    "collapsed": false,
    "ExecuteTime": {
     "end_time": "2024-07-15T11:38:39.903291Z",
     "start_time": "2024-07-15T11:38:39.660515Z"
    }
   },
   "id": "55519aa9918d5abe",
   "execution_count": 3
  },
  {
   "cell_type": "code",
   "outputs": [],
   "source": [
    "model_linear_regression = Model_Training(LinearRegression(), x, y)\n",
    "model_sgd_regressor = Model_Training(SGDRegressor(learning_rate='constant', eta0=0.01), x, y)"
   ],
   "metadata": {
    "collapsed": false,
    "ExecuteTime": {
     "end_time": "2024-07-15T11:38:39.905358Z",
     "start_time": "2024-07-15T11:38:39.903933Z"
    }
   },
   "id": "97094f41bf3200a2",
   "execution_count": 4
  },
  {
   "cell_type": "code",
   "outputs": [],
   "source": [
    "score_linear_regression = model_linear_regression.run()\n",
    "score_sgd_regression = model_sgd_regressor.run()"
   ],
   "metadata": {
    "collapsed": false,
    "ExecuteTime": {
     "end_time": "2024-07-15T11:38:39.916022Z",
     "start_time": "2024-07-15T11:38:39.906841Z"
    }
   },
   "id": "52363a7ec2428029",
   "execution_count": 5
  },
  {
   "cell_type": "markdown",
   "source": [
    "# Evaluation"
   ],
   "metadata": {
    "collapsed": false
   },
   "id": "4fe34c5708850b1d"
  },
  {
   "cell_type": "code",
   "outputs": [
    {
     "data": {
      "text/plain": "   r2_score  mean_absolute_error  mean_squared_error\n0  0.540803          2854.660798           44.781088",
      "text/html": "<div>\n<style scoped>\n    .dataframe tbody tr th:only-of-type {\n        vertical-align: middle;\n    }\n\n    .dataframe tbody tr th {\n        vertical-align: top;\n    }\n\n    .dataframe thead th {\n        text-align: right;\n    }\n</style>\n<table border=\"1\" class=\"dataframe\">\n  <thead>\n    <tr style=\"text-align: right;\">\n      <th></th>\n      <th>r2_score</th>\n      <th>mean_absolute_error</th>\n      <th>mean_squared_error</th>\n    </tr>\n  </thead>\n  <tbody>\n    <tr>\n      <th>0</th>\n      <td>0.540803</td>\n      <td>2854.660798</td>\n      <td>44.781088</td>\n    </tr>\n  </tbody>\n</table>\n</div>"
     },
     "execution_count": 6,
     "metadata": {},
     "output_type": "execute_result"
    }
   ],
   "source": [
    "score_linear_regression.get_score()"
   ],
   "metadata": {
    "collapsed": false,
    "ExecuteTime": {
     "end_time": "2024-07-15T11:38:39.924352Z",
     "start_time": "2024-07-15T11:38:39.916737Z"
    }
   },
   "id": "dfe4a946e7fdef24",
   "execution_count": 6
  },
  {
   "cell_type": "code",
   "outputs": [
    {
     "data": {
      "text/plain": "   r2_score  mean_absolute_error  mean_squared_error\n0  0.507308           2943.68744           43.775223",
      "text/html": "<div>\n<style scoped>\n    .dataframe tbody tr th:only-of-type {\n        vertical-align: middle;\n    }\n\n    .dataframe tbody tr th {\n        vertical-align: top;\n    }\n\n    .dataframe thead th {\n        text-align: right;\n    }\n</style>\n<table border=\"1\" class=\"dataframe\">\n  <thead>\n    <tr style=\"text-align: right;\">\n      <th></th>\n      <th>r2_score</th>\n      <th>mean_absolute_error</th>\n      <th>mean_squared_error</th>\n    </tr>\n  </thead>\n  <tbody>\n    <tr>\n      <th>0</th>\n      <td>0.507308</td>\n      <td>2943.68744</td>\n      <td>43.775223</td>\n    </tr>\n  </tbody>\n</table>\n</div>"
     },
     "execution_count": 7,
     "metadata": {},
     "output_type": "execute_result"
    }
   ],
   "source": [
    "score_sgd_regression.get_score()"
   ],
   "metadata": {
    "collapsed": false,
    "ExecuteTime": {
     "end_time": "2024-07-15T11:38:39.929821Z",
     "start_time": "2024-07-15T11:38:39.924996Z"
    }
   },
   "id": "d68ef9bd33940688",
   "execution_count": 7
  }
 ],
 "metadata": {
  "kernelspec": {
   "display_name": "Python 3",
   "language": "python",
   "name": "python3"
  },
  "language_info": {
   "codemirror_mode": {
    "name": "ipython",
    "version": 2
   },
   "file_extension": ".py",
   "mimetype": "text/x-python",
   "name": "python",
   "nbconvert_exporter": "python",
   "pygments_lexer": "ipython2",
   "version": "2.7.6"
  }
 },
 "nbformat": 4,
 "nbformat_minor": 5
}
