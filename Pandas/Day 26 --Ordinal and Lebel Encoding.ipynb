{
 "cells": [
  {
   "cell_type": "code",
   "execution_count": 3,
   "id": "initial_id",
   "metadata": {
    "collapsed": true,
    "ExecuteTime": {
     "end_time": "2024-05-03T10:12:02.056230Z",
     "start_time": "2024-05-03T10:12:02.054083Z"
    }
   },
   "outputs": [],
   "source": [
    "import pandas as pd\n",
    "import seaborn as sns"
   ]
  },
  {
   "cell_type": "code",
   "outputs": [],
   "source": [
    "customer = pd.read_csv('customer.csv', usecols=[2, 3, 4])"
   ],
   "metadata": {
    "collapsed": false,
    "ExecuteTime": {
     "end_time": "2024-05-03T10:23:34.564122Z",
     "start_time": "2024-05-03T10:23:34.557804Z"
    }
   },
   "id": "797fd149750dc37f",
   "execution_count": 5
  },
  {
   "cell_type": "code",
   "outputs": [
    {
     "data": {
      "text/plain": "    review education purchased\n0  Average    School        No\n1     Poor        UG        No\n2     Good        PG        No\n3     Good        PG        No\n4  Average        UG        No",
      "text/html": "<div>\n<style scoped>\n    .dataframe tbody tr th:only-of-type {\n        vertical-align: middle;\n    }\n\n    .dataframe tbody tr th {\n        vertical-align: top;\n    }\n\n    .dataframe thead th {\n        text-align: right;\n    }\n</style>\n<table border=\"1\" class=\"dataframe\">\n  <thead>\n    <tr style=\"text-align: right;\">\n      <th></th>\n      <th>review</th>\n      <th>education</th>\n      <th>purchased</th>\n    </tr>\n  </thead>\n  <tbody>\n    <tr>\n      <th>0</th>\n      <td>Average</td>\n      <td>School</td>\n      <td>No</td>\n    </tr>\n    <tr>\n      <th>1</th>\n      <td>Poor</td>\n      <td>UG</td>\n      <td>No</td>\n    </tr>\n    <tr>\n      <th>2</th>\n      <td>Good</td>\n      <td>PG</td>\n      <td>No</td>\n    </tr>\n    <tr>\n      <th>3</th>\n      <td>Good</td>\n      <td>PG</td>\n      <td>No</td>\n    </tr>\n    <tr>\n      <th>4</th>\n      <td>Average</td>\n      <td>UG</td>\n      <td>No</td>\n    </tr>\n  </tbody>\n</table>\n</div>"
     },
     "execution_count": 6,
     "metadata": {},
     "output_type": "execute_result"
    }
   ],
   "source": [
    "customer.head()"
   ],
   "metadata": {
    "collapsed": false,
    "ExecuteTime": {
     "end_time": "2024-05-03T10:23:44.453890Z",
     "start_time": "2024-05-03T10:23:44.441508Z"
    }
   },
   "id": "202ebeeee6c6e33c",
   "execution_count": 6
  },
  {
   "cell_type": "code",
   "outputs": [],
   "source": [
    "from sklearn.model_selection import train_test_split"
   ],
   "metadata": {
    "collapsed": false,
    "ExecuteTime": {
     "end_time": "2024-05-03T10:25:37.913499Z",
     "start_time": "2024-05-03T10:25:37.785625Z"
    }
   },
   "id": "a028897a92c40031",
   "execution_count": 7
  },
  {
   "cell_type": "code",
   "outputs": [],
   "source": [
    "train_x, test_x, train_y, test_y = train_test_split(customer.iloc[:, 0:2], customer.iloc[:, -1], test_size = 0.2)"
   ],
   "metadata": {
    "collapsed": false,
    "ExecuteTime": {
     "end_time": "2024-05-03T10:27:08.892359Z",
     "start_time": "2024-05-03T10:27:08.877030Z"
    }
   },
   "id": "5529e039d39bab4",
   "execution_count": 8
  },
  {
   "cell_type": "code",
   "outputs": [
    {
     "data": {
      "text/plain": "     review education\n12     Poor    School\n47     Good        PG\n27     Poor        PG\n5   Average    School\n37  Average        PG\n16     Poor        UG\n6      Good    School\n30  Average        UG\n7      Poor    School\n0   Average    School\n21  Average        PG\n35     Poor    School\n24  Average        PG\n45     Poor        PG\n25     Good    School\n9      Good        UG\n36     Good        UG\n4   Average        UG\n17     Poor        UG\n2      Good        PG\n29  Average        UG\n3      Good        PG\n33     Good        PG\n42     Good        PG\n43     Poor        PG\n48     Good        UG\n32  Average        UG\n41     Good        PG\n22     Poor        PG\n8   Average        UG\n15     Poor        UG\n28     Poor    School\n40     Good    School\n44  Average        UG\n20  Average    School\n46     Poor        PG\n34  Average    School\n38     Good    School\n18     Good    School\n26     Poor        PG",
      "text/html": "<div>\n<style scoped>\n    .dataframe tbody tr th:only-of-type {\n        vertical-align: middle;\n    }\n\n    .dataframe tbody tr th {\n        vertical-align: top;\n    }\n\n    .dataframe thead th {\n        text-align: right;\n    }\n</style>\n<table border=\"1\" class=\"dataframe\">\n  <thead>\n    <tr style=\"text-align: right;\">\n      <th></th>\n      <th>review</th>\n      <th>education</th>\n    </tr>\n  </thead>\n  <tbody>\n    <tr>\n      <th>12</th>\n      <td>Poor</td>\n      <td>School</td>\n    </tr>\n    <tr>\n      <th>47</th>\n      <td>Good</td>\n      <td>PG</td>\n    </tr>\n    <tr>\n      <th>27</th>\n      <td>Poor</td>\n      <td>PG</td>\n    </tr>\n    <tr>\n      <th>5</th>\n      <td>Average</td>\n      <td>School</td>\n    </tr>\n    <tr>\n      <th>37</th>\n      <td>Average</td>\n      <td>PG</td>\n    </tr>\n    <tr>\n      <th>16</th>\n      <td>Poor</td>\n      <td>UG</td>\n    </tr>\n    <tr>\n      <th>6</th>\n      <td>Good</td>\n      <td>School</td>\n    </tr>\n    <tr>\n      <th>30</th>\n      <td>Average</td>\n      <td>UG</td>\n    </tr>\n    <tr>\n      <th>7</th>\n      <td>Poor</td>\n      <td>School</td>\n    </tr>\n    <tr>\n      <th>0</th>\n      <td>Average</td>\n      <td>School</td>\n    </tr>\n    <tr>\n      <th>21</th>\n      <td>Average</td>\n      <td>PG</td>\n    </tr>\n    <tr>\n      <th>35</th>\n      <td>Poor</td>\n      <td>School</td>\n    </tr>\n    <tr>\n      <th>24</th>\n      <td>Average</td>\n      <td>PG</td>\n    </tr>\n    <tr>\n      <th>45</th>\n      <td>Poor</td>\n      <td>PG</td>\n    </tr>\n    <tr>\n      <th>25</th>\n      <td>Good</td>\n      <td>School</td>\n    </tr>\n    <tr>\n      <th>9</th>\n      <td>Good</td>\n      <td>UG</td>\n    </tr>\n    <tr>\n      <th>36</th>\n      <td>Good</td>\n      <td>UG</td>\n    </tr>\n    <tr>\n      <th>4</th>\n      <td>Average</td>\n      <td>UG</td>\n    </tr>\n    <tr>\n      <th>17</th>\n      <td>Poor</td>\n      <td>UG</td>\n    </tr>\n    <tr>\n      <th>2</th>\n      <td>Good</td>\n      <td>PG</td>\n    </tr>\n    <tr>\n      <th>29</th>\n      <td>Average</td>\n      <td>UG</td>\n    </tr>\n    <tr>\n      <th>3</th>\n      <td>Good</td>\n      <td>PG</td>\n    </tr>\n    <tr>\n      <th>33</th>\n      <td>Good</td>\n      <td>PG</td>\n    </tr>\n    <tr>\n      <th>42</th>\n      <td>Good</td>\n      <td>PG</td>\n    </tr>\n    <tr>\n      <th>43</th>\n      <td>Poor</td>\n      <td>PG</td>\n    </tr>\n    <tr>\n      <th>48</th>\n      <td>Good</td>\n      <td>UG</td>\n    </tr>\n    <tr>\n      <th>32</th>\n      <td>Average</td>\n      <td>UG</td>\n    </tr>\n    <tr>\n      <th>41</th>\n      <td>Good</td>\n      <td>PG</td>\n    </tr>\n    <tr>\n      <th>22</th>\n      <td>Poor</td>\n      <td>PG</td>\n    </tr>\n    <tr>\n      <th>8</th>\n      <td>Average</td>\n      <td>UG</td>\n    </tr>\n    <tr>\n      <th>15</th>\n      <td>Poor</td>\n      <td>UG</td>\n    </tr>\n    <tr>\n      <th>28</th>\n      <td>Poor</td>\n      <td>School</td>\n    </tr>\n    <tr>\n      <th>40</th>\n      <td>Good</td>\n      <td>School</td>\n    </tr>\n    <tr>\n      <th>44</th>\n      <td>Average</td>\n      <td>UG</td>\n    </tr>\n    <tr>\n      <th>20</th>\n      <td>Average</td>\n      <td>School</td>\n    </tr>\n    <tr>\n      <th>46</th>\n      <td>Poor</td>\n      <td>PG</td>\n    </tr>\n    <tr>\n      <th>34</th>\n      <td>Average</td>\n      <td>School</td>\n    </tr>\n    <tr>\n      <th>38</th>\n      <td>Good</td>\n      <td>School</td>\n    </tr>\n    <tr>\n      <th>18</th>\n      <td>Good</td>\n      <td>School</td>\n    </tr>\n    <tr>\n      <th>26</th>\n      <td>Poor</td>\n      <td>PG</td>\n    </tr>\n  </tbody>\n</table>\n</div>"
     },
     "execution_count": 13,
     "metadata": {},
     "output_type": "execute_result"
    }
   ],
   "source": [
    "train_x"
   ],
   "metadata": {
    "collapsed": false,
    "ExecuteTime": {
     "end_time": "2024-05-03T10:33:09.654724Z",
     "start_time": "2024-05-03T10:33:09.630630Z"
    }
   },
   "id": "9595bf9772acd532",
   "execution_count": 13
  },
  {
   "cell_type": "code",
   "outputs": [],
   "source": [
    "from sklearn.preprocessing import OrdinalEncoder"
   ],
   "metadata": {
    "collapsed": false,
    "ExecuteTime": {
     "end_time": "2024-05-03T10:32:27.572214Z",
     "start_time": "2024-05-03T10:32:27.566481Z"
    }
   },
   "id": "490d1de790f29aa5",
   "execution_count": 11
  },
  {
   "cell_type": "code",
   "outputs": [],
   "source": [
    "ordinal = OrdinalEncoder(categories=[['Poor', 'Average', 'Good'], ['School', 'UG', 'PG']])"
   ],
   "metadata": {
    "collapsed": false,
    "ExecuteTime": {
     "end_time": "2024-05-03T10:34:49.312140Z",
     "start_time": "2024-05-03T10:34:49.304678Z"
    }
   },
   "id": "dc73321596d5f688",
   "execution_count": 14
  },
  {
   "cell_type": "code",
   "outputs": [],
   "source": [
    "ordinal.fit(train_x)\n",
    "transformed_train_x = ordinal.transform(train_x)\n",
    "transformed_test_x = ordinal.transform(test_x)"
   ],
   "metadata": {
    "collapsed": false,
    "ExecuteTime": {
     "end_time": "2024-05-03T10:37:18.383727Z",
     "start_time": "2024-05-03T10:37:18.371686Z"
    }
   },
   "id": "41342dd0cabdbc7",
   "execution_count": 15
  },
  {
   "cell_type": "code",
   "outputs": [
    {
     "data": {
      "text/plain": "array([[2., 1.],\n       [2., 1.],\n       [0., 2.],\n       [0., 2.],\n       [0., 0.],\n       [1., 0.],\n       [0., 2.],\n       [0., 1.],\n       [2., 1.],\n       [2., 0.]])"
     },
     "execution_count": 16,
     "metadata": {},
     "output_type": "execute_result"
    }
   ],
   "source": [
    "transformed_test_x"
   ],
   "metadata": {
    "collapsed": false,
    "ExecuteTime": {
     "end_time": "2024-05-03T10:37:23.903497Z",
     "start_time": "2024-05-03T10:37:23.898093Z"
    }
   },
   "id": "68365f85cc5a23a2",
   "execution_count": 16
  },
  {
   "cell_type": "code",
   "outputs": [],
   "source": [
    "from sklearn.preprocessing import LabelEncoder"
   ],
   "metadata": {
    "collapsed": false,
    "ExecuteTime": {
     "end_time": "2024-05-03T10:39:51.175531Z",
     "start_time": "2024-05-03T10:39:51.168727Z"
    }
   },
   "id": "108aa08813f91298",
   "execution_count": 17
  },
  {
   "cell_type": "code",
   "outputs": [],
   "source": [
    "label = LabelEncoder()\n",
    "label.fit(train_y)"
   ],
   "metadata": {
    "collapsed": false,
    "ExecuteTime": {
     "end_time": "2024-05-03T10:40:42.375138Z",
     "start_time": "2024-05-03T10:40:42.371604Z"
    }
   },
   "id": "4d2b7b6548ccd89b",
   "execution_count": 21
  },
  {
   "cell_type": "code",
   "outputs": [],
   "source": [
    "label_train_y = label.transform(train_y)\n",
    "label_test_y = label.transform(test_y)"
   ],
   "metadata": {
    "collapsed": false,
    "ExecuteTime": {
     "end_time": "2024-05-03T10:41:53.237222Z",
     "start_time": "2024-05-03T10:41:53.224472Z"
    }
   },
   "id": "42327c705be69547",
   "execution_count": 24
  },
  {
   "cell_type": "code",
   "outputs": [
    {
     "data": {
      "text/plain": "12     No\n47    Yes\n27     No\n5     Yes\n37    Yes\n16    Yes\n6      No\n30     No\n7     Yes\n0      No\n21     No\n35    Yes\n24    Yes\n45    Yes\n25     No\n9     Yes\n36    Yes\n4      No\n17    Yes\n2      No\n29    Yes\n3      No\n33    Yes\n42    Yes\n43     No\n48    Yes\n32    Yes\n41    Yes\n22    Yes\n8      No\n15     No\n28     No\n40     No\n44     No\n20    Yes\n46     No\n34     No\n38     No\n18     No\n26     No\nName: purchased, dtype: object"
     },
     "execution_count": 26,
     "metadata": {},
     "output_type": "execute_result"
    }
   ],
   "source": [
    "train_y"
   ],
   "metadata": {
    "collapsed": false,
    "ExecuteTime": {
     "end_time": "2024-05-03T10:42:43.273870Z",
     "start_time": "2024-05-03T10:42:43.230159Z"
    }
   },
   "id": "55a4cdc86377bd1d",
   "execution_count": 26
  },
  {
   "cell_type": "code",
   "outputs": [
    {
     "data": {
      "text/plain": "array([0, 1, 0, 1, 1, 1, 0, 0, 1, 0, 0, 1, 1, 1, 0, 1, 1, 0, 1, 0, 1, 0,\n       1, 1, 0, 1, 1, 1, 1, 0, 0, 0, 0, 0, 1, 0, 0, 0, 0, 0])"
     },
     "execution_count": 25,
     "metadata": {},
     "output_type": "execute_result"
    }
   ],
   "source": [
    "label_train_y"
   ],
   "metadata": {
    "collapsed": false,
    "ExecuteTime": {
     "end_time": "2024-05-03T10:41:58.071158Z",
     "start_time": "2024-05-03T10:41:58.066718Z"
    }
   },
   "id": "331294d63020ca32",
   "execution_count": 25
  },
  {
   "cell_type": "code",
   "outputs": [],
   "source": [],
   "metadata": {
    "collapsed": false
   },
   "id": "93f353362f530483"
  }
 ],
 "metadata": {
  "kernelspec": {
   "display_name": "Python 3",
   "language": "python",
   "name": "python3"
  },
  "language_info": {
   "codemirror_mode": {
    "name": "ipython",
    "version": 2
   },
   "file_extension": ".py",
   "mimetype": "text/x-python",
   "name": "python",
   "nbconvert_exporter": "python",
   "pygments_lexer": "ipython2",
   "version": "2.7.6"
  }
 },
 "nbformat": 4,
 "nbformat_minor": 5
}
