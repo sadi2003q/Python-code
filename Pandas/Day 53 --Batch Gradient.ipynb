{
 "cells": [
  {
   "cell_type": "code",
   "outputs": [],
   "source": [
    "import pandas as pd\n",
    "import numpy as np\n",
    "\n",
    "from sklearn.model_selection import train_test_split as split\n",
    "from sklearn.compose import ColumnTransformer \n",
    "from sklearn.preprocessing import LabelEncoder, OrdinalEncoder, OneHotEncoder\n",
    "\n",
    "from sklearn.linear_model import LogisticRegression, LinearRegression\n",
    "from sklearn.metrics import accuracy_score as s_score\n",
    "from sklearn.metrics import r2_score as score\n"
   ],
   "metadata": {
    "collapsed": false
   },
   "id": "867b6e6d65f4c195",
   "execution_count": null
  },
  {
   "cell_type": "code",
   "outputs": [],
   "source": [
    "df = pd.read_csv('salary.csv')"
   ],
   "metadata": {
    "collapsed": false
   },
   "id": "5cfe31983ff9abbe",
   "execution_count": null
  },
  {
   "cell_type": "code",
   "outputs": [],
   "source": [
    "df.info()"
   ],
   "metadata": {
    "collapsed": false
   },
   "id": "d05e5e801eca7ad2",
   "execution_count": null
  },
  {
   "cell_type": "code",
   "outputs": [],
   "source": [
    "df = df.drop(columns = ['education-num', 'marital-status', 'relationship', 'native-country'])"
   ],
   "metadata": {
    "collapsed": false
   },
   "id": "870d058fbbd4ba4a",
   "execution_count": null
  },
  {
   "cell_type": "code",
   "outputs": [],
   "source": [
    "df.info()"
   ],
   "metadata": {
    "collapsed": false
   },
   "id": "b09135697a1f91ba",
   "execution_count": null
  },
  {
   "cell_type": "code",
   "outputs": [],
   "source": [
    "objectColumnName = df.select_dtypes(include=['object']).columns\n",
    "print(objectColumnName)"
   ],
   "metadata": {
    "collapsed": false
   },
   "id": "4e46824037a8ab20",
   "execution_count": null
  },
  {
   "cell_type": "code",
   "outputs": [],
   "source": [
    "df['education'].value_counts()"
   ],
   "metadata": {
    "collapsed": false
   },
   "id": "44075512771c4932",
   "execution_count": null
  },
  {
   "cell_type": "code",
   "outputs": [],
   "source": [
    "value_counts = df['education'].value_counts()\n",
    "value_to_replace = value_counts[value_counts<1000].index\n",
    "df['education'] = df['education'].replace(value_to_replace, 'others')"
   ],
   "metadata": {
    "collapsed": false
   },
   "id": "29fda2a3632ddbf1",
   "execution_count": null
  },
  {
   "cell_type": "code",
   "outputs": [],
   "source": [
    "df['education'].value_counts()"
   ],
   "metadata": {
    "collapsed": false
   },
   "id": "8f7a129011bb38be",
   "execution_count": null
  },
  {
   "cell_type": "code",
   "outputs": [],
   "source": [
    "df['salary'].value_counts()"
   ],
   "metadata": {
    "collapsed": false
   },
   "id": "9aa52485ad90cd4f",
   "execution_count": null
  },
  {
   "cell_type": "code",
   "outputs": [],
   "source": [
    "x = df.drop(columns = ['salary'])\n",
    "y = df['salary']"
   ],
   "metadata": {
    "collapsed": false
   },
   "id": "6c9bb2c81e6a0740",
   "execution_count": null
  },
  {
   "cell_type": "code",
   "outputs": [],
   "source": [
    "print(x.select_dtypes(include='object').columns)"
   ],
   "metadata": {
    "collapsed": false
   },
   "id": "c30ec0cca2d3c4c1",
   "execution_count": null
  },
  {
   "cell_type": "code",
   "outputs": [],
   "source": [
    "transformer = ColumnTransformer(transformers=[\n",
    "    ('encoding_1', OneHotEncoder(handle_unknown='ignore', sparse_output=False), ['workclass', 'education', 'occupation', 'race', 'sex']), \n",
    "], remainder='passthrough')"
   ],
   "metadata": {
    "collapsed": false
   },
   "id": "998745faef3d8c80",
   "execution_count": null
  },
  {
   "cell_type": "code",
   "outputs": [],
   "source": [
    "train_x, test_x, train_y, test_y = split(x, y, test_size=0.2, random_state = 42)"
   ],
   "metadata": {
    "collapsed": false
   },
   "id": "8525bbfc9b727040",
   "execution_count": null
  },
  {
   "cell_type": "code",
   "outputs": [],
   "source": [
    "new_train_x = transformer.fit_transform(train_x)\n",
    "new_test_x = transformer.transform(test_x)"
   ],
   "metadata": {
    "collapsed": false
   },
   "id": "d2843ab0f4b6977c",
   "execution_count": null
  },
  {
   "cell_type": "code",
   "outputs": [],
   "source": [
    "new_train_x = pd.DataFrame(new_train_x)\n",
    "new_test_x = pd.DataFrame(new_test_x)"
   ],
   "metadata": {
    "collapsed": false
   },
   "id": "7f81c4a74194c26d",
   "execution_count": null
  },
  {
   "cell_type": "code",
   "outputs": [],
   "source": [
    "train_y = pd.DataFrame(train_y, columns = ['salary'])\n",
    "test_y = pd.DataFrame(test_y, columns =['salary'])"
   ],
   "metadata": {
    "collapsed": false
   },
   "id": "9c9d436491c93bd",
   "execution_count": null
  },
  {
   "cell_type": "code",
   "outputs": [],
   "source": [
    "label_encoder = LabelEncoder()\n",
    "new_train_y = label_encoder.fit_transform(train_y['salary'])\n",
    "new_test_y = label_encoder.transform(test_y['salary'])\n",
    "\n",
    "# If you need new_train_y and new_test_y as DataFrames, you can convert them back\n",
    "new_train_y = pd.DataFrame(new_train_y, columns=['salary'])\n",
    "new_test_y = pd.DataFrame(new_test_y, columns=['salary'])\n",
    "\n",
    "\n"
   ],
   "metadata": {
    "collapsed": false
   },
   "id": "2832b625f1a356aa",
   "execution_count": null
  },
  {
   "cell_type": "code",
   "outputs": [],
   "source": [
    "new_train_x.info()"
   ],
   "metadata": {
    "collapsed": false
   },
   "id": "9ba24f31229be26a",
   "execution_count": null
  },
  {
   "cell_type": "code",
   "outputs": [],
   "source": [
    "model = LogisticRegression()"
   ],
   "metadata": {
    "collapsed": false
   },
   "id": "d96aa8a2fad28deb",
   "execution_count": null
  },
  {
   "cell_type": "code",
   "outputs": [],
   "source": [
    "model.fit(new_train_x, new_train_y)"
   ],
   "metadata": {
    "collapsed": false
   },
   "id": "7018115b5b835283",
   "execution_count": null
  },
  {
   "cell_type": "code",
   "outputs": [],
   "source": [
    "y_pred = model.predict(new_test_x)"
   ],
   "metadata": {
    "collapsed": false
   },
   "id": "fe0c1f70a6e4f48b",
   "execution_count": null
  },
  {
   "cell_type": "code",
   "outputs": [],
   "source": [
    "exam_dei_ja_asha_korsilam = y_pred\n",
    "exam_die_ja_paysi = new_test_y"
   ],
   "metadata": {
    "collapsed": false
   },
   "id": "382f289244227148",
   "execution_count": null
  },
  {
   "cell_type": "code",
   "outputs": [],
   "source": [
    "s_score(y_pred, new_test_y)"
   ],
   "metadata": {
    "collapsed": false
   },
   "id": "8e69b0208f5a62ec",
   "execution_count": null
  },
  {
   "cell_type": "code",
   "outputs": [],
   "source": [
    "model = LinearRegression()\n",
    "model.fit(new_train_x, new_train_y)\n",
    "y_pred = model.predict(new_test_x)\n",
    "score(exam_dei_ja_asha_korsilam, \n",
    "      exam_die_ja_paysi)"
   ],
   "metadata": {
    "collapsed": false
   },
   "id": "17ae45a4a7f44e07",
   "execution_count": null
  },
  {
   "cell_type": "markdown",
   "source": [
    "### Making Custom Class for Calculating Accuracy Score\n",
    "\n",
    "\n",
    "###### Code is not working "
   ],
   "metadata": {
    "collapsed": false
   },
   "id": "8bc17aa13b9569d3"
  },
  {
   "cell_type": "code",
   "outputs": [],
   "source": [
    "class Gradient_Descient:\n",
    "    \n",
    "    def __init__(self,learning_rate=0.01,epochs=100):\n",
    "        \n",
    "        self.coef_ = None\n",
    "        self.intercept_ = None\n",
    "        self.lr = learning_rate\n",
    "        self.epochs = epochs\n",
    "        \n",
    "    def fit(self,X_train,y_train):\n",
    "        # init your coefs\n",
    "        self.intercept_ = 0\n",
    "        self.coef_ = np.ones(X_train.shape[1])\n",
    "        \n",
    "        for i in range(self.epochs):\n",
    "            # update all the coef and the intercept\n",
    "            y_hat = np.dot(X_train,self.coef_) + self.intercept_\n",
    "            #print(\"Shape of y_hat\",y_hat.shape)\n",
    "            intercept_der = -2 * np.mean(y_train - y_hat)\n",
    "            self.intercept_ = self.intercept_ - (self.lr * intercept_der)\n",
    "            \n",
    "            coef_der = -2 * np.dot((y_train - y_hat),X_train)/X_train.shape[0]\n",
    "            self.coef_ = self.coef_ - (self.lr * coef_der)\n",
    "        \n",
    "        print(self.intercept_,self.coef_)\n",
    "    \n",
    "    def predict(self,X_test):\n",
    "        return np.dot(X_test,self.coef_) + self.intercept_"
   ],
   "metadata": {
    "collapsed": false
   },
   "id": "3558af87220b88df",
   "execution_count": null
  },
  {
   "cell_type": "code",
   "outputs": [],
   "source": [
    "gdr = Gradient_Descient(epochs=1000,learning_rate=0.5)"
   ],
   "metadata": {
    "collapsed": false
   },
   "id": "734a370a47313176",
   "execution_count": null
  },
  {
   "cell_type": "code",
   "outputs": [],
   "source": [
    "gdr.fit(new_train_x, new_train_y)\n",
    "y_pred = model.predict(new_test_x)\n",
    "score(exam_dei_ja_asha_korsilam, \n",
    "      exam_die_ja_paysi)"
   ],
   "metadata": {
    "collapsed": false
   },
   "id": "388240afa51b5aaf",
   "execution_count": null
  },
  {
   "cell_type": "code",
   "outputs": [],
   "source": [],
   "metadata": {
    "collapsed": false
   },
   "id": "8054d86f56dc65ba"
  }
 ],
 "metadata": {
  "kernelspec": {
   "display_name": "Python 3",
   "language": "python",
   "name": "python3"
  },
  "language_info": {
   "codemirror_mode": {
    "name": "ipython",
    "version": 2
   },
   "file_extension": ".py",
   "mimetype": "text/x-python",
   "name": "python",
   "nbconvert_exporter": "python",
   "pygments_lexer": "ipython2",
   "version": "2.7.6"
  }
 },
 "nbformat": 4,
 "nbformat_minor": 5
}
