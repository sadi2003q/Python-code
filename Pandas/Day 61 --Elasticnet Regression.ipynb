{
 "cells": [
  {
   "cell_type": "code",
   "execution_count": 8,
   "id": "initial_id",
   "metadata": {
    "collapsed": true,
    "ExecuteTime": {
     "end_time": "2024-07-06T05:46:47.750188Z",
     "start_time": "2024-07-06T05:46:47.744319Z"
    }
   },
   "outputs": [],
   "source": [
    "from sklearn.datasets import load_diabetes\n",
    "\n",
    "from sklearn.model_selection import train_test_split as split\n",
    "from sklearn.linear_model import LinearRegression, Ridge, Lasso, ElasticNet\n",
    "\n",
    "from sklearn.metrics import r2_score as score"
   ]
  },
  {
   "cell_type": "code",
   "outputs": [],
   "source": [
    "x, y = load_diabetes(return_X_y=True)"
   ],
   "metadata": {
    "collapsed": false,
    "ExecuteTime": {
     "end_time": "2024-07-06T05:45:04.648947Z",
     "start_time": "2024-07-06T05:45:04.636919Z"
    }
   },
   "id": "1125c0f78f66bc83",
   "execution_count": 5
  },
  {
   "cell_type": "code",
   "outputs": [],
   "source": [
    "train_x, test_x, train_y, test_y = split(x, y, test_size = 0.2, random_state=2)"
   ],
   "metadata": {
    "collapsed": false,
    "ExecuteTime": {
     "end_time": "2024-07-06T05:49:00.911781Z",
     "start_time": "2024-07-06T05:49:00.907291Z"
    }
   },
   "id": "85bd0d86199e9db",
   "execution_count": 15
  },
  {
   "cell_type": "markdown",
   "source": [
    "# Linear Regression\n",
    "Linear Regression to find the accuracy "
   ],
   "metadata": {
    "collapsed": false
   },
   "id": "32d9007eaf7fbd09"
  },
  {
   "cell_type": "code",
   "outputs": [
    {
     "data": {
      "text/plain": "0.4399338661568969"
     },
     "execution_count": 19,
     "metadata": {},
     "output_type": "execute_result"
    }
   ],
   "source": [
    "linear_regression = LinearRegression()\n",
    "linear_regression.fit(train_x, train_y)\n",
    "y_pred = linear_regression.predict(test_x)\n",
    "score(test_y, y_pred)"
   ],
   "metadata": {
    "collapsed": false,
    "ExecuteTime": {
     "end_time": "2024-07-06T05:51:36.314477Z",
     "start_time": "2024-07-06T05:51:36.306078Z"
    }
   },
   "id": "99eff3c9ee2a21cf",
   "execution_count": 19
  },
  {
   "cell_type": "markdown",
   "source": [
    "# Ridge Regression"
   ],
   "metadata": {
    "collapsed": false
   },
   "id": "ce63ab563f6c403c"
  },
  {
   "cell_type": "code",
   "outputs": [
    {
     "data": {
      "text/plain": "0.4535366907410563"
     },
     "execution_count": 33,
     "metadata": {},
     "output_type": "execute_result"
    }
   ],
   "source": [
    "ridge_regression = Ridge(alpha=0.2)\n",
    "ridge_regression.fit(train_x, train_y)\n",
    "y_pred = ridge_regression.predict(test_x)\n",
    "score(test_y, y_pred)"
   ],
   "metadata": {
    "collapsed": false,
    "ExecuteTime": {
     "end_time": "2024-07-06T06:32:24.524819Z",
     "start_time": "2024-07-06T06:32:24.517634Z"
    }
   },
   "id": "57e66b30438e8e67",
   "execution_count": 33
  },
  {
   "cell_type": "markdown",
   "source": [
    "# Lasso Regression"
   ],
   "metadata": {
    "collapsed": false
   },
   "id": "8da70f70689681ea"
  },
  {
   "cell_type": "code",
   "outputs": [
    {
     "data": {
      "text/plain": "0.4334618007658305"
     },
     "execution_count": 40,
     "metadata": {},
     "output_type": "execute_result"
    }
   ],
   "source": [
    "lasso_regression = Lasso(alpha=0.1)\n",
    "lasso_regression.fit(train_x, train_y)\n",
    "y_pred = lasso_regression.predict(test_x)\n",
    "score(test_y, y_pred)"
   ],
   "metadata": {
    "collapsed": false,
    "ExecuteTime": {
     "end_time": "2024-07-06T06:35:31.941167Z",
     "start_time": "2024-07-06T06:35:31.935111Z"
    }
   },
   "id": "6784362554814e57",
   "execution_count": 40
  },
  {
   "cell_type": "markdown",
   "source": [
    "# Elastic Regression\n",
    "A combination of Ridge Regression and Lasso Regression"
   ],
   "metadata": {
    "collapsed": false
   },
   "id": "786aaf48f18f8f87"
  },
  {
   "cell_type": "code",
   "outputs": [
    {
     "data": {
      "text/plain": "0.4531474541554823"
     },
     "execution_count": 52,
     "metadata": {},
     "output_type": "execute_result"
    }
   ],
   "source": [
    "elastic_regression = ElasticNet(alpha=0.005, l1_ratio = 0.9)\n",
    "elastic_regression.fit(train_x, train_y)\n",
    "y_pred = elastic_regression.predict(test_x)\n",
    "score(test_y, y_pred)"
   ],
   "metadata": {
    "collapsed": false,
    "ExecuteTime": {
     "end_time": "2024-07-06T06:39:30.628077Z",
     "start_time": "2024-07-06T06:39:30.618513Z"
    }
   },
   "id": "e4ba98a60ad68478",
   "execution_count": 52
  },
  {
   "cell_type": "code",
   "outputs": [],
   "source": [],
   "metadata": {
    "collapsed": false
   },
   "id": "760e4f3830709a82"
  }
 ],
 "metadata": {
  "kernelspec": {
   "display_name": "Python 3",
   "language": "python",
   "name": "python3"
  },
  "language_info": {
   "codemirror_mode": {
    "name": "ipython",
    "version": 2
   },
   "file_extension": ".py",
   "mimetype": "text/x-python",
   "name": "python",
   "nbconvert_exporter": "python",
   "pygments_lexer": "ipython2",
   "version": "2.7.6"
  }
 },
 "nbformat": 4,
 "nbformat_minor": 5
}
