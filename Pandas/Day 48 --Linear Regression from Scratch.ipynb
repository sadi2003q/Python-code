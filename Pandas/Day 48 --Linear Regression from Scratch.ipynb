{
 "cells": [
  {
   "cell_type": "code",
   "execution_count": 63,
   "metadata": {
    "ExecuteTime": {
     "end_time": "2024-06-02T17:11:48.524458Z",
     "start_time": "2024-06-02T17:11:48.518188Z"
    }
   },
   "outputs": [],
   "source": [
    "import pandas as pd\n",
    "\n",
    "from sklearn.model_selection import train_test_split as split"
   ]
  },
  {
   "cell_type": "code",
   "execution_count": 64,
   "metadata": {
    "ExecuteTime": {
     "end_time": "2024-06-02T17:11:48.535086Z",
     "start_time": "2024-06-02T17:11:48.527530Z"
    }
   },
   "outputs": [],
   "source": [
    "df = pd.read_csv('1D_placement.csv')"
   ]
  },
  {
   "cell_type": "code",
   "execution_count": 65,
   "metadata": {
    "ExecuteTime": {
     "end_time": "2024-06-02T17:11:48.558381Z",
     "start_time": "2024-06-02T17:11:48.551655Z"
    }
   },
   "outputs": [
    {
     "name": "stdout",
     "output_type": "stream",
     "text": [
      "<class 'pandas.core.frame.DataFrame'>\n",
      "RangeIndex: 200 entries, 0 to 199\n",
      "Data columns (total 2 columns):\n",
      " #   Column   Non-Null Count  Dtype  \n",
      "---  ------   --------------  -----  \n",
      " 0   cgpa     200 non-null    float64\n",
      " 1   package  200 non-null    float64\n",
      "dtypes: float64(2)\n",
      "memory usage: 3.3 KB\n"
     ]
    }
   ],
   "source": [
    "df.info()"
   ]
  },
  {
   "cell_type": "markdown",
   "source": [
    "# Behind the scene of Linear Regression "
   ],
   "metadata": {
    "collapsed": false
   }
  },
  {
   "cell_type": "code",
   "execution_count": 66,
   "metadata": {
    "ExecuteTime": {
     "end_time": "2024-06-02T17:11:48.563929Z",
     "start_time": "2024-06-02T17:11:48.559609Z"
    }
   },
   "outputs": [],
   "source": [
    "class Linear_Regression:\n",
    "    def __init__(self):\n",
    "        self.m = None\n",
    "        self.b = None\n",
    "    def fit(self, train_x, train_y) :\n",
    "        numeritor = 0\n",
    "        denumeritor = 0\n",
    "        \n",
    "        # Converting train_x and train_y to numpy arrays for easier indexing\n",
    "        train_x = train_x.values.flatten()\n",
    "        train_y = train_y.values.flatten()\n",
    "        \n",
    "        for i in range(train_x.shape[0]):\n",
    "            numeritor = numeritor + ((train_x[i]-train_x.mean()) * (train_y[i]-train_y[i].mean()))\n",
    "            denumeritor = denumeritor + train_x[i]-train_x.mean()*(train_x[i]-train_x.mean())\n",
    "        self.m = numeritor/denumeritor\n",
    "        self.b = train_y.mean() - (self.m * train_x.mean())\n",
    "\n",
    "        print('slop : ', self.m )\n",
    "        print('constant : ', self.b)\n",
    "        \n",
    "    def predict(self, test_x):\n",
    "        return self.m * test_x + self.b\n",
    "\n"
   ]
  },
  {
   "cell_type": "code",
   "execution_count": 67,
   "metadata": {
    "ExecuteTime": {
     "end_time": "2024-06-02T17:11:48.568549Z",
     "start_time": "2024-06-02T17:11:48.565947Z"
    }
   },
   "outputs": [],
   "source": [
    "model = Linear_Regression()"
   ]
  },
  {
   "cell_type": "code",
   "outputs": [],
   "source": [
    "train_x, test_x, train_y, test_y = split(df.drop(columns = ['package']), df['package'], test_size = 0.2, random_state = 11)"
   ],
   "metadata": {
    "collapsed": false,
    "ExecuteTime": {
     "end_time": "2024-06-02T17:11:48.574094Z",
     "start_time": "2024-06-02T17:11:48.569621Z"
    }
   },
   "execution_count": 68
  },
  {
   "cell_type": "code",
   "outputs": [
    {
     "data": {
      "text/plain": "163    3.91\n137    3.13\n30     3.26\n103    3.00\n98     3.83\nName: package, dtype: float64"
     },
     "execution_count": 69,
     "metadata": {},
     "output_type": "execute_result"
    }
   ],
   "source": [
    "train_y.head()"
   ],
   "metadata": {
    "collapsed": false,
    "ExecuteTime": {
     "end_time": "2024-06-02T17:11:48.579418Z",
     "start_time": "2024-06-02T17:11:48.575528Z"
    }
   },
   "execution_count": 69
  },
  {
   "cell_type": "code",
   "outputs": [
    {
     "name": "stdout",
     "output_type": "stream",
     "text": [
      "slop :  0.0\n",
      "constant :  3.028\n"
     ]
    }
   ],
   "source": [
    "model.fit(train_x, train_y)"
   ],
   "metadata": {
    "collapsed": false,
    "ExecuteTime": {
     "end_time": "2024-06-02T17:11:48.584291Z",
     "start_time": "2024-06-02T17:11:48.580688Z"
    }
   },
   "execution_count": 70
  },
  {
   "cell_type": "code",
   "outputs": [
    {
     "data": {
      "text/plain": "      cgpa\n174  3.028\n33   3.028\n173  3.028\n186  3.028\n22   3.028\n53   3.028\n134  3.028\n56   3.028\n143  3.028\n94   3.028\n55   3.028\n73   3.028\n130  3.028\n41   3.028\n14   3.028\n63   3.028\n16   3.028\n60   3.028\n111  3.028\n0    3.028\n2    3.028\n46   3.028\n86   3.028\n88   3.028\n61   3.028\n162  3.028\n77   3.028\n126  3.028\n198  3.028\n3    3.028\n135  3.028\n29   3.028\n25   3.028\n26   3.028\n93   3.028\n36   3.028\n83   3.028\n151  3.028\n139  3.028\n120  3.028",
      "text/html": "<div>\n<style scoped>\n    .dataframe tbody tr th:only-of-type {\n        vertical-align: middle;\n    }\n\n    .dataframe tbody tr th {\n        vertical-align: top;\n    }\n\n    .dataframe thead th {\n        text-align: right;\n    }\n</style>\n<table border=\"1\" class=\"dataframe\">\n  <thead>\n    <tr style=\"text-align: right;\">\n      <th></th>\n      <th>cgpa</th>\n    </tr>\n  </thead>\n  <tbody>\n    <tr>\n      <th>174</th>\n      <td>3.028</td>\n    </tr>\n    <tr>\n      <th>33</th>\n      <td>3.028</td>\n    </tr>\n    <tr>\n      <th>173</th>\n      <td>3.028</td>\n    </tr>\n    <tr>\n      <th>186</th>\n      <td>3.028</td>\n    </tr>\n    <tr>\n      <th>22</th>\n      <td>3.028</td>\n    </tr>\n    <tr>\n      <th>53</th>\n      <td>3.028</td>\n    </tr>\n    <tr>\n      <th>134</th>\n      <td>3.028</td>\n    </tr>\n    <tr>\n      <th>56</th>\n      <td>3.028</td>\n    </tr>\n    <tr>\n      <th>143</th>\n      <td>3.028</td>\n    </tr>\n    <tr>\n      <th>94</th>\n      <td>3.028</td>\n    </tr>\n    <tr>\n      <th>55</th>\n      <td>3.028</td>\n    </tr>\n    <tr>\n      <th>73</th>\n      <td>3.028</td>\n    </tr>\n    <tr>\n      <th>130</th>\n      <td>3.028</td>\n    </tr>\n    <tr>\n      <th>41</th>\n      <td>3.028</td>\n    </tr>\n    <tr>\n      <th>14</th>\n      <td>3.028</td>\n    </tr>\n    <tr>\n      <th>63</th>\n      <td>3.028</td>\n    </tr>\n    <tr>\n      <th>16</th>\n      <td>3.028</td>\n    </tr>\n    <tr>\n      <th>60</th>\n      <td>3.028</td>\n    </tr>\n    <tr>\n      <th>111</th>\n      <td>3.028</td>\n    </tr>\n    <tr>\n      <th>0</th>\n      <td>3.028</td>\n    </tr>\n    <tr>\n      <th>2</th>\n      <td>3.028</td>\n    </tr>\n    <tr>\n      <th>46</th>\n      <td>3.028</td>\n    </tr>\n    <tr>\n      <th>86</th>\n      <td>3.028</td>\n    </tr>\n    <tr>\n      <th>88</th>\n      <td>3.028</td>\n    </tr>\n    <tr>\n      <th>61</th>\n      <td>3.028</td>\n    </tr>\n    <tr>\n      <th>162</th>\n      <td>3.028</td>\n    </tr>\n    <tr>\n      <th>77</th>\n      <td>3.028</td>\n    </tr>\n    <tr>\n      <th>126</th>\n      <td>3.028</td>\n    </tr>\n    <tr>\n      <th>198</th>\n      <td>3.028</td>\n    </tr>\n    <tr>\n      <th>3</th>\n      <td>3.028</td>\n    </tr>\n    <tr>\n      <th>135</th>\n      <td>3.028</td>\n    </tr>\n    <tr>\n      <th>29</th>\n      <td>3.028</td>\n    </tr>\n    <tr>\n      <th>25</th>\n      <td>3.028</td>\n    </tr>\n    <tr>\n      <th>26</th>\n      <td>3.028</td>\n    </tr>\n    <tr>\n      <th>93</th>\n      <td>3.028</td>\n    </tr>\n    <tr>\n      <th>36</th>\n      <td>3.028</td>\n    </tr>\n    <tr>\n      <th>83</th>\n      <td>3.028</td>\n    </tr>\n    <tr>\n      <th>151</th>\n      <td>3.028</td>\n    </tr>\n    <tr>\n      <th>139</th>\n      <td>3.028</td>\n    </tr>\n    <tr>\n      <th>120</th>\n      <td>3.028</td>\n    </tr>\n  </tbody>\n</table>\n</div>"
     },
     "execution_count": 71,
     "metadata": {},
     "output_type": "execute_result"
    }
   ],
   "source": [
    "model.predict(test_x)"
   ],
   "metadata": {
    "collapsed": false,
    "ExecuteTime": {
     "end_time": "2024-06-02T17:11:48.592523Z",
     "start_time": "2024-06-02T17:11:48.585290Z"
    }
   },
   "execution_count": 71
  },
  {
   "cell_type": "code",
   "outputs": [],
   "source": [],
   "metadata": {
    "collapsed": false,
    "ExecuteTime": {
     "end_time": "2024-06-02T17:11:48.595391Z",
     "start_time": "2024-06-02T17:11:48.593992Z"
    }
   },
   "execution_count": 71
  }
 ],
 "metadata": {
  "kernelspec": {
   "display_name": ".venv",
   "language": "python",
   "name": "python3"
  },
  "language_info": {
   "codemirror_mode": {
    "name": "ipython",
    "version": 3
   },
   "file_extension": ".py",
   "mimetype": "text/x-python",
   "name": "python",
   "nbconvert_exporter": "python",
   "pygments_lexer": "ipython3",
   "version": "3.11.8"
  }
 },
 "nbformat": 4,
 "nbformat_minor": 2
}
