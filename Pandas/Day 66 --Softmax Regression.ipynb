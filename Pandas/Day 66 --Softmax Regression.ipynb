{
 "cells": [
  {
   "cell_type": "code",
   "execution_count": 69,
   "id": "initial_id",
   "metadata": {
    "collapsed": true,
    "ExecuteTime": {
     "end_time": "2024-07-10T13:00:50.423475Z",
     "start_time": "2024-07-10T13:00:50.421186Z"
    }
   },
   "outputs": [],
   "source": [
    "import seaborn as sns\n",
    "from sklearn.model_selection import train_test_split as split\n",
    "from sklearn.preprocessing import PolynomialFeatures, LabelEncoder\n",
    "from sklearn.linear_model import LogisticRegression\n",
    "\n",
    "from Classification_Logistic import ClassificationMetrics\n",
    "import matplotlib.pyplot as plt"
   ]
  },
  {
   "cell_type": "markdown",
   "source": [
    "# Loading The Dataset"
   ],
   "metadata": {
    "collapsed": false
   },
   "id": "e85bb185093da2d3"
  },
  {
   "cell_type": "code",
   "outputs": [],
   "source": [
    "df = sns.load_dataset('iris')"
   ],
   "metadata": {
    "collapsed": false,
    "ExecuteTime": {
     "end_time": "2024-07-10T13:00:50.464964Z",
     "start_time": "2024-07-10T13:00:50.460391Z"
    }
   },
   "id": "d1c097b4fae0a6fd",
   "execution_count": 70
  },
  {
   "cell_type": "markdown",
   "source": [
    "# Encoding"
   ],
   "metadata": {
    "collapsed": false
   },
   "id": "fd2cbd3fcddaf86b"
  },
  {
   "cell_type": "code",
   "outputs": [],
   "source": [
    "encoder = LabelEncoder()"
   ],
   "metadata": {
    "collapsed": false,
    "ExecuteTime": {
     "end_time": "2024-07-10T13:00:50.475163Z",
     "start_time": "2024-07-10T13:00:50.472744Z"
    }
   },
   "id": "c1380c2e7f3b6fd5",
   "execution_count": 71
  },
  {
   "cell_type": "code",
   "outputs": [],
   "source": [
    "df['species'] = encoder.fit_transform(df['species'])"
   ],
   "metadata": {
    "collapsed": false,
    "ExecuteTime": {
     "end_time": "2024-07-10T13:00:50.479807Z",
     "start_time": "2024-07-10T13:00:50.476323Z"
    }
   },
   "id": "6e57e63170a70096",
   "execution_count": 72
  },
  {
   "cell_type": "markdown",
   "source": [
    "# Dropping Columns "
   ],
   "metadata": {
    "collapsed": false
   },
   "id": "24e448979dbe46fa"
  },
  {
   "cell_type": "code",
   "outputs": [],
   "source": [
    "df = df.drop(columns=['sepal_width', 'petal_width'])"
   ],
   "metadata": {
    "collapsed": false,
    "ExecuteTime": {
     "end_time": "2024-07-10T13:00:50.489108Z",
     "start_time": "2024-07-10T13:00:50.487054Z"
    }
   },
   "id": "8bda2682e5487288",
   "execution_count": 73
  },
  {
   "cell_type": "markdown",
   "source": [
    "# Splitting and Apply Basic Logistic Regression"
   ],
   "metadata": {
    "collapsed": false
   },
   "id": "fe32e093a27e6df9"
  },
  {
   "cell_type": "code",
   "outputs": [],
   "source": [
    "train_x, test_x,train_y, test_y = split(df.drop(columns=['species']), df['species'], test_size=0.2)"
   ],
   "metadata": {
    "collapsed": false,
    "ExecuteTime": {
     "end_time": "2024-07-10T13:00:50.509256Z",
     "start_time": "2024-07-10T13:00:50.506205Z"
    }
   },
   "id": "f4fba84cd04b6fd7",
   "execution_count": 74
  },
  {
   "cell_type": "markdown",
   "source": [
    "## Applying Regression"
   ],
   "metadata": {
    "collapsed": false
   },
   "id": "b0badc389a39cdf5"
  },
  {
   "cell_type": "code",
   "outputs": [],
   "source": [
    "logistic_regression = LogisticRegression(multi_class='ovr')"
   ],
   "metadata": {
    "collapsed": false,
    "ExecuteTime": {
     "end_time": "2024-07-10T13:00:50.513090Z",
     "start_time": "2024-07-10T13:00:50.510840Z"
    }
   },
   "id": "a0e4f19edf5c0f68",
   "execution_count": 75
  },
  {
   "cell_type": "code",
   "outputs": [
    {
     "name": "stderr",
     "output_type": "stream",
     "text": [
      "/Users/sadi_/Coding/pythonProject/.venv/lib/python3.12/site-packages/sklearn/linear_model/_logistic.py:1256: FutureWarning: 'multi_class' was deprecated in version 1.5 and will be removed in 1.7. Use OneVsRestClassifier(LogisticRegression(..)) instead. Leave it to its default value to avoid this warning.\n",
      "  warnings.warn(\n"
     ]
    }
   ],
   "source": [
    "logistic_regression.fit(train_x, train_y)\n",
    "predictions = logistic_regression.predict(test_x)"
   ],
   "metadata": {
    "collapsed": false,
    "ExecuteTime": {
     "end_time": "2024-07-10T13:00:50.522866Z",
     "start_time": "2024-07-10T13:00:50.514353Z"
    }
   },
   "id": "beb613f61e5e8d2e",
   "execution_count": 76
  },
  {
   "cell_type": "markdown",
   "source": [
    "## Evaluation"
   ],
   "metadata": {
    "collapsed": false
   },
   "id": "faf9fffda1737ef"
  },
  {
   "cell_type": "code",
   "outputs": [],
   "source": [
    "classify = ClassificationMetrics(test_y, predictions)"
   ],
   "metadata": {
    "collapsed": false,
    "ExecuteTime": {
     "end_time": "2024-07-10T13:00:50.525940Z",
     "start_time": "2024-07-10T13:00:50.523834Z"
    }
   },
   "id": "df64cf23b85186b9",
   "execution_count": 77
  },
  {
   "cell_type": "code",
   "outputs": [
    {
     "data": {
      "text/plain": "   Accuracy  Precision    Recall  F1 Score\n0  0.966667   0.969444  0.966667   0.96628",
      "text/html": "<div>\n<style scoped>\n    .dataframe tbody tr th:only-of-type {\n        vertical-align: middle;\n    }\n\n    .dataframe tbody tr th {\n        vertical-align: top;\n    }\n\n    .dataframe thead th {\n        text-align: right;\n    }\n</style>\n<table border=\"1\" class=\"dataframe\">\n  <thead>\n    <tr style=\"text-align: right;\">\n      <th></th>\n      <th>Accuracy</th>\n      <th>Precision</th>\n      <th>Recall</th>\n      <th>F1 Score</th>\n    </tr>\n  </thead>\n  <tbody>\n    <tr>\n      <th>0</th>\n      <td>0.966667</td>\n      <td>0.969444</td>\n      <td>0.966667</td>\n      <td>0.96628</td>\n    </tr>\n  </tbody>\n</table>\n</div>"
     },
     "execution_count": 78,
     "metadata": {},
     "output_type": "execute_result"
    }
   ],
   "source": [
    "classify.get_metrics()"
   ],
   "metadata": {
    "collapsed": false,
    "ExecuteTime": {
     "end_time": "2024-07-10T13:00:50.558635Z",
     "start_time": "2024-07-10T13:00:50.549623Z"
    }
   },
   "id": "547133916360b064",
   "execution_count": 78
  },
  {
   "cell_type": "code",
   "outputs": [
    {
     "data": {
      "text/plain": "    0  1   2\n0  11  0   0\n1   0  7   1\n2   0  0  11",
      "text/html": "<div>\n<style scoped>\n    .dataframe tbody tr th:only-of-type {\n        vertical-align: middle;\n    }\n\n    .dataframe tbody tr th {\n        vertical-align: top;\n    }\n\n    .dataframe thead th {\n        text-align: right;\n    }\n</style>\n<table border=\"1\" class=\"dataframe\">\n  <thead>\n    <tr style=\"text-align: right;\">\n      <th></th>\n      <th>0</th>\n      <th>1</th>\n      <th>2</th>\n    </tr>\n  </thead>\n  <tbody>\n    <tr>\n      <th>0</th>\n      <td>11</td>\n      <td>0</td>\n      <td>0</td>\n    </tr>\n    <tr>\n      <th>1</th>\n      <td>0</td>\n      <td>7</td>\n      <td>1</td>\n    </tr>\n    <tr>\n      <th>2</th>\n      <td>0</td>\n      <td>0</td>\n      <td>11</td>\n    </tr>\n  </tbody>\n</table>\n</div>"
     },
     "execution_count": 79,
     "metadata": {},
     "output_type": "execute_result"
    }
   ],
   "source": [
    "classify.get_confusion_matrix()"
   ],
   "metadata": {
    "collapsed": false,
    "ExecuteTime": {
     "end_time": "2024-07-10T13:00:50.565189Z",
     "start_time": "2024-07-10T13:00:50.560129Z"
    }
   },
   "id": "75249cb37d97a98c",
   "execution_count": 79
  },
  {
   "cell_type": "markdown",
   "source": [
    "## Soft Max Function"
   ],
   "metadata": {
    "collapsed": false
   },
   "id": "adf8cab921aab2ac"
  },
  {
   "cell_type": "code",
   "outputs": [],
   "source": [
    "soft_max_regression = LogisticRegression(multi_class='multinomial')"
   ],
   "metadata": {
    "collapsed": false,
    "ExecuteTime": {
     "end_time": "2024-07-10T13:00:50.569047Z",
     "start_time": "2024-07-10T13:00:50.566474Z"
    }
   },
   "id": "7c43f4e83c1d4de6",
   "execution_count": 80
  },
  {
   "cell_type": "code",
   "outputs": [
    {
     "name": "stderr",
     "output_type": "stream",
     "text": [
      "/Users/sadi_/Coding/pythonProject/.venv/lib/python3.12/site-packages/sklearn/linear_model/_logistic.py:1247: FutureWarning: 'multi_class' was deprecated in version 1.5 and will be removed in 1.7. From then on, it will always use 'multinomial'. Leave it to its default value to avoid this warning.\n",
      "  warnings.warn(\n"
     ]
    }
   ],
   "source": [
    "soft_max_regression.fit(train_x, train_y)\n",
    "predictions2 = soft_max_regression.predict(test_x)"
   ],
   "metadata": {
    "collapsed": false,
    "ExecuteTime": {
     "end_time": "2024-07-10T13:00:50.578719Z",
     "start_time": "2024-07-10T13:00:50.571094Z"
    }
   },
   "id": "4db6e38cdf3df5b3",
   "execution_count": 81
  },
  {
   "cell_type": "code",
   "outputs": [],
   "source": [
    "classify = ClassificationMetrics(test_y, predictions)"
   ],
   "metadata": {
    "collapsed": false,
    "ExecuteTime": {
     "end_time": "2024-07-10T13:00:50.592946Z",
     "start_time": "2024-07-10T13:00:50.590888Z"
    }
   },
   "id": "913631f4e4b23cc4",
   "execution_count": 82
  },
  {
   "cell_type": "code",
   "outputs": [
    {
     "data": {
      "text/plain": "   Accuracy  Precision    Recall  F1 Score\n0  0.966667   0.969444  0.966667   0.96628",
      "text/html": "<div>\n<style scoped>\n    .dataframe tbody tr th:only-of-type {\n        vertical-align: middle;\n    }\n\n    .dataframe tbody tr th {\n        vertical-align: top;\n    }\n\n    .dataframe thead th {\n        text-align: right;\n    }\n</style>\n<table border=\"1\" class=\"dataframe\">\n  <thead>\n    <tr style=\"text-align: right;\">\n      <th></th>\n      <th>Accuracy</th>\n      <th>Precision</th>\n      <th>Recall</th>\n      <th>F1 Score</th>\n    </tr>\n  </thead>\n  <tbody>\n    <tr>\n      <th>0</th>\n      <td>0.966667</td>\n      <td>0.969444</td>\n      <td>0.966667</td>\n      <td>0.96628</td>\n    </tr>\n  </tbody>\n</table>\n</div>"
     },
     "execution_count": 83,
     "metadata": {},
     "output_type": "execute_result"
    }
   ],
   "source": [
    "classify.get_metrics()"
   ],
   "metadata": {
    "collapsed": false,
    "ExecuteTime": {
     "end_time": "2024-07-10T13:00:50.634877Z",
     "start_time": "2024-07-10T13:00:50.627778Z"
    }
   },
   "id": "2c64eaa6a229d5ef",
   "execution_count": 83
  },
  {
   "cell_type": "code",
   "outputs": [
    {
     "data": {
      "text/plain": "    0  1   2\n0  11  0   0\n1   0  7   1\n2   0  0  11",
      "text/html": "<div>\n<style scoped>\n    .dataframe tbody tr th:only-of-type {\n        vertical-align: middle;\n    }\n\n    .dataframe tbody tr th {\n        vertical-align: top;\n    }\n\n    .dataframe thead th {\n        text-align: right;\n    }\n</style>\n<table border=\"1\" class=\"dataframe\">\n  <thead>\n    <tr style=\"text-align: right;\">\n      <th></th>\n      <th>0</th>\n      <th>1</th>\n      <th>2</th>\n    </tr>\n  </thead>\n  <tbody>\n    <tr>\n      <th>0</th>\n      <td>11</td>\n      <td>0</td>\n      <td>0</td>\n    </tr>\n    <tr>\n      <th>1</th>\n      <td>0</td>\n      <td>7</td>\n      <td>1</td>\n    </tr>\n    <tr>\n      <th>2</th>\n      <td>0</td>\n      <td>0</td>\n      <td>11</td>\n    </tr>\n  </tbody>\n</table>\n</div>"
     },
     "execution_count": 84,
     "metadata": {},
     "output_type": "execute_result"
    }
   ],
   "source": [
    "classify.get_confusion_matrix()"
   ],
   "metadata": {
    "collapsed": false,
    "ExecuteTime": {
     "end_time": "2024-07-10T13:00:50.676193Z",
     "start_time": "2024-07-10T13:00:50.671514Z"
    }
   },
   "id": "418c2ede560a3ef2",
   "execution_count": 84
  },
  {
   "cell_type": "code",
   "outputs": [],
   "source": [],
   "metadata": {
    "collapsed": false,
    "ExecuteTime": {
     "end_time": "2024-07-10T13:00:50.689750Z",
     "start_time": "2024-07-10T13:00:50.688338Z"
    }
   },
   "id": "377ace89277bb0b9",
   "execution_count": 84
  },
  {
   "cell_type": "code",
   "outputs": [
    {
     "name": "stderr",
     "output_type": "stream",
     "text": [
      "/Users/sadi_/Coding/pythonProject/.venv/lib/python3.12/site-packages/sklearn/base.py:493: UserWarning: X does not have valid feature names, but LogisticRegression was fitted with feature names\n",
      "  warnings.warn(\n"
     ]
    },
    {
     "data": {
      "text/plain": "<Figure size 640x480 with 1 Axes>",
      "image/png": "[encoded data removed]"
     },
     "metadata": {},
     "output_type": "display_data"
    }
   ],
   "source": [
    "from mlxtend.plotting import plot_decision_regions\n",
    "import numpy as np\n",
    "plot_decision_regions(df.iloc[:,0:2].values, df.iloc[:,-1].values, logistic_regression, legend=2)\n",
    "\n",
    "# Adding axes annotations\n",
    "plt.xlabel('sepal length [cm]')\n",
    "plt.xlabel('petal length [cm]')\n",
    "plt.title('Softmax on Iris')\n",
    "\n",
    "plt.show()"
   ],
   "metadata": {
    "collapsed": false,
    "ExecuteTime": {
     "end_time": "2024-07-10T13:00:50.963725Z",
     "start_time": "2024-07-10T13:00:50.701500Z"
    }
   },
   "id": "82414f3c2ab93b42",
   "execution_count": 85
  },
  {
   "cell_type": "code",
   "outputs": [
    {
     "name": "stderr",
     "output_type": "stream",
     "text": [
      "/Users/sadi_/Coding/pythonProject/.venv/lib/python3.12/site-packages/sklearn/base.py:493: UserWarning: X does not have valid feature names, but LogisticRegression was fitted with feature names\n",
      "  warnings.warn(\n"
     ]
    },
    {
     "data": {
      "text/plain": "<Figure size 640x480 with 1 Axes>",
      "image/png": "[encoded data removed]"
     },
     "metadata": {},
     "output_type": "display_data"
    }
   ],
   "source": [
    "from mlxtend.plotting import plot_decision_regions\n",
    "import numpy as np\n",
    "plot_decision_regions(df.iloc[:,0:2].values, df.iloc[:,-1].values, soft_max_regression, legend=2)\n",
    "\n",
    "# Adding axes annotations\n",
    "plt.xlabel('sepal length [cm]')\n",
    "plt.xlabel('petal length [cm]')\n",
    "plt.title('Softmax on Iris')\n",
    "\n",
    "plt.show()"
   ],
   "metadata": {
    "collapsed": false,
    "ExecuteTime": {
     "end_time": "2024-07-10T13:00:51.155009Z",
     "start_time": "2024-07-10T13:00:50.967122Z"
    }
   },
   "id": "14db581b80e9fd2b",
   "execution_count": 86
  },
  {
   "cell_type": "code",
   "outputs": [],
   "source": [],
   "metadata": {
    "collapsed": false,
    "ExecuteTime": {
     "end_time": "2024-07-10T13:00:51.160659Z",
     "start_time": "2024-07-10T13:00:51.157629Z"
    }
   },
   "id": "119313d6c91c15e2",
   "execution_count": 86
  }
 ],
 "metadata": {
  "kernelspec": {
   "display_name": "Python 3",
   "language": "python",
   "name": "python3"
  },
  "language_info": {
   "codemirror_mode": {
    "name": "ipython",
    "version": 2
   },
   "file_extension": ".py",
   "mimetype": "text/x-python",
   "name": "python",
   "nbconvert_exporter": "python",
   "pygments_lexer": "ipython2",
   "version": "2.7.6"
  }
 },
 "nbformat": 4,
 "nbformat_minor": 5
}
