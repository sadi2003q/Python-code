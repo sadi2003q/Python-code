{
 "cells": [
  {
   "cell_type": "code",
   "execution_count": 148,
   "id": "initial_id",
   "metadata": {
    "collapsed": true,
    "ExecuteTime": {
     "end_time": "2024-04-29T11:40:53.840122Z",
     "start_time": "2024-04-29T11:40:53.837210Z"
    }
   },
   "outputs": [],
   "source": [
    "import requests as rq\n",
    "from bs4 import BeautifulSoup\n",
    "import pandas as pd\n",
    "import numpy as np"
   ]
  },
  {
   "cell_type": "markdown",
   "source": [
    "# container : div -> class = companyCardWrapper__metaInformation \n",
    "## company Name : \n",
    "    h2\n",
    "    class = companyCardWrapper__companyName\n",
    "## company rating :\n",
    "    span\n",
    "    class = companyCardWrapper__companyRatingValue\n",
    "## company information :\n",
    "    span\n",
    "    class = companyCardWrapper__interLinking\n",
    "## Highly rated for:\n",
    "    span\n",
    "    class = companyCardWrapper__ratingValues \n",
    "    \n",
    "# div = companyCardWrapper__tertiaryInformation\n",
    " \n",
    "## Review count:\n",
    "    span\n",
    "    class = companyCardWrapper__ActionCount\n",
    "## salary \n",
    "    span\n",
    "    class companyCardWrapper__ActionCount"
   ],
   "metadata": {
    "collapsed": false
   },
   "id": "f9b10238d1c91583"
  },
  {
   "cell_type": "code",
   "outputs": [],
   "source": [
    "url = 'https://www.ambitionbox.com/list-of-companies?page=1'\n",
    "headers = { 'User-Agent': 'Mozilla/5.0 (Macintosh; Intel Mac OS X 10_15_7) AppleWebKit/537.36 (KHTML, like Gecko) Chrome/80.0.3987.162 Safari/537.36' }\n"
   ],
   "metadata": {
    "collapsed": false,
    "ExecuteTime": {
     "end_time": "2024-04-29T11:40:53.856497Z",
     "start_time": "2024-04-29T11:40:53.854336Z"
    }
   },
   "id": "cf770353780ad00b",
   "execution_count": 149
  },
  {
   "cell_type": "code",
   "outputs": [
    {
     "data": {
      "text/plain": "                      Name Rating                info  \\\n12  Roquette Riddhi Siddhi    3.9    1k-5k Employees    \n9          Resurgent India    4.6  201-500 Employees    \n18                  Google    4.4           Internet    \n16                 Bisleri    4.2           Beverage    \n5            Oberoi Realty    3.9        Real Estate    \n\n                                                Value  \n12  Company Culture, Skill Development / Learning,...  \n9   Company Culture, Job Security, Skill Developme...  \n18  Company Culture, Salary & Benefits, Work Life ...  \n16  Job Security, Work Life Balance, Salary & Bene...  \n5   Work Life Balance, Job Security, Salary & Bene...  ",
      "text/html": "<div>\n<style scoped>\n    .dataframe tbody tr th:only-of-type {\n        vertical-align: middle;\n    }\n\n    .dataframe tbody tr th {\n        vertical-align: top;\n    }\n\n    .dataframe thead th {\n        text-align: right;\n    }\n</style>\n<table border=\"1\" class=\"dataframe\">\n  <thead>\n    <tr style=\"text-align: right;\">\n      <th></th>\n      <th>Name</th>\n      <th>Rating</th>\n      <th>info</th>\n      <th>Value</th>\n    </tr>\n  </thead>\n  <tbody>\n    <tr>\n      <th>12</th>\n      <td>Roquette Riddhi Siddhi</td>\n      <td>3.9</td>\n      <td>1k-5k Employees</td>\n      <td>Company Culture, Skill Development / Learning,...</td>\n    </tr>\n    <tr>\n      <th>9</th>\n      <td>Resurgent India</td>\n      <td>4.6</td>\n      <td>201-500 Employees</td>\n      <td>Company Culture, Job Security, Skill Developme...</td>\n    </tr>\n    <tr>\n      <th>18</th>\n      <td>Google</td>\n      <td>4.4</td>\n      <td>Internet</td>\n      <td>Company Culture, Salary &amp; Benefits, Work Life ...</td>\n    </tr>\n    <tr>\n      <th>16</th>\n      <td>Bisleri</td>\n      <td>4.2</td>\n      <td>Beverage</td>\n      <td>Job Security, Work Life Balance, Salary &amp; Bene...</td>\n    </tr>\n    <tr>\n      <th>5</th>\n      <td>Oberoi Realty</td>\n      <td>3.9</td>\n      <td>Real Estate</td>\n      <td>Work Life Balance, Job Security, Salary &amp; Bene...</td>\n    </tr>\n  </tbody>\n</table>\n</div>"
     },
     "execution_count": 150,
     "metadata": {},
     "output_type": "execute_result"
    }
   ],
   "source": [
    "import requests as rq\n",
    "from bs4 import BeautifulSoup\n",
    "import pandas as pd\n",
    "import numpy as np\n",
    "\n",
    "final = pd.DataFrame()\n",
    "headers = {\"User-Agent\": \"Mozilla/5.0\"}\n",
    "\n",
    "for i in range(1, 333):\n",
    "    company = rq.get('https://www.ambitionbox.com/list-of-companies?page={}'.format(i), headers=headers).text.strip()\n",
    "    soup = BeautifulSoup(company, 'html.parser')\n",
    "    \n",
    "    name = []\n",
    "    rating = []\n",
    "    values = []\n",
    "    info = []\n",
    "    type = []\n",
    "    for j in soup.find_all('div', class_='companyCardWrapper__metaInformation'):\n",
    "        try:\n",
    "            name.append(j.find('h2', class_='companyCardWrapper__companyName').text.strip())\n",
    "        except:\n",
    "            name.append(np.nan)\n",
    "        \n",
    "        try:\n",
    "            rating.append(j.find('span', class_='companyCardWrapper__companyRatingValue').text.strip())\n",
    "        except:\n",
    "            rating.append(np.nan)\n",
    "        \n",
    "        try:\n",
    "            values.append(j.find('span', class_='companyCardWrapper__ratingValues').text.strip())\n",
    "        except:\n",
    "            values.append(np.nan)\n",
    "        try:\n",
    "            info_text = j.find('div', class_='companyCardWrapper__interLinkingWrapper').text.strip().split('|')[0]\n",
    "            info.append(info_text)\n",
    "        except:\n",
    "            info.append(np.nan)\n",
    "       \n",
    "    df = pd.DataFrame({'Name': name, 'Rating': rating, 'info': info, 'Value': values})\n",
    "    final = pd.concat([final, df])\n",
    "\n",
    "final.sample(5)\n"
   ],
   "metadata": {
    "collapsed": false,
    "ExecuteTime": {
     "end_time": "2024-04-29T11:45:54.824598Z",
     "start_time": "2024-04-29T11:40:53.868838Z"
    }
   },
   "id": "c9f5980d0f45512e",
   "execution_count": 150
  },
  {
   "cell_type": "code",
   "outputs": [
    {
     "data": {
      "text/plain": "(6640, 4)"
     },
     "execution_count": 151,
     "metadata": {},
     "output_type": "execute_result"
    }
   ],
   "source": [
    "final.shape"
   ],
   "metadata": {
    "collapsed": false,
    "ExecuteTime": {
     "end_time": "2024-04-29T11:45:54.827967Z",
     "start_time": "2024-04-29T11:45:54.825826Z"
    }
   },
   "id": "95d37e2af1fc0fe3",
   "execution_count": 151
  },
  {
   "cell_type": "code",
   "outputs": [],
   "source": [
    "final.to_csv('companyInfo.csv')"
   ],
   "metadata": {
    "collapsed": false,
    "ExecuteTime": {
     "end_time": "2024-04-29T11:45:54.845835Z",
     "start_time": "2024-04-29T11:45:54.828742Z"
    }
   },
   "id": "340956cd2214ed3e",
   "execution_count": 152
  }
 ],
 "metadata": {
  "kernelspec": {
   "display_name": "Python 3",
   "language": "python",
   "name": "python3"
  },
  "language_info": {
   "codemirror_mode": {
    "name": "ipython",
    "version": 2
   },
   "file_extension": ".py",
   "mimetype": "text/x-python",
   "name": "python",
   "nbconvert_exporter": "python",
   "pygments_lexer": "ipython2",
   "version": "2.7.6"
  }
 },
 "nbformat": 4,
 "nbformat_minor": 5
}
