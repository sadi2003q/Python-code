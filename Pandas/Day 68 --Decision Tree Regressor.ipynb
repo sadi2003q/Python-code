{
 "cells": [
  {
   "cell_type": "markdown",
   "source": [
    "# Load Datasets"
   ],
   "metadata": {
    "collapsed": false
   },
   "id": "d46927c3d0cf0118"
  },
  {
   "cell_type": "code",
   "execution_count": 87,
   "id": "initial_id",
   "metadata": {
    "collapsed": true,
    "ExecuteTime": {
     "end_time": "2024-07-15T04:35:18.888201Z",
     "start_time": "2024-07-15T04:35:18.880366Z"
    }
   },
   "outputs": [],
   "source": [
    "from sklearn import datasets"
   ]
  },
  {
   "cell_type": "code",
   "outputs": [],
   "source": [
    "california = datasets.fetch_california_housing()"
   ],
   "metadata": {
    "collapsed": false,
    "ExecuteTime": {
     "end_time": "2024-07-15T04:35:18.928493Z",
     "start_time": "2024-07-15T04:35:18.903646Z"
    }
   },
   "id": "69bda907fe604a87",
   "execution_count": 88
  },
  {
   "cell_type": "markdown",
   "source": [
    "# Training the model"
   ],
   "metadata": {
    "collapsed": false
   },
   "id": "e9dbadef63d5e028"
  },
  {
   "cell_type": "code",
   "outputs": [],
   "source": [
    "from sklearn.tree import DecisionTreeRegressor\n",
    "from Model_Training import Model_Training"
   ],
   "metadata": {
    "collapsed": false,
    "ExecuteTime": {
     "end_time": "2024-07-15T04:35:18.932419Z",
     "start_time": "2024-07-15T04:35:18.929605Z"
    }
   },
   "id": "dfbb65c75501b7b1",
   "execution_count": 89
  },
  {
   "cell_type": "code",
   "outputs": [],
   "source": [
    "model = Model_Training(DecisionTreeRegressor(max_depth=10), california.data, california.target)"
   ],
   "metadata": {
    "collapsed": false,
    "ExecuteTime": {
     "end_time": "2024-07-15T04:35:18.936346Z",
     "start_time": "2024-07-15T04:35:18.933565Z"
    }
   },
   "id": "6413e2a6780fa55f",
   "execution_count": 90
  },
  {
   "cell_type": "markdown",
   "source": [
    "# Evaluation"
   ],
   "metadata": {
    "collapsed": false
   },
   "id": "23f432f3ee227240"
  },
  {
   "cell_type": "code",
   "outputs": [],
   "source": [
    "score = model.run()"
   ],
   "metadata": {
    "collapsed": false,
    "ExecuteTime": {
     "end_time": "2024-07-15T04:35:19.027007Z",
     "start_time": "2024-07-15T04:35:18.937581Z"
    }
   },
   "id": "a6e68047f358af49",
   "execution_count": 91
  },
  {
   "cell_type": "code",
   "outputs": [
    {
     "data": {
      "text/plain": "   r2_score  mean_absolute_error  mean_squared_error\n0   0.71356               0.4002            0.424704",
      "text/html": "<div>\n<style scoped>\n    .dataframe tbody tr th:only-of-type {\n        vertical-align: middle;\n    }\n\n    .dataframe tbody tr th {\n        vertical-align: top;\n    }\n\n    .dataframe thead th {\n        text-align: right;\n    }\n</style>\n<table border=\"1\" class=\"dataframe\">\n  <thead>\n    <tr style=\"text-align: right;\">\n      <th></th>\n      <th>r2_score</th>\n      <th>mean_absolute_error</th>\n      <th>mean_squared_error</th>\n    </tr>\n  </thead>\n  <tbody>\n    <tr>\n      <th>0</th>\n      <td>0.71356</td>\n      <td>0.4002</td>\n      <td>0.424704</td>\n    </tr>\n  </tbody>\n</table>\n</div>"
     },
     "execution_count": 92,
     "metadata": {},
     "output_type": "execute_result"
    }
   ],
   "source": [
    "score.get_score()"
   ],
   "metadata": {
    "collapsed": false,
    "ExecuteTime": {
     "end_time": "2024-07-15T04:35:19.034194Z",
     "start_time": "2024-07-15T04:35:19.027633Z"
    }
   },
   "id": "77006e1da8d96192",
   "execution_count": 92
  }
 ],
 "metadata": {
  "kernelspec": {
   "display_name": "Python 3",
   "language": "python",
   "name": "python3"
  },
  "language_info": {
   "codemirror_mode": {
    "name": "ipython",
    "version": 2
   },
   "file_extension": ".py",
   "mimetype": "text/x-python",
   "name": "python",
   "nbconvert_exporter": "python",
   "pygments_lexer": "ipython2",
   "version": "2.7.6"
  }
 },
 "nbformat": 4,
 "nbformat_minor": 5
}
