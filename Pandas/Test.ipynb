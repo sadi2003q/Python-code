{
 "cells": [
  {
   "cell_type": "code",
   "outputs": [],
   "source": [
    "import pandas as pd\n",
    "import matplotlib.pyplot as plt\n",
    "\n",
    "\n",
    "from sklearn.model_selection import train_test_split\n",
    "from sklearn.compose import ColumnTransformer \n",
    "from sklearn.impute import SimpleImputer as imputer"
   ],
   "metadata": {
    "collapsed": false,
    "ExecuteTime": {
     "end_time": "2024-05-21T04:32:46.384811Z",
     "start_time": "2024-05-21T04:32:46.380892Z"
    }
   },
   "id": "75b0d135ca55dc9b",
   "execution_count": 45
  },
  {
   "cell_type": "code",
   "outputs": [],
   "source": [
    "df = pd.read_csv('lifeExpectancy.csv')"
   ],
   "metadata": {
    "collapsed": false,
    "ExecuteTime": {
     "end_time": "2024-05-21T04:32:46.400493Z",
     "start_time": "2024-05-21T04:32:46.387052Z"
    }
   },
   "id": "3b94b8a8db720816",
   "execution_count": 46
  },
  {
   "cell_type": "code",
   "outputs": [],
   "source": [
    "cols = [var for var in df.columns if 0.05 >= df[var].isnull().mean() > 0.0]"
   ],
   "metadata": {
    "collapsed": false,
    "ExecuteTime": {
     "end_time": "2024-05-21T04:32:46.406439Z",
     "start_time": "2024-05-21T04:32:46.401369Z"
    }
   },
   "id": "208bb5a8ce52b1cb",
   "execution_count": 47
  },
  {
   "cell_type": "code",
   "outputs": [],
   "source": [
    "df1 = df[cols]"
   ],
   "metadata": {
    "collapsed": false,
    "ExecuteTime": {
     "end_time": "2024-05-21T04:32:46.411376Z",
     "start_time": "2024-05-21T04:32:46.408250Z"
    }
   },
   "id": "52e61998d721342e",
   "execution_count": 48
  },
  {
   "cell_type": "code",
   "outputs": [
    {
     "data": {
      "text/plain": "Life expectancy          0.003404\nAdult Mortality          0.003404\n BMI                     0.011572\nPolio                    0.006467\nDiphtheria               0.006467\n thinness  1-19 years    0.011572\n thinness 5-9 years      0.011572\ndtype: float64"
     },
     "execution_count": 49,
     "metadata": {},
     "output_type": "execute_result"
    }
   ],
   "source": [
    "df1.isnull().mean()"
   ],
   "metadata": {
    "collapsed": false,
    "ExecuteTime": {
     "end_time": "2024-05-21T04:32:46.416743Z",
     "start_time": "2024-05-21T04:32:46.412467Z"
    }
   },
   "id": "587b5989db3394d9",
   "execution_count": 49
  },
  {
   "cell_type": "code",
   "outputs": [],
   "source": [
    "df2 = df.drop(columns = cols)"
   ],
   "metadata": {
    "collapsed": false,
    "ExecuteTime": {
     "end_time": "2024-05-21T04:33:28.391120Z",
     "start_time": "2024-05-21T04:33:28.386054Z"
    }
   },
   "id": "9c7d6ecf995da65f",
   "execution_count": 53
  },
  {
   "cell_type": "code",
   "outputs": [
    {
     "data": {
      "text/plain": "                          Country  Year      Status  infant deaths  Alcohol  \\\n1536                    Lithuania  2001   Developed              0    10.20   \n2788  United Republic of Tanzania  2005  Developing             97     3.94   \n1234                         Iraq  2015  Developing             32      NaN   \n1116                       Guyana  2005  Developing              1     7.35   \n459                    Cabo Verde  2004  Developing              0     4.19   \n1395                       Kuwait  2014  Developing              0     0.01   \n572                         China  2003  Developing            391     2.96   \n1546                   Luxembourg  2007   Developed              0    11.75   \n1349                   Kazakhstan  2012  Developing              6     6.82   \n1869                    Nicaragua  2007  Developing              3     3.83   \n\n      percentage expenditure  Hepatitis B  Measles   under-five deaths   \\\n1536               42.872087         95.0         7                   0   \n2788                0.000000          9.0        23                 149   \n1234                0.000000         56.0      1433                  38   \n1116               17.464059         93.0         0                   1   \n459               240.139715         91.0         0                   0   \n1395             2480.896965         96.0        55                   1   \n572               122.936535         75.0     71879                 467   \n1546              267.051312         87.0         0                   0   \n1349              235.356607         95.0        55                   7   \n1869              253.000781         93.0         0                   4   \n\n      Total expenditure   HIV/AIDS           GDP  Population  \\\n1536               6.26        0.1    353.147337    347818.0   \n2788               4.66       10.0           NaN         NaN   \n1234                NaN        0.1   4974.269300  36115649.0   \n1116               5.83        1.8    198.455216     75946.0   \n459                5.60        0.8   1976.458560    467664.0   \n1395               3.40        0.1  42996.481200         NaN   \n572                4.82        0.1   1288.642924     12884.0   \n1546               6.80        0.1   1618.492800    479993.0   \n1349               4.32        0.1  12387.189820  16791425.0   \n1869               6.91        0.2   1344.318710    552216.0   \n\n      Income composition of resources  Schooling  \n1536                            0.757       14.7  \n2788                              NaN        NaN  \n1234                            0.649       10.1  \n1116                            0.619       11.4  \n459                             0.574       11.1  \n1395                            0.787       13.0  \n572                             0.610        9.9  \n1546                            0.877       13.5  \n1349                            0.774       14.7  \n1869                            0.601       11.0  ",
      "text/html": "<div>\n<style scoped>\n    .dataframe tbody tr th:only-of-type {\n        vertical-align: middle;\n    }\n\n    .dataframe tbody tr th {\n        vertical-align: top;\n    }\n\n    .dataframe thead th {\n        text-align: right;\n    }\n</style>\n<table border=\"1\" class=\"dataframe\">\n  <thead>\n    <tr style=\"text-align: right;\">\n      <th></th>\n      <th>Country</th>\n      <th>Year</th>\n      <th>Status</th>\n      <th>infant deaths</th>\n      <th>Alcohol</th>\n      <th>percentage expenditure</th>\n      <th>Hepatitis B</th>\n      <th>Measles</th>\n      <th>under-five deaths</th>\n      <th>Total expenditure</th>\n      <th>HIV/AIDS</th>\n      <th>GDP</th>\n      <th>Population</th>\n      <th>Income composition of resources</th>\n      <th>Schooling</th>\n    </tr>\n  </thead>\n  <tbody>\n    <tr>\n      <th>1536</th>\n      <td>Lithuania</td>\n      <td>2001</td>\n      <td>Developed</td>\n      <td>0</td>\n      <td>10.20</td>\n      <td>42.872087</td>\n      <td>95.0</td>\n      <td>7</td>\n      <td>0</td>\n      <td>6.26</td>\n      <td>0.1</td>\n      <td>353.147337</td>\n      <td>347818.0</td>\n      <td>0.757</td>\n      <td>14.7</td>\n    </tr>\n    <tr>\n      <th>2788</th>\n      <td>United Republic of Tanzania</td>\n      <td>2005</td>\n      <td>Developing</td>\n      <td>97</td>\n      <td>3.94</td>\n      <td>0.000000</td>\n      <td>9.0</td>\n      <td>23</td>\n      <td>149</td>\n      <td>4.66</td>\n      <td>10.0</td>\n      <td>NaN</td>\n      <td>NaN</td>\n      <td>NaN</td>\n      <td>NaN</td>\n    </tr>\n    <tr>\n      <th>1234</th>\n      <td>Iraq</td>\n      <td>2015</td>\n      <td>Developing</td>\n      <td>32</td>\n      <td>NaN</td>\n      <td>0.000000</td>\n      <td>56.0</td>\n      <td>1433</td>\n      <td>38</td>\n      <td>NaN</td>\n      <td>0.1</td>\n      <td>4974.269300</td>\n      <td>36115649.0</td>\n      <td>0.649</td>\n      <td>10.1</td>\n    </tr>\n    <tr>\n      <th>1116</th>\n      <td>Guyana</td>\n      <td>2005</td>\n      <td>Developing</td>\n      <td>1</td>\n      <td>7.35</td>\n      <td>17.464059</td>\n      <td>93.0</td>\n      <td>0</td>\n      <td>1</td>\n      <td>5.83</td>\n      <td>1.8</td>\n      <td>198.455216</td>\n      <td>75946.0</td>\n      <td>0.619</td>\n      <td>11.4</td>\n    </tr>\n    <tr>\n      <th>459</th>\n      <td>Cabo Verde</td>\n      <td>2004</td>\n      <td>Developing</td>\n      <td>0</td>\n      <td>4.19</td>\n      <td>240.139715</td>\n      <td>91.0</td>\n      <td>0</td>\n      <td>0</td>\n      <td>5.60</td>\n      <td>0.8</td>\n      <td>1976.458560</td>\n      <td>467664.0</td>\n      <td>0.574</td>\n      <td>11.1</td>\n    </tr>\n    <tr>\n      <th>1395</th>\n      <td>Kuwait</td>\n      <td>2014</td>\n      <td>Developing</td>\n      <td>0</td>\n      <td>0.01</td>\n      <td>2480.896965</td>\n      <td>96.0</td>\n      <td>55</td>\n      <td>1</td>\n      <td>3.40</td>\n      <td>0.1</td>\n      <td>42996.481200</td>\n      <td>NaN</td>\n      <td>0.787</td>\n      <td>13.0</td>\n    </tr>\n    <tr>\n      <th>572</th>\n      <td>China</td>\n      <td>2003</td>\n      <td>Developing</td>\n      <td>391</td>\n      <td>2.96</td>\n      <td>122.936535</td>\n      <td>75.0</td>\n      <td>71879</td>\n      <td>467</td>\n      <td>4.82</td>\n      <td>0.1</td>\n      <td>1288.642924</td>\n      <td>12884.0</td>\n      <td>0.610</td>\n      <td>9.9</td>\n    </tr>\n    <tr>\n      <th>1546</th>\n      <td>Luxembourg</td>\n      <td>2007</td>\n      <td>Developed</td>\n      <td>0</td>\n      <td>11.75</td>\n      <td>267.051312</td>\n      <td>87.0</td>\n      <td>0</td>\n      <td>0</td>\n      <td>6.80</td>\n      <td>0.1</td>\n      <td>1618.492800</td>\n      <td>479993.0</td>\n      <td>0.877</td>\n      <td>13.5</td>\n    </tr>\n    <tr>\n      <th>1349</th>\n      <td>Kazakhstan</td>\n      <td>2012</td>\n      <td>Developing</td>\n      <td>6</td>\n      <td>6.82</td>\n      <td>235.356607</td>\n      <td>95.0</td>\n      <td>55</td>\n      <td>7</td>\n      <td>4.32</td>\n      <td>0.1</td>\n      <td>12387.189820</td>\n      <td>16791425.0</td>\n      <td>0.774</td>\n      <td>14.7</td>\n    </tr>\n    <tr>\n      <th>1869</th>\n      <td>Nicaragua</td>\n      <td>2007</td>\n      <td>Developing</td>\n      <td>3</td>\n      <td>3.83</td>\n      <td>253.000781</td>\n      <td>93.0</td>\n      <td>0</td>\n      <td>4</td>\n      <td>6.91</td>\n      <td>0.2</td>\n      <td>1344.318710</td>\n      <td>552216.0</td>\n      <td>0.601</td>\n      <td>11.0</td>\n    </tr>\n  </tbody>\n</table>\n</div>"
     },
     "execution_count": 54,
     "metadata": {},
     "output_type": "execute_result"
    }
   ],
   "source": [
    "df2.sample(10)"
   ],
   "metadata": {
    "collapsed": false,
    "ExecuteTime": {
     "end_time": "2024-05-21T04:33:29.338930Z",
     "start_time": "2024-05-21T04:33:29.322676Z"
    }
   },
   "id": "2818c5910adbc1b7",
   "execution_count": 54
  },
  {
   "cell_type": "code",
   "outputs": [
    {
     "data": {
      "text/plain": "Country                             0.000000\nYear                                0.000000\nStatus                              0.000000\ninfant deaths                       0.000000\nAlcohol                             6.603131\npercentage expenditure              0.000000\nHepatitis B                        18.822328\nMeasles                             0.000000\nunder-five deaths                   0.000000\nTotal expenditure                   7.692308\n HIV/AIDS                           0.000000\nGDP                                15.248468\nPopulation                         22.191967\nIncome composition of resources     5.684139\nSchooling                           5.547992\ndtype: float64"
     },
     "execution_count": 58,
     "metadata": {},
     "output_type": "execute_result"
    }
   ],
   "source": [
    "df2.isnull().mean()*100\n",
    "# Alcohol, Hepatitis B, Total expenditure"
   ],
   "metadata": {
    "collapsed": false,
    "ExecuteTime": {
     "end_time": "2024-05-21T04:36:09.323254Z",
     "start_time": "2024-05-21T04:36:09.317009Z"
    }
   },
   "id": "1b89f85a76419136",
   "execution_count": 58
  },
  {
   "cell_type": "code",
   "outputs": [],
   "source": [],
   "metadata": {
    "collapsed": false
   },
   "id": "c4211b1b85f77673"
  }
 ],
 "metadata": {
  "kernelspec": {
   "display_name": "Python 3",
   "language": "python",
   "name": "python3"
  },
  "language_info": {
   "codemirror_mode": {
    "name": "ipython",
    "version": 2
   },
   "file_extension": ".py",
   "mimetype": "text/x-python",
   "name": "python",
   "nbconvert_exporter": "python",
   "pygments_lexer": "ipython2",
   "version": "2.7.6"
  }
 },
 "nbformat": 4,
 "nbformat_minor": 5
}
