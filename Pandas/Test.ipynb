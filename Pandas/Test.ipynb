{
 "cells": [
  {
   "cell_type": "code",
   "execution_count": 1,
   "id": "initial_id",
   "metadata": {
    "collapsed": true,
    "ExecuteTime": {
     "end_time": "2024-05-20T03:21:00.425781Z",
     "start_time": "2024-05-20T03:20:58.831702Z"
    }
   },
   "outputs": [],
   "source": [
    "import pandas as pd\n",
    "import numpy as np"
   ]
  },
  {
   "cell_type": "code",
   "outputs": [],
   "source": [
    "df = pd.read_csv('lifeExpectancy.csv')"
   ],
   "metadata": {
    "collapsed": false,
    "ExecuteTime": {
     "end_time": "2024-05-20T03:21:38.261464Z",
     "start_time": "2024-05-20T03:21:38.250069Z"
    }
   },
   "id": "ada5c50d350ac37d",
   "execution_count": 2
  },
  {
   "cell_type": "code",
   "outputs": [
    {
     "data": {
      "text/plain": "                                    Country  Year      Status  \\\n718   Democratic People's Republic of Korea  2002  Developing   \n672                                    Cuba  2000  Developing   \n2742                                Ukraine  2003  Developing   \n2192       Saint Vincent and the Grenadines  2007  Developing   \n1262                                Ireland  2003   Developed   \n1663                             Mauritania  2003  Developing   \n1524                              Lithuania  2013   Developed   \n1043                                Grenada  2014  Developing   \n1187                                  India  2014  Developing   \n557                                   Chile  2002  Developing   \n\n      Life expectancy   Adult Mortality  infant deaths  Alcohol  \\\n718               67.6            167.0             14     3.08   \n672               76.9            115.0              1     3.92   \n2742              67.6            256.0              6     5.92   \n2192              71.9             17.0              0     5.89   \n1262              78.0             82.0              0    13.24   \n1663              63.0            226.0              8     0.01   \n1524              73.0            178.0              0    15.04   \n1043              73.5            143.0              0     8.42   \n1187              68.0            184.0            957     3.07   \n557               77.8             11.0              2     6.06   \n\n      percentage expenditure  Hepatitis B  Measles   ...  Polio  \\\n718                 0.000000          NaN         0  ...   99.0   \n672                49.340078         98.0         0  ...   98.0   \n2742               21.223864         77.0       411  ...   99.0   \n2192                0.000000         99.0         0  ...   99.0   \n1262              675.213472          NaN       584  ...   86.0   \n1663               29.653709          NaN      3611  ...   75.0   \n1524             1968.816817         93.0        35  ...   93.0   \n1043              789.276461         97.0         0  ...   81.0   \n1187               86.521539         79.0     79563  ...   84.0   \n557               675.780844          NaN         0  ...   97.0   \n\n      Total expenditure  Diphtheria    HIV/AIDS           GDP    Population  \\\n718                 NaN         64.0        0.1           NaN           NaN   \n672                6.70         95.0        0.1   2741.115420           NaN   \n2742               6.93         97.0        0.9    148.522488  4.781295e+06   \n2192               3.92         99.0        0.3           NaN           NaN   \n1262               7.50         86.0        0.1   4117.155320  3.996521e+06   \n1663               4.53         76.0        1.3    528.586613  2.957117e+06   \n1524               6.59         93.0        0.1  15712.823760  2.957689e+06   \n1043               6.10         97.0        0.1   8569.776998           NaN   \n1187               4.69         85.0        0.2   1573.118890  1.293859e+09   \n557                6.48         97.0        0.1   4463.545867  1.562364e+07   \n\n       thinness  1-19 years   thinness 5-9 years  \\\n718                     5.9                  5.9   \n672                     3.6                  3.4   \n2742                    2.8                  2.9   \n2192                    3.6                  3.6   \n1262                    0.3                  0.2   \n1663                    1.3                  1.1   \n1524                    2.7                  2.7   \n1043                    3.8                  3.8   \n1187                   26.8                 27.4   \n557                     1.0                  1.0   \n\n      Income composition of resources  Schooling  \n718                               NaN        NaN  \n672                             0.679       12.1  \n2742                            0.691       14.3  \n2192                            0.702       13.3  \n1262                            0.870       16.8  \n1663                            0.447        6.6  \n1524                            0.834       16.4  \n1043                            0.749       15.8  \n1187                            0.607       11.6  \n557                             0.768       13.9  \n\n[10 rows x 22 columns]",
      "text/html": "<div>\n<style scoped>\n    .dataframe tbody tr th:only-of-type {\n        vertical-align: middle;\n    }\n\n    .dataframe tbody tr th {\n        vertical-align: top;\n    }\n\n    .dataframe thead th {\n        text-align: right;\n    }\n</style>\n<table border=\"1\" class=\"dataframe\">\n  <thead>\n    <tr style=\"text-align: right;\">\n      <th></th>\n      <th>Country</th>\n      <th>Year</th>\n      <th>Status</th>\n      <th>Life expectancy</th>\n      <th>Adult Mortality</th>\n      <th>infant deaths</th>\n      <th>Alcohol</th>\n      <th>percentage expenditure</th>\n      <th>Hepatitis B</th>\n      <th>Measles</th>\n      <th>...</th>\n      <th>Polio</th>\n      <th>Total expenditure</th>\n      <th>Diphtheria</th>\n      <th>HIV/AIDS</th>\n      <th>GDP</th>\n      <th>Population</th>\n      <th>thinness  1-19 years</th>\n      <th>thinness 5-9 years</th>\n      <th>Income composition of resources</th>\n      <th>Schooling</th>\n    </tr>\n  </thead>\n  <tbody>\n    <tr>\n      <th>718</th>\n      <td>Democratic People's Republic of Korea</td>\n      <td>2002</td>\n      <td>Developing</td>\n      <td>67.6</td>\n      <td>167.0</td>\n      <td>14</td>\n      <td>3.08</td>\n      <td>0.000000</td>\n      <td>NaN</td>\n      <td>0</td>\n      <td>...</td>\n      <td>99.0</td>\n      <td>NaN</td>\n      <td>64.0</td>\n      <td>0.1</td>\n      <td>NaN</td>\n      <td>NaN</td>\n      <td>5.9</td>\n      <td>5.9</td>\n      <td>NaN</td>\n      <td>NaN</td>\n    </tr>\n    <tr>\n      <th>672</th>\n      <td>Cuba</td>\n      <td>2000</td>\n      <td>Developing</td>\n      <td>76.9</td>\n      <td>115.0</td>\n      <td>1</td>\n      <td>3.92</td>\n      <td>49.340078</td>\n      <td>98.0</td>\n      <td>0</td>\n      <td>...</td>\n      <td>98.0</td>\n      <td>6.70</td>\n      <td>95.0</td>\n      <td>0.1</td>\n      <td>2741.115420</td>\n      <td>NaN</td>\n      <td>3.6</td>\n      <td>3.4</td>\n      <td>0.679</td>\n      <td>12.1</td>\n    </tr>\n    <tr>\n      <th>2742</th>\n      <td>Ukraine</td>\n      <td>2003</td>\n      <td>Developing</td>\n      <td>67.6</td>\n      <td>256.0</td>\n      <td>6</td>\n      <td>5.92</td>\n      <td>21.223864</td>\n      <td>77.0</td>\n      <td>411</td>\n      <td>...</td>\n      <td>99.0</td>\n      <td>6.93</td>\n      <td>97.0</td>\n      <td>0.9</td>\n      <td>148.522488</td>\n      <td>4.781295e+06</td>\n      <td>2.8</td>\n      <td>2.9</td>\n      <td>0.691</td>\n      <td>14.3</td>\n    </tr>\n    <tr>\n      <th>2192</th>\n      <td>Saint Vincent and the Grenadines</td>\n      <td>2007</td>\n      <td>Developing</td>\n      <td>71.9</td>\n      <td>17.0</td>\n      <td>0</td>\n      <td>5.89</td>\n      <td>0.000000</td>\n      <td>99.0</td>\n      <td>0</td>\n      <td>...</td>\n      <td>99.0</td>\n      <td>3.92</td>\n      <td>99.0</td>\n      <td>0.3</td>\n      <td>NaN</td>\n      <td>NaN</td>\n      <td>3.6</td>\n      <td>3.6</td>\n      <td>0.702</td>\n      <td>13.3</td>\n    </tr>\n    <tr>\n      <th>1262</th>\n      <td>Ireland</td>\n      <td>2003</td>\n      <td>Developed</td>\n      <td>78.0</td>\n      <td>82.0</td>\n      <td>0</td>\n      <td>13.24</td>\n      <td>675.213472</td>\n      <td>NaN</td>\n      <td>584</td>\n      <td>...</td>\n      <td>86.0</td>\n      <td>7.50</td>\n      <td>86.0</td>\n      <td>0.1</td>\n      <td>4117.155320</td>\n      <td>3.996521e+06</td>\n      <td>0.3</td>\n      <td>0.2</td>\n      <td>0.870</td>\n      <td>16.8</td>\n    </tr>\n    <tr>\n      <th>1663</th>\n      <td>Mauritania</td>\n      <td>2003</td>\n      <td>Developing</td>\n      <td>63.0</td>\n      <td>226.0</td>\n      <td>8</td>\n      <td>0.01</td>\n      <td>29.653709</td>\n      <td>NaN</td>\n      <td>3611</td>\n      <td>...</td>\n      <td>75.0</td>\n      <td>4.53</td>\n      <td>76.0</td>\n      <td>1.3</td>\n      <td>528.586613</td>\n      <td>2.957117e+06</td>\n      <td>1.3</td>\n      <td>1.1</td>\n      <td>0.447</td>\n      <td>6.6</td>\n    </tr>\n    <tr>\n      <th>1524</th>\n      <td>Lithuania</td>\n      <td>2013</td>\n      <td>Developed</td>\n      <td>73.0</td>\n      <td>178.0</td>\n      <td>0</td>\n      <td>15.04</td>\n      <td>1968.816817</td>\n      <td>93.0</td>\n      <td>35</td>\n      <td>...</td>\n      <td>93.0</td>\n      <td>6.59</td>\n      <td>93.0</td>\n      <td>0.1</td>\n      <td>15712.823760</td>\n      <td>2.957689e+06</td>\n      <td>2.7</td>\n      <td>2.7</td>\n      <td>0.834</td>\n      <td>16.4</td>\n    </tr>\n    <tr>\n      <th>1043</th>\n      <td>Grenada</td>\n      <td>2014</td>\n      <td>Developing</td>\n      <td>73.5</td>\n      <td>143.0</td>\n      <td>0</td>\n      <td>8.42</td>\n      <td>789.276461</td>\n      <td>97.0</td>\n      <td>0</td>\n      <td>...</td>\n      <td>81.0</td>\n      <td>6.10</td>\n      <td>97.0</td>\n      <td>0.1</td>\n      <td>8569.776998</td>\n      <td>NaN</td>\n      <td>3.8</td>\n      <td>3.8</td>\n      <td>0.749</td>\n      <td>15.8</td>\n    </tr>\n    <tr>\n      <th>1187</th>\n      <td>India</td>\n      <td>2014</td>\n      <td>Developing</td>\n      <td>68.0</td>\n      <td>184.0</td>\n      <td>957</td>\n      <td>3.07</td>\n      <td>86.521539</td>\n      <td>79.0</td>\n      <td>79563</td>\n      <td>...</td>\n      <td>84.0</td>\n      <td>4.69</td>\n      <td>85.0</td>\n      <td>0.2</td>\n      <td>1573.118890</td>\n      <td>1.293859e+09</td>\n      <td>26.8</td>\n      <td>27.4</td>\n      <td>0.607</td>\n      <td>11.6</td>\n    </tr>\n    <tr>\n      <th>557</th>\n      <td>Chile</td>\n      <td>2002</td>\n      <td>Developing</td>\n      <td>77.8</td>\n      <td>11.0</td>\n      <td>2</td>\n      <td>6.06</td>\n      <td>675.780844</td>\n      <td>NaN</td>\n      <td>0</td>\n      <td>...</td>\n      <td>97.0</td>\n      <td>6.48</td>\n      <td>97.0</td>\n      <td>0.1</td>\n      <td>4463.545867</td>\n      <td>1.562364e+07</td>\n      <td>1.0</td>\n      <td>1.0</td>\n      <td>0.768</td>\n      <td>13.9</td>\n    </tr>\n  </tbody>\n</table>\n<p>10 rows × 22 columns</p>\n</div>"
     },
     "execution_count": 4,
     "metadata": {},
     "output_type": "execute_result"
    }
   ],
   "source": [
    "df.sample(10)"
   ],
   "metadata": {
    "collapsed": false,
    "ExecuteTime": {
     "end_time": "2024-05-20T03:21:55.395493Z",
     "start_time": "2024-05-20T03:21:55.382891Z"
    }
   },
   "id": "c8d99d2907448a2a",
   "execution_count": 4
  },
  {
   "cell_type": "code",
   "outputs": [],
   "source": [
    "cols = [ var for var in df.columns if 0.05 > df[var].isnull().mean() > 0 ]"
   ],
   "metadata": {
    "collapsed": false,
    "ExecuteTime": {
     "end_time": "2024-05-20T03:26:23.487429Z",
     "start_time": "2024-05-20T03:26:23.481754Z"
    }
   },
   "id": "5778da5d4d81a201",
   "execution_count": 8
  },
  {
   "cell_type": "code",
   "outputs": [],
   "source": [
    "for col in cols :\n",
    "    df[col] = df[col].dropna()"
   ],
   "metadata": {
    "collapsed": false,
    "ExecuteTime": {
     "end_time": "2024-05-20T03:27:00.392662Z",
     "start_time": "2024-05-20T03:27:00.385950Z"
    }
   },
   "id": "6dd987d4e6354686",
   "execution_count": 9
  },
  {
   "cell_type": "code",
   "outputs": [],
   "source": [],
   "metadata": {
    "collapsed": false
   },
   "id": "3d91c3cc007f4edc"
  }
 ],
 "metadata": {
  "kernelspec": {
   "display_name": "Python 3",
   "language": "python",
   "name": "python3"
  },
  "language_info": {
   "codemirror_mode": {
    "name": "ipython",
    "version": 2
   },
   "file_extension": ".py",
   "mimetype": "text/x-python",
   "name": "python",
   "nbconvert_exporter": "python",
   "pygments_lexer": "ipython2",
   "version": "2.7.6"
  }
 },
 "nbformat": 4,
 "nbformat_minor": 5
}
