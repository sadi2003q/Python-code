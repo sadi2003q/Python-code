{
 "nbformat": 4,
 "nbformat_minor": 0,
 "metadata": {
  "colab": {
   "provenance": []
  },
  "kernelspec": {
   "name": "python3",
   "language": "python",
   "display_name": "Python 3 (ipykernel)"
  },
  "language_info": {
   "name": "python"
  }
 },
 "cells": [
  {
   "cell_type": "code",
   "execution_count": 1,
   "metadata": {
    "id": "De6D9vN5Ks8U",
    "ExecuteTime": {
     "end_time": "2024-05-29T02:59:31.253189Z",
     "start_time": "2024-05-29T02:59:31.251681Z"
    }
   },
   "outputs": [],
   "source": [
    "import pandas as pd\n",
    "import numpy as np"
   ]
  },
  {
   "cell_type": "code",
   "source": [
    "car = pd.read_csv('cars.csv')"
   ],
   "metadata": {
    "id": "vJ97ZDaFLp0z",
    "ExecuteTime": {
     "end_time": "2024-05-29T02:59:31.261Z",
     "start_time": "2024-05-29T02:59:31.253952Z"
    }
   },
   "execution_count": 2,
   "outputs": []
  },
  {
   "cell_type": "code",
   "source": [
    "car.head()"
   ],
   "metadata": {
    "colab": {
     "base_uri": "https://localhost:8080/",
     "height": 221
    },
    "id": "oyzakpQdLvnL",
    "outputId": "f24d59b6-efc0-4001-97a3-109f702244e7",
    "ExecuteTime": {
     "end_time": "2024-05-29T02:59:31.268988Z",
     "start_time": "2024-05-29T02:59:31.262491Z"
    }
   },
   "execution_count": 3,
   "outputs": [
    {
     "data": {
      "text/plain": "     brand  km_driven    fuel         owner  selling_price\n0   Maruti     145500  Diesel   First Owner         450000\n1    Skoda     120000  Diesel  Second Owner         370000\n2    Honda     140000  Petrol   Third Owner         158000\n3  Hyundai     127000  Diesel   First Owner         225000\n4   Maruti     120000  Petrol   First Owner         130000",
      "text/html": "<div>\n<style scoped>\n    .dataframe tbody tr th:only-of-type {\n        vertical-align: middle;\n    }\n\n    .dataframe tbody tr th {\n        vertical-align: top;\n    }\n\n    .dataframe thead th {\n        text-align: right;\n    }\n</style>\n<table border=\"1\" class=\"dataframe\">\n  <thead>\n    <tr style=\"text-align: right;\">\n      <th></th>\n      <th>brand</th>\n      <th>km_driven</th>\n      <th>fuel</th>\n      <th>owner</th>\n      <th>selling_price</th>\n    </tr>\n  </thead>\n  <tbody>\n    <tr>\n      <th>0</th>\n      <td>Maruti</td>\n      <td>145500</td>\n      <td>Diesel</td>\n      <td>First Owner</td>\n      <td>450000</td>\n    </tr>\n    <tr>\n      <th>1</th>\n      <td>Skoda</td>\n      <td>120000</td>\n      <td>Diesel</td>\n      <td>Second Owner</td>\n      <td>370000</td>\n    </tr>\n    <tr>\n      <th>2</th>\n      <td>Honda</td>\n      <td>140000</td>\n      <td>Petrol</td>\n      <td>Third Owner</td>\n      <td>158000</td>\n    </tr>\n    <tr>\n      <th>3</th>\n      <td>Hyundai</td>\n      <td>127000</td>\n      <td>Diesel</td>\n      <td>First Owner</td>\n      <td>225000</td>\n    </tr>\n    <tr>\n      <th>4</th>\n      <td>Maruti</td>\n      <td>120000</td>\n      <td>Petrol</td>\n      <td>First Owner</td>\n      <td>130000</td>\n    </tr>\n  </tbody>\n</table>\n</div>"
     },
     "execution_count": 3,
     "metadata": {},
     "output_type": "execute_result"
    }
   ]
  },
  {
   "cell_type": "code",
   "source": [
    "car.info()"
   ],
   "metadata": {
    "id": "j5QZBO1iM-yc",
    "ExecuteTime": {
     "end_time": "2024-05-29T02:59:31.275073Z",
     "start_time": "2024-05-29T02:59:31.269561Z"
    }
   },
   "execution_count": 4,
   "outputs": [
    {
     "name": "stdout",
     "output_type": "stream",
     "text": [
      "<class 'pandas.core.frame.DataFrame'>\n",
      "RangeIndex: 8128 entries, 0 to 8127\n",
      "Data columns (total 5 columns):\n",
      " #   Column         Non-Null Count  Dtype \n",
      "---  ------         --------------  ----- \n",
      " 0   brand          8128 non-null   object\n",
      " 1   km_driven      8128 non-null   int64 \n",
      " 2   fuel           8128 non-null   object\n",
      " 3   owner          8128 non-null   object\n",
      " 4   selling_price  8128 non-null   int64 \n",
      "dtypes: int64(2), object(3)\n",
      "memory usage: 317.6+ KB\n"
     ]
    }
   ]
  },
  {
   "cell_type": "code",
   "source": [
    "car['brand'].value_counts()"
   ],
   "metadata": {
    "id": "xnwwGGuYL0Ot",
    "ExecuteTime": {
     "end_time": "2024-05-29T02:59:31.279458Z",
     "start_time": "2024-05-29T02:59:31.275935Z"
    }
   },
   "execution_count": 5,
   "outputs": [
    {
     "data": {
      "text/plain": "brand\nMaruti           2448\nHyundai          1415\nMahindra          772\nTata              734\nToyota            488\nHonda             467\nFord              397\nChevrolet         230\nRenault           228\nVolkswagen        186\nBMW               120\nSkoda             105\nNissan             81\nJaguar             71\nVolvo              67\nDatsun             65\nMercedes-Benz      54\nFiat               47\nAudi               40\nLexus              34\nJeep               31\nMitsubishi         14\nForce               6\nLand                6\nIsuzu               5\nKia                 4\nAmbassador          4\nDaewoo              3\nMG                  3\nAshok               1\nOpel                1\nPeugeot             1\nName: count, dtype: int64"
     },
     "execution_count": 5,
     "metadata": {},
     "output_type": "execute_result"
    }
   ]
  },
  {
   "cell_type": "code",
   "source": [
    "car['fuel'].value_counts()"
   ],
   "metadata": {
    "id": "dd3lbW88L6gv",
    "ExecuteTime": {
     "end_time": "2024-05-29T02:59:31.284326Z",
     "start_time": "2024-05-29T02:59:31.280466Z"
    }
   },
   "execution_count": 6,
   "outputs": [
    {
     "data": {
      "text/plain": "fuel\nDiesel    4402\nPetrol    3631\nCNG         57\nLPG         38\nName: count, dtype: int64"
     },
     "execution_count": 6,
     "metadata": {},
     "output_type": "execute_result"
    }
   ]
  },
  {
   "cell_type": "code",
   "source": [
    "car['owner'].value_counts()"
   ],
   "metadata": {
    "id": "tK0ZOBaPM2Ab",
    "ExecuteTime": {
     "end_time": "2024-05-29T02:59:31.289031Z",
     "start_time": "2024-05-29T02:59:31.285304Z"
    }
   },
   "execution_count": 7,
   "outputs": [
    {
     "data": {
      "text/plain": "owner\nFirst Owner             5289\nSecond Owner            2105\nThird Owner              555\nFourth & Above Owner     174\nTest Drive Car             5\nName: count, dtype: int64"
     },
     "execution_count": 7,
     "metadata": {},
     "output_type": "execute_result"
    }
   ]
  },
  {
   "cell_type": "markdown",
   "source": [
    "# One hot Encoding using Pandas\n",
    "## dont remember the code\n",
    "## dont make change into the main dataFrame"
   ],
   "metadata": {
    "id": "J7fezXscNN1K"
   }
  },
  {
   "cell_type": "code",
   "source": [
    "pd.get_dummies(car, columns = ['owner', 'fuel'])"
   ],
   "metadata": {
    "colab": {
     "base_uri": "https://localhost:8080/",
     "height": 466
    },
    "id": "oGsMQiRSNFE1",
    "outputId": "a689cdb8-3824-4c2f-efa6-736510f85d9b",
    "ExecuteTime": {
     "end_time": "2024-05-29T02:59:31.299477Z",
     "start_time": "2024-05-29T02:59:31.289599Z"
    }
   },
   "execution_count": 8,
   "outputs": [
    {
     "data": {
      "text/plain": "        brand  km_driven  selling_price  owner_First Owner  \\\n0      Maruti     145500         450000               True   \n1       Skoda     120000         370000              False   \n2       Honda     140000         158000              False   \n3     Hyundai     127000         225000               True   \n4      Maruti     120000         130000               True   \n...       ...        ...            ...                ...   \n8123  Hyundai     110000         320000               True   \n8124  Hyundai     119000         135000              False   \n8125   Maruti     120000         382000               True   \n8126     Tata      25000         290000               True   \n8127     Tata      25000         290000               True   \n\n      owner_Fourth & Above Owner  owner_Second Owner  owner_Test Drive Car  \\\n0                          False               False                 False   \n1                          False                True                 False   \n2                          False               False                 False   \n3                          False               False                 False   \n4                          False               False                 False   \n...                          ...                 ...                   ...   \n8123                       False               False                 False   \n8124                        True               False                 False   \n8125                       False               False                 False   \n8126                       False               False                 False   \n8127                       False               False                 False   \n\n      owner_Third Owner  fuel_CNG  fuel_Diesel  fuel_LPG  fuel_Petrol  \n0                 False     False         True     False        False  \n1                 False     False         True     False        False  \n2                  True     False        False     False         True  \n3                 False     False         True     False        False  \n4                 False     False        False     False         True  \n...                 ...       ...          ...       ...          ...  \n8123              False     False        False     False         True  \n8124              False     False         True     False        False  \n8125              False     False         True     False        False  \n8126              False     False         True     False        False  \n8127              False     False         True     False        False  \n\n[8128 rows x 12 columns]",
      "text/html": "<div>\n<style scoped>\n    .dataframe tbody tr th:only-of-type {\n        vertical-align: middle;\n    }\n\n    .dataframe tbody tr th {\n        vertical-align: top;\n    }\n\n    .dataframe thead th {\n        text-align: right;\n    }\n</style>\n<table border=\"1\" class=\"dataframe\">\n  <thead>\n    <tr style=\"text-align: right;\">\n      <th></th>\n      <th>brand</th>\n      <th>km_driven</th>\n      <th>selling_price</th>\n      <th>owner_First Owner</th>\n      <th>owner_Fourth &amp; Above Owner</th>\n      <th>owner_Second Owner</th>\n      <th>owner_Test Drive Car</th>\n      <th>owner_Third Owner</th>\n      <th>fuel_CNG</th>\n      <th>fuel_Diesel</th>\n      <th>fuel_LPG</th>\n      <th>fuel_Petrol</th>\n    </tr>\n  </thead>\n  <tbody>\n    <tr>\n      <th>0</th>\n      <td>Maruti</td>\n      <td>145500</td>\n      <td>450000</td>\n      <td>True</td>\n      <td>False</td>\n      <td>False</td>\n      <td>False</td>\n      <td>False</td>\n      <td>False</td>\n      <td>True</td>\n      <td>False</td>\n      <td>False</td>\n    </tr>\n    <tr>\n      <th>1</th>\n      <td>Skoda</td>\n      <td>120000</td>\n      <td>370000</td>\n      <td>False</td>\n      <td>False</td>\n      <td>True</td>\n      <td>False</td>\n      <td>False</td>\n      <td>False</td>\n      <td>True</td>\n      <td>False</td>\n      <td>False</td>\n    </tr>\n    <tr>\n      <th>2</th>\n      <td>Honda</td>\n      <td>140000</td>\n      <td>158000</td>\n      <td>False</td>\n      <td>False</td>\n      <td>False</td>\n      <td>False</td>\n      <td>True</td>\n      <td>False</td>\n      <td>False</td>\n      <td>False</td>\n      <td>True</td>\n    </tr>\n    <tr>\n      <th>3</th>\n      <td>Hyundai</td>\n      <td>127000</td>\n      <td>225000</td>\n      <td>True</td>\n      <td>False</td>\n      <td>False</td>\n      <td>False</td>\n      <td>False</td>\n      <td>False</td>\n      <td>True</td>\n      <td>False</td>\n      <td>False</td>\n    </tr>\n    <tr>\n      <th>4</th>\n      <td>Maruti</td>\n      <td>120000</td>\n      <td>130000</td>\n      <td>True</td>\n      <td>False</td>\n      <td>False</td>\n      <td>False</td>\n      <td>False</td>\n      <td>False</td>\n      <td>False</td>\n      <td>False</td>\n      <td>True</td>\n    </tr>\n    <tr>\n      <th>...</th>\n      <td>...</td>\n      <td>...</td>\n      <td>...</td>\n      <td>...</td>\n      <td>...</td>\n      <td>...</td>\n      <td>...</td>\n      <td>...</td>\n      <td>...</td>\n      <td>...</td>\n      <td>...</td>\n      <td>...</td>\n    </tr>\n    <tr>\n      <th>8123</th>\n      <td>Hyundai</td>\n      <td>110000</td>\n      <td>320000</td>\n      <td>True</td>\n      <td>False</td>\n      <td>False</td>\n      <td>False</td>\n      <td>False</td>\n      <td>False</td>\n      <td>False</td>\n      <td>False</td>\n      <td>True</td>\n    </tr>\n    <tr>\n      <th>8124</th>\n      <td>Hyundai</td>\n      <td>119000</td>\n      <td>135000</td>\n      <td>False</td>\n      <td>True</td>\n      <td>False</td>\n      <td>False</td>\n      <td>False</td>\n      <td>False</td>\n      <td>True</td>\n      <td>False</td>\n      <td>False</td>\n    </tr>\n    <tr>\n      <th>8125</th>\n      <td>Maruti</td>\n      <td>120000</td>\n      <td>382000</td>\n      <td>True</td>\n      <td>False</td>\n      <td>False</td>\n      <td>False</td>\n      <td>False</td>\n      <td>False</td>\n      <td>True</td>\n      <td>False</td>\n      <td>False</td>\n    </tr>\n    <tr>\n      <th>8126</th>\n      <td>Tata</td>\n      <td>25000</td>\n      <td>290000</td>\n      <td>True</td>\n      <td>False</td>\n      <td>False</td>\n      <td>False</td>\n      <td>False</td>\n      <td>False</td>\n      <td>True</td>\n      <td>False</td>\n      <td>False</td>\n    </tr>\n    <tr>\n      <th>8127</th>\n      <td>Tata</td>\n      <td>25000</td>\n      <td>290000</td>\n      <td>True</td>\n      <td>False</td>\n      <td>False</td>\n      <td>False</td>\n      <td>False</td>\n      <td>False</td>\n      <td>True</td>\n      <td>False</td>\n      <td>False</td>\n    </tr>\n  </tbody>\n</table>\n<p>8128 rows × 12 columns</p>\n</div>"
     },
     "execution_count": 8,
     "metadata": {},
     "output_type": "execute_result"
    }
   ]
  },
  {
   "cell_type": "code",
   "source": [
    "pd.get_dummies(car, columns = ['owner', 'fuel'], drop_first= True)"
   ],
   "metadata": {
    "colab": {
     "base_uri": "https://localhost:8080/",
     "height": 449
    },
    "id": "IdD6vIY4Nu76",
    "outputId": "b647e653-6960-414f-9d83-98b2e3c14764",
    "ExecuteTime": {
     "end_time": "2024-05-29T02:59:31.307651Z",
     "start_time": "2024-05-29T02:59:31.300263Z"
    }
   },
   "execution_count": 9,
   "outputs": [
    {
     "data": {
      "text/plain": "        brand  km_driven  selling_price  owner_Fourth & Above Owner  \\\n0      Maruti     145500         450000                       False   \n1       Skoda     120000         370000                       False   \n2       Honda     140000         158000                       False   \n3     Hyundai     127000         225000                       False   \n4      Maruti     120000         130000                       False   \n...       ...        ...            ...                         ...   \n8123  Hyundai     110000         320000                       False   \n8124  Hyundai     119000         135000                        True   \n8125   Maruti     120000         382000                       False   \n8126     Tata      25000         290000                       False   \n8127     Tata      25000         290000                       False   \n\n      owner_Second Owner  owner_Test Drive Car  owner_Third Owner  \\\n0                  False                 False              False   \n1                   True                 False              False   \n2                  False                 False               True   \n3                  False                 False              False   \n4                  False                 False              False   \n...                  ...                   ...                ...   \n8123               False                 False              False   \n8124               False                 False              False   \n8125               False                 False              False   \n8126               False                 False              False   \n8127               False                 False              False   \n\n      fuel_Diesel  fuel_LPG  fuel_Petrol  \n0            True     False        False  \n1            True     False        False  \n2           False     False         True  \n3            True     False        False  \n4           False     False         True  \n...           ...       ...          ...  \n8123        False     False         True  \n8124         True     False        False  \n8125         True     False        False  \n8126         True     False        False  \n8127         True     False        False  \n\n[8128 rows x 10 columns]",
      "text/html": "<div>\n<style scoped>\n    .dataframe tbody tr th:only-of-type {\n        vertical-align: middle;\n    }\n\n    .dataframe tbody tr th {\n        vertical-align: top;\n    }\n\n    .dataframe thead th {\n        text-align: right;\n    }\n</style>\n<table border=\"1\" class=\"dataframe\">\n  <thead>\n    <tr style=\"text-align: right;\">\n      <th></th>\n      <th>brand</th>\n      <th>km_driven</th>\n      <th>selling_price</th>\n      <th>owner_Fourth &amp; Above Owner</th>\n      <th>owner_Second Owner</th>\n      <th>owner_Test Drive Car</th>\n      <th>owner_Third Owner</th>\n      <th>fuel_Diesel</th>\n      <th>fuel_LPG</th>\n      <th>fuel_Petrol</th>\n    </tr>\n  </thead>\n  <tbody>\n    <tr>\n      <th>0</th>\n      <td>Maruti</td>\n      <td>145500</td>\n      <td>450000</td>\n      <td>False</td>\n      <td>False</td>\n      <td>False</td>\n      <td>False</td>\n      <td>True</td>\n      <td>False</td>\n      <td>False</td>\n    </tr>\n    <tr>\n      <th>1</th>\n      <td>Skoda</td>\n      <td>120000</td>\n      <td>370000</td>\n      <td>False</td>\n      <td>True</td>\n      <td>False</td>\n      <td>False</td>\n      <td>True</td>\n      <td>False</td>\n      <td>False</td>\n    </tr>\n    <tr>\n      <th>2</th>\n      <td>Honda</td>\n      <td>140000</td>\n      <td>158000</td>\n      <td>False</td>\n      <td>False</td>\n      <td>False</td>\n      <td>True</td>\n      <td>False</td>\n      <td>False</td>\n      <td>True</td>\n    </tr>\n    <tr>\n      <th>3</th>\n      <td>Hyundai</td>\n      <td>127000</td>\n      <td>225000</td>\n      <td>False</td>\n      <td>False</td>\n      <td>False</td>\n      <td>False</td>\n      <td>True</td>\n      <td>False</td>\n      <td>False</td>\n    </tr>\n    <tr>\n      <th>4</th>\n      <td>Maruti</td>\n      <td>120000</td>\n      <td>130000</td>\n      <td>False</td>\n      <td>False</td>\n      <td>False</td>\n      <td>False</td>\n      <td>False</td>\n      <td>False</td>\n      <td>True</td>\n    </tr>\n    <tr>\n      <th>...</th>\n      <td>...</td>\n      <td>...</td>\n      <td>...</td>\n      <td>...</td>\n      <td>...</td>\n      <td>...</td>\n      <td>...</td>\n      <td>...</td>\n      <td>...</td>\n      <td>...</td>\n    </tr>\n    <tr>\n      <th>8123</th>\n      <td>Hyundai</td>\n      <td>110000</td>\n      <td>320000</td>\n      <td>False</td>\n      <td>False</td>\n      <td>False</td>\n      <td>False</td>\n      <td>False</td>\n      <td>False</td>\n      <td>True</td>\n    </tr>\n    <tr>\n      <th>8124</th>\n      <td>Hyundai</td>\n      <td>119000</td>\n      <td>135000</td>\n      <td>True</td>\n      <td>False</td>\n      <td>False</td>\n      <td>False</td>\n      <td>True</td>\n      <td>False</td>\n      <td>False</td>\n    </tr>\n    <tr>\n      <th>8125</th>\n      <td>Maruti</td>\n      <td>120000</td>\n      <td>382000</td>\n      <td>False</td>\n      <td>False</td>\n      <td>False</td>\n      <td>False</td>\n      <td>True</td>\n      <td>False</td>\n      <td>False</td>\n    </tr>\n    <tr>\n      <th>8126</th>\n      <td>Tata</td>\n      <td>25000</td>\n      <td>290000</td>\n      <td>False</td>\n      <td>False</td>\n      <td>False</td>\n      <td>False</td>\n      <td>True</td>\n      <td>False</td>\n      <td>False</td>\n    </tr>\n    <tr>\n      <th>8127</th>\n      <td>Tata</td>\n      <td>25000</td>\n      <td>290000</td>\n      <td>False</td>\n      <td>False</td>\n      <td>False</td>\n      <td>False</td>\n      <td>True</td>\n      <td>False</td>\n      <td>False</td>\n    </tr>\n  </tbody>\n</table>\n<p>8128 rows × 10 columns</p>\n</div>"
     },
     "execution_count": 9,
     "metadata": {},
     "output_type": "execute_result"
    }
   ]
  },
  {
   "cell_type": "markdown",
   "source": [
    "# One Hot Encoding using Sciket learn"
   ],
   "metadata": {
    "id": "iEtZtGmeO6oq"
   }
  },
  {
   "cell_type": "code",
   "source": [
    "from sklearn.model_selection import train_test_split"
   ],
   "metadata": {
    "id": "E1giUHRLN5tL",
    "ExecuteTime": {
     "end_time": "2024-05-29T02:59:31.429425Z",
     "start_time": "2024-05-29T02:59:31.308499Z"
    }
   },
   "execution_count": 10,
   "outputs": []
  },
  {
   "cell_type": "code",
   "source": [
    "train_x, test_x, train_y, test_y = train_test_split(car.iloc[:, 0:4], car.iloc[:, -1], test_size = 0.2)"
   ],
   "metadata": {
    "id": "kr4rUj2ZPR4o",
    "ExecuteTime": {
     "end_time": "2024-05-29T02:59:31.434865Z",
     "start_time": "2024-05-29T02:59:31.430171Z"
    }
   },
   "execution_count": 11,
   "outputs": []
  },
  {
   "cell_type": "code",
   "source": [
    "train_x"
   ],
   "metadata": {
    "colab": {
     "base_uri": "https://localhost:8080/",
     "height": 433
    },
    "id": "8i-vEOQjQsMc",
    "outputId": "a5292908-6ad5-493a-ebf0-082cb5d5c360",
    "ExecuteTime": {
     "end_time": "2024-05-29T02:59:31.444222Z",
     "start_time": "2024-05-29T02:59:31.438888Z"
    }
   },
   "execution_count": 12,
   "outputs": [
    {
     "data": {
      "text/plain": "           brand  km_driven    fuel         owner\n5389        Tata       2000  Diesel   First Owner\n3957     Hyundai      80000  Diesel  Second Owner\n3412       Volvo      20000  Diesel   First Owner\n559         Ford      14200  Petrol   First Owner\n3365      Toyota      90000  Diesel   First Owner\n...          ...        ...     ...           ...\n2067  Volkswagen      90000  Diesel  Second Owner\n7520        Ford     163000  Diesel   Third Owner\n1203    Mahindra     120000  Diesel   First Owner\n6132      Maruti      54723  Diesel   First Owner\n1219      Maruti     110000  Diesel   First Owner\n\n[6502 rows x 4 columns]",
      "text/html": "<div>\n<style scoped>\n    .dataframe tbody tr th:only-of-type {\n        vertical-align: middle;\n    }\n\n    .dataframe tbody tr th {\n        vertical-align: top;\n    }\n\n    .dataframe thead th {\n        text-align: right;\n    }\n</style>\n<table border=\"1\" class=\"dataframe\">\n  <thead>\n    <tr style=\"text-align: right;\">\n      <th></th>\n      <th>brand</th>\n      <th>km_driven</th>\n      <th>fuel</th>\n      <th>owner</th>\n    </tr>\n  </thead>\n  <tbody>\n    <tr>\n      <th>5389</th>\n      <td>Tata</td>\n      <td>2000</td>\n      <td>Diesel</td>\n      <td>First Owner</td>\n    </tr>\n    <tr>\n      <th>3957</th>\n      <td>Hyundai</td>\n      <td>80000</td>\n      <td>Diesel</td>\n      <td>Second Owner</td>\n    </tr>\n    <tr>\n      <th>3412</th>\n      <td>Volvo</td>\n      <td>20000</td>\n      <td>Diesel</td>\n      <td>First Owner</td>\n    </tr>\n    <tr>\n      <th>559</th>\n      <td>Ford</td>\n      <td>14200</td>\n      <td>Petrol</td>\n      <td>First Owner</td>\n    </tr>\n    <tr>\n      <th>3365</th>\n      <td>Toyota</td>\n      <td>90000</td>\n      <td>Diesel</td>\n      <td>First Owner</td>\n    </tr>\n    <tr>\n      <th>...</th>\n      <td>...</td>\n      <td>...</td>\n      <td>...</td>\n      <td>...</td>\n    </tr>\n    <tr>\n      <th>2067</th>\n      <td>Volkswagen</td>\n      <td>90000</td>\n      <td>Diesel</td>\n      <td>Second Owner</td>\n    </tr>\n    <tr>\n      <th>7520</th>\n      <td>Ford</td>\n      <td>163000</td>\n      <td>Diesel</td>\n      <td>Third Owner</td>\n    </tr>\n    <tr>\n      <th>1203</th>\n      <td>Mahindra</td>\n      <td>120000</td>\n      <td>Diesel</td>\n      <td>First Owner</td>\n    </tr>\n    <tr>\n      <th>6132</th>\n      <td>Maruti</td>\n      <td>54723</td>\n      <td>Diesel</td>\n      <td>First Owner</td>\n    </tr>\n    <tr>\n      <th>1219</th>\n      <td>Maruti</td>\n      <td>110000</td>\n      <td>Diesel</td>\n      <td>First Owner</td>\n    </tr>\n  </tbody>\n</table>\n<p>6502 rows × 4 columns</p>\n</div>"
     },
     "execution_count": 12,
     "metadata": {},
     "output_type": "execute_result"
    }
   ]
  },
  {
   "cell_type": "code",
   "source": [
    "from sklearn.preprocessing import OneHotEncoder"
   ],
   "metadata": {
    "id": "eWqHBDuOQuIt",
    "ExecuteTime": {
     "end_time": "2024-05-29T02:59:31.447153Z",
     "start_time": "2024-05-29T02:59:31.444869Z"
    }
   },
   "execution_count": 13,
   "outputs": []
  },
  {
   "cell_type": "code",
   "source": [
    "encoder = OneHotEncoder(drop ='first')"
   ],
   "metadata": {
    "id": "ByfRj4BVRPaF",
    "ExecuteTime": {
     "end_time": "2024-05-29T02:59:31.582873Z",
     "start_time": "2024-05-29T02:59:31.447729Z"
    }
   },
   "execution_count": 14,
   "outputs": [
    {
     "ename": "TypeError",
     "evalue": "OneHotEncoder.__init__() got an unexpected keyword argument 'sparse'",
     "output_type": "error",
     "traceback": [
      "\u001B[0;31m---------------------------------------------------------------------------\u001B[0m",
      "\u001B[0;31mTypeError\u001B[0m                                 Traceback (most recent call last)",
      "Cell \u001B[0;32mIn[14], line 1\u001B[0m\n\u001B[0;32m----> 1\u001B[0m encoder \u001B[38;5;241m=\u001B[39m \u001B[43mOneHotEncoder\u001B[49m\u001B[43m(\u001B[49m\u001B[43msparse\u001B[49m\u001B[43m \u001B[49m\u001B[38;5;241;43m=\u001B[39;49m\u001B[43m \u001B[49m\u001B[38;5;28;43;01mFalse\u001B[39;49;00m\u001B[43m,\u001B[49m\u001B[43m \u001B[49m\u001B[43mdrop\u001B[49m\u001B[43m \u001B[49m\u001B[38;5;241;43m=\u001B[39;49m\u001B[38;5;124;43m'\u001B[39;49m\u001B[38;5;124;43mfirst\u001B[39;49m\u001B[38;5;124;43m'\u001B[39;49m\u001B[43m)\u001B[49m\n",
      "\u001B[0;31mTypeError\u001B[0m: OneHotEncoder.__init__() got an unexpected keyword argument 'sparse'"
     ]
    }
   ]
  },
  {
   "cell_type": "code",
   "source": [
    "new_train_x = encoder.fit_transform(car[['fuel', 'owner']])\n",
    "new_test_x = encoder.transform(car[['fuel', 'owner']])"
   ],
   "metadata": {
    "colab": {
     "base_uri": "https://localhost:8080/"
    },
    "id": "OLkoNyh7SLKT",
    "outputId": "a9646059-544e-4e03-ef26-f38a5e18bd94",
    "ExecuteTime": {
     "end_time": "2024-05-29T02:59:31.583850Z",
     "start_time": "2024-05-29T02:59:31.583789Z"
    }
   },
   "execution_count": null,
   "outputs": []
  },
  {
   "cell_type": "code",
   "source": [
    "new_train_x"
   ],
   "metadata": {
    "colab": {
     "base_uri": "https://localhost:8080/"
    },
    "id": "HZB9fgkiSsYN",
    "outputId": "789abb4c-8f23-44f3-e4c5-076892bbd181"
   },
   "execution_count": null,
   "outputs": []
  },
  {
   "cell_type": "markdown",
   "source": [
    "# Concenating function is not working"
   ],
   "metadata": {
    "id": "gINbIaEXXvVV"
   }
  },
  {
   "cell_type": "code",
   "source": [
    "np.hstack((train_x[['brand', 'km_driven']].values, new_train_x))"
   ],
   "metadata": {
    "colab": {
     "base_uri": "https://localhost:8080/",
     "height": 289
    },
    "id": "W3YnoUIwT69B",
    "outputId": "0111aeae-f701-44c4-ebd6-824538ac9d8f"
   },
   "execution_count": null,
   "outputs": []
  },
  {
   "cell_type": "markdown",
   "source": [
    "# making uncommon array"
   ],
   "metadata": {
    "id": "vxo3nHrjYNRt"
   }
  },
  {
   "cell_type": "code",
   "source": [
    "count = car['brand'].value_counts()"
   ],
   "metadata": {
    "id": "VfdBz0onVGEu"
   },
   "execution_count": null,
   "outputs": []
  },
  {
   "cell_type": "code",
   "source": [
    "\n",
    "thrashold = 100"
   ],
   "metadata": {
    "id": "BEerL32IYit7"
   },
   "execution_count": null,
   "outputs": []
  },
  {
   "cell_type": "code",
   "source": [
    "repl = count[count <= thrashold].index"
   ],
   "metadata": {
    "id": "MqRrN1P6Ym2U"
   },
   "execution_count": null,
   "outputs": []
  },
  {
   "cell_type": "code",
   "source": [
    "pd.get_dummies(car['brand'].replace(repl, 'Uncommon')).sample(10)"
   ],
   "metadata": {
    "colab": {
     "base_uri": "https://localhost:8080/",
     "height": 374
    },
    "id": "HSgpIkJYYvFI",
    "outputId": "85f7a364-f59b-4a2e-bc28-f57f9870bc6b"
   },
   "execution_count": null,
   "outputs": []
  },
  {
   "cell_type": "code",
   "source": [],
   "metadata": {
    "id": "5MPOPeitY-tG"
   },
   "execution_count": null,
   "outputs": []
  }
 ]
}
