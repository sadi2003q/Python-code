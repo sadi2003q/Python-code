{
 "nbformat": 4,
 "nbformat_minor": 0,
 "metadata": {
  "colab": {
   "provenance": []
  },
  "kernelspec": {
   "name": "python3",
   "language": "python",
   "display_name": "Python 3 (ipykernel)"
  },
  "language_info": {
   "name": "python"
  }
 },
 "cells": [
  {
   "cell_type": "code",
   "execution_count": 11,
   "metadata": {
    "id": "De6D9vN5Ks8U",
    "ExecuteTime": {
     "end_time": "2024-06-11T05:04:51.363572Z",
     "start_time": "2024-06-11T05:04:51.361241Z"
    }
   },
   "outputs": [],
   "source": [
    "import pandas as pd"
   ]
  },
  {
   "cell_type": "code",
   "source": [
    "covid = pd.read_csv('covidInfo.csv')"
   ],
   "metadata": {
    "id": "ohVL04V1nARC",
    "ExecuteTime": {
     "end_time": "2024-06-11T05:04:51.406886Z",
     "start_time": "2024-06-11T05:04:51.402535Z"
    }
   },
   "execution_count": 12,
   "outputs": []
  },
  {
   "cell_type": "code",
   "source": [
    "covid['cough'].value_counts()"
   ],
   "metadata": {
    "colab": {
     "base_uri": "https://localhost:8080/"
    },
    "id": "5M_F20lJpabm",
    "outputId": "02f89eb8-4ebf-4d37-e8c0-e78b27956457",
    "ExecuteTime": {
     "end_time": "2024-06-11T05:04:51.412574Z",
     "start_time": "2024-06-11T05:04:51.408035Z"
    }
   },
   "execution_count": 13,
   "outputs": [
    {
     "data": {
      "text/plain": "cough\nMild      62\nStrong    38\nName: count, dtype: int64"
     },
     "execution_count": 13,
     "metadata": {},
     "output_type": "execute_result"
    }
   ]
  },
  {
   "cell_type": "code",
   "source": [
    "covid.isnull().sum()"
   ],
   "metadata": {
    "colab": {
     "base_uri": "https://localhost:8080/"
    },
    "id": "-h1kjHjsnbEG",
    "outputId": "7c514f05-6dfc-4b3f-fa5b-913464bebad1",
    "ExecuteTime": {
     "end_time": "2024-06-11T05:04:51.418065Z",
     "start_time": "2024-06-11T05:04:51.414455Z"
    }
   },
   "execution_count": 14,
   "outputs": [
    {
     "data": {
      "text/plain": "age           0\ngender        0\nfever        10\ncough         0\ncity          0\nhas_covid     0\ndtype: int64"
     },
     "execution_count": 14,
     "metadata": {},
     "output_type": "execute_result"
    }
   ]
  },
  {
   "cell_type": "code",
   "source": [
    "from sklearn.impute import SimpleImputer\n",
    "from sklearn.preprocessing import OneHotEncoder\n",
    "from sklearn.preprocessing import OrdinalEncoder\n",
    "from sklearn.preprocessing import LabelEncoder"
   ],
   "metadata": {
    "id": "H-XQwlnQoQMZ",
    "ExecuteTime": {
     "end_time": "2024-06-11T05:04:51.421481Z",
     "start_time": "2024-06-11T05:04:51.419042Z"
    }
   },
   "execution_count": 15,
   "outputs": []
  },
  {
   "cell_type": "code",
   "source": [
    "from sklearn.model_selection import train_test_split as split"
   ],
   "metadata": {
    "id": "lhA71tLAtRvv",
    "ExecuteTime": {
     "end_time": "2024-06-11T05:04:51.424159Z",
     "start_time": "2024-06-11T05:04:51.422686Z"
    }
   },
   "execution_count": 16,
   "outputs": []
  },
  {
   "cell_type": "code",
   "source": [
    "train_x, test_x, train_y, test_y = split(covid.drop(columns=['has_covid']), covid['has_covid'], test_size = 0.2)"
   ],
   "metadata": {
    "id": "Qy6CfTIwtXwj",
    "ExecuteTime": {
     "end_time": "2024-06-11T05:04:51.427773Z",
     "start_time": "2024-06-11T05:04:51.424649Z"
    }
   },
   "execution_count": 17,
   "outputs": []
  },
  {
   "cell_type": "code",
   "source": [
    "train_y"
   ],
   "metadata": {
    "colab": {
     "base_uri": "https://localhost:8080/"
    },
    "id": "L31KHLCs1kxS",
    "outputId": "1cb8c5bd-ea7a-446d-8a89-859ca43468a8",
    "ExecuteTime": {
     "end_time": "2024-06-11T05:04:51.430931Z",
     "start_time": "2024-06-11T05:04:51.428439Z"
    }
   },
   "execution_count": 18,
   "outputs": [
    {
     "data": {
      "text/plain": "12     No\n18    Yes\n83     No\n59    Yes\n31     No\n     ... \n51    Yes\n4      No\n89     No\n8      No\n66     No\nName: has_covid, Length: 80, dtype: object"
     },
     "execution_count": 18,
     "metadata": {},
     "output_type": "execute_result"
    }
   ]
  },
  {
   "cell_type": "markdown",
   "source": [
    "# Column Transformer"
   ],
   "metadata": {
    "id": "KBNFaJWXo3UB"
   }
  },
  {
   "cell_type": "code",
   "source": [
    "from sklearn.compose import ColumnTransformer"
   ],
   "metadata": {
    "id": "R8I1eHU2ossK",
    "ExecuteTime": {
     "end_time": "2024-06-11T05:04:51.433180Z",
     "start_time": "2024-06-11T05:04:51.431449Z"
    }
   },
   "execution_count": 19,
   "outputs": []
  },
  {
   "cell_type": "code",
   "source": [
    "transformer = ColumnTransformer(transformers= [\n",
    "    ('tnf1', SimpleImputer(), ['fever']),\n",
    "    ('tnf2', OneHotEncoder( drop = 'first'), ['gender', 'city']),\n",
    "    ('tnf3', OrdinalEncoder(categories=[['Mild', 'Strong']]), ['cough'])\n",
    "], remainder = 'passthrough')"
   ],
   "metadata": {
    "id": "mr2CoK2EpDGw",
    "ExecuteTime": {
     "end_time": "2024-06-11T05:04:51.437222Z",
     "start_time": "2024-06-11T05:04:51.434725Z"
    }
   },
   "execution_count": 20,
   "outputs": []
  },
  {
   "cell_type": "code",
   "source": [
    "train_x = transformer.fit_transform(train_x)"
   ],
   "metadata": {
    "colab": {
     "base_uri": "https://localhost:8080/"
    },
    "id": "gMHE4DLysSqo",
    "outputId": "c757a62b-3bf3-4337-fe4c-9114083ee38a",
    "ExecuteTime": {
     "end_time": "2024-06-11T05:04:51.446845Z",
     "start_time": "2024-06-11T05:04:51.439200Z"
    }
   },
   "execution_count": 21,
   "outputs": []
  },
  {
   "cell_type": "code",
   "source": [
    "test_x = transformer.transform(test_x)"
   ],
   "metadata": {
    "id": "H4_tv-aGu2aU",
    "ExecuteTime": {
     "end_time": "2024-06-11T05:04:51.451932Z",
     "start_time": "2024-06-11T05:04:51.447923Z"
    }
   },
   "execution_count": 22,
   "outputs": []
  },
  {
   "cell_type": "code",
   "source": [
    "new_train_x = pd.DataFrame(train_x)"
   ],
   "metadata": {
    "id": "TJwSYrURwxcL",
    "ExecuteTime": {
     "end_time": "2024-06-11T05:04:51.455519Z",
     "start_time": "2024-06-11T05:04:51.453331Z"
    }
   },
   "execution_count": 23,
   "outputs": []
  },
  {
   "cell_type": "code",
   "source": [
    "new_train_x.head()"
   ],
   "metadata": {
    "colab": {
     "base_uri": "https://localhost:8080/",
     "height": 221
    },
    "id": "XXhPeNiE132B",
    "outputId": "f24885e8-fa60-4611-dfa6-1bf50168d0ff",
    "ExecuteTime": {
     "end_time": "2024-06-11T05:04:51.461726Z",
     "start_time": "2024-06-11T05:04:51.456662Z"
    }
   },
   "execution_count": 24,
   "outputs": [
    {
     "data": {
      "text/plain": "       0    1    2    3    4    5     6\n0   99.0  0.0  0.0  1.0  0.0  1.0  25.0\n1   98.0  0.0  0.0  0.0  0.0  0.0  64.0\n2  104.0  0.0  0.0  1.0  0.0  0.0  17.0\n3  104.0  0.0  0.0  1.0  0.0  0.0   6.0\n4  103.0  1.0  0.0  1.0  0.0  0.0  83.0",
      "text/html": "<div>\n<style scoped>\n    .dataframe tbody tr th:only-of-type {\n        vertical-align: middle;\n    }\n\n    .dataframe tbody tr th {\n        vertical-align: top;\n    }\n\n    .dataframe thead th {\n        text-align: right;\n    }\n</style>\n<table border=\"1\" class=\"dataframe\">\n  <thead>\n    <tr style=\"text-align: right;\">\n      <th></th>\n      <th>0</th>\n      <th>1</th>\n      <th>2</th>\n      <th>3</th>\n      <th>4</th>\n      <th>5</th>\n      <th>6</th>\n    </tr>\n  </thead>\n  <tbody>\n    <tr>\n      <th>0</th>\n      <td>99.0</td>\n      <td>0.0</td>\n      <td>0.0</td>\n      <td>1.0</td>\n      <td>0.0</td>\n      <td>1.0</td>\n      <td>25.0</td>\n    </tr>\n    <tr>\n      <th>1</th>\n      <td>98.0</td>\n      <td>0.0</td>\n      <td>0.0</td>\n      <td>0.0</td>\n      <td>0.0</td>\n      <td>0.0</td>\n      <td>64.0</td>\n    </tr>\n    <tr>\n      <th>2</th>\n      <td>104.0</td>\n      <td>0.0</td>\n      <td>0.0</td>\n      <td>1.0</td>\n      <td>0.0</td>\n      <td>0.0</td>\n      <td>17.0</td>\n    </tr>\n    <tr>\n      <th>3</th>\n      <td>104.0</td>\n      <td>0.0</td>\n      <td>0.0</td>\n      <td>1.0</td>\n      <td>0.0</td>\n      <td>0.0</td>\n      <td>6.0</td>\n    </tr>\n    <tr>\n      <th>4</th>\n      <td>103.0</td>\n      <td>1.0</td>\n      <td>0.0</td>\n      <td>1.0</td>\n      <td>0.0</td>\n      <td>0.0</td>\n      <td>83.0</td>\n    </tr>\n  </tbody>\n</table>\n</div>"
     },
     "execution_count": 24,
     "metadata": {},
     "output_type": "execute_result"
    }
   ]
  },
  {
   "cell_type": "code",
   "outputs": [
    {
     "data": {
      "text/plain": "(80, 7)"
     },
     "execution_count": 27,
     "metadata": {},
     "output_type": "execute_result"
    }
   ],
   "source": [
    "train_x.shape"
   ],
   "metadata": {
    "collapsed": false,
    "ExecuteTime": {
     "end_time": "2024-06-11T05:14:15.238027Z",
     "start_time": "2024-06-11T05:14:15.233908Z"
    }
   },
   "execution_count": 27
  },
  {
   "cell_type": "code",
   "source": [
    "new_train_x.shape"
   ],
   "metadata": {
    "id": "yX_Sj_eT154V",
    "ExecuteTime": {
     "end_time": "2024-06-11T05:11:26.059197Z",
     "start_time": "2024-06-11T05:11:26.047704Z"
    }
   },
   "execution_count": 25,
   "outputs": [
    {
     "data": {
      "text/plain": "(80, 7)"
     },
     "execution_count": 25,
     "metadata": {},
     "output_type": "execute_result"
    }
   ]
  },
  {
   "cell_type": "code",
   "outputs": [],
   "source": [],
   "metadata": {
    "collapsed": false
   }
  }
 ]
}
