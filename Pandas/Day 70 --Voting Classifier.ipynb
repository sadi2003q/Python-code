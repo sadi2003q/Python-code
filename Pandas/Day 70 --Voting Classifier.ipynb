{
 "cells": [
  {
   "cell_type": "markdown",
   "source": [
    "# Loading Datasets"
   ],
   "metadata": {
    "collapsed": false
   },
   "id": "4065c5d32678a8ba"
  },
  {
   "cell_type": "code",
   "execution_count": 153,
   "id": "initial_id",
   "metadata": {
    "collapsed": true,
    "ExecuteTime": {
     "end_time": "2024-07-14T18:32:52.737364Z",
     "start_time": "2024-07-14T18:32:52.730915Z"
    }
   },
   "outputs": [],
   "source": [
    "from sklearn.datasets import load_breast_cancer"
   ]
  },
  {
   "cell_type": "code",
   "outputs": [],
   "source": [
    "x, y = load_breast_cancer(return_X_y=True)"
   ],
   "metadata": {
    "collapsed": false,
    "ExecuteTime": {
     "end_time": "2024-07-14T18:32:52.755848Z",
     "start_time": "2024-07-14T18:32:52.748398Z"
    }
   },
   "id": "d81380b5761e885c",
   "execution_count": 154
  },
  {
   "cell_type": "markdown",
   "source": [
    "# Model Importing and Training "
   ],
   "metadata": {
    "collapsed": false
   },
   "id": "740682b95f8c0e1d"
  },
  {
   "cell_type": "code",
   "outputs": [],
   "source": [
    "from sklearn.linear_model import LogisticRegression\n",
    "from sklearn.ensemble import RandomForestClassifier\n",
    "from sklearn.neighbors import KNeighborsClassifier\n",
    "from Model_Training import Model_Training"
   ],
   "metadata": {
    "collapsed": false,
    "ExecuteTime": {
     "end_time": "2024-07-14T18:32:52.759858Z",
     "start_time": "2024-07-14T18:32:52.756933Z"
    }
   },
   "id": "496e647101dd8082",
   "execution_count": 155
  },
  {
   "cell_type": "code",
   "outputs": [],
   "source": [
    "logistic_regression = LogisticRegression(max_iter=5000)\n",
    "random_forest = RandomForestClassifier()\n",
    "neighbors = KNeighborsClassifier()"
   ],
   "metadata": {
    "collapsed": false,
    "ExecuteTime": {
     "end_time": "2024-07-14T18:32:52.763071Z",
     "start_time": "2024-07-14T18:32:52.760500Z"
    }
   },
   "id": "860f95051708689",
   "execution_count": 156
  },
  {
   "cell_type": "code",
   "outputs": [],
   "source": [
    "model_logistic = Model_Training(logistic_regression, x, y, is_Regression=False)\n",
    "model_random_forest = Model_Training(random_forest, x, y, is_Regression=False)\n",
    "model_neighbors = Model_Training(neighbors, x, y, is_Regression=False)"
   ],
   "metadata": {
    "collapsed": false,
    "ExecuteTime": {
     "end_time": "2024-07-14T18:32:52.767657Z",
     "start_time": "2024-07-14T18:32:52.765332Z"
    }
   },
   "id": "d242227861055ae8",
   "execution_count": 157
  },
  {
   "cell_type": "code",
   "outputs": [],
   "source": [
    "score_logistic =  model_logistic.run()\n",
    "score_random_forest = model_random_forest.run()\n",
    "score_neighbors = model_neighbors.run()"
   ],
   "metadata": {
    "collapsed": false,
    "ExecuteTime": {
     "end_time": "2024-07-14T18:32:54.192207Z",
     "start_time": "2024-07-14T18:32:52.768318Z"
    }
   },
   "id": "26aca5e897819ede",
   "execution_count": 158
  },
  {
   "cell_type": "markdown",
   "source": [
    "# Evaluation of the Algorithm"
   ],
   "metadata": {
    "collapsed": false
   },
   "id": "adfb75e29b6848e0"
  },
  {
   "cell_type": "code",
   "outputs": [
    {
     "data": {
      "text/plain": "   Accuracy  Precision    Recall  F1 Score\n0  0.964912   0.964912  0.964912  0.964912",
      "text/html": "<div>\n<style scoped>\n    .dataframe tbody tr th:only-of-type {\n        vertical-align: middle;\n    }\n\n    .dataframe tbody tr th {\n        vertical-align: top;\n    }\n\n    .dataframe thead th {\n        text-align: right;\n    }\n</style>\n<table border=\"1\" class=\"dataframe\">\n  <thead>\n    <tr style=\"text-align: right;\">\n      <th></th>\n      <th>Accuracy</th>\n      <th>Precision</th>\n      <th>Recall</th>\n      <th>F1 Score</th>\n    </tr>\n  </thead>\n  <tbody>\n    <tr>\n      <th>0</th>\n      <td>0.964912</td>\n      <td>0.964912</td>\n      <td>0.964912</td>\n      <td>0.964912</td>\n    </tr>\n  </tbody>\n</table>\n</div>"
     },
     "execution_count": 159,
     "metadata": {},
     "output_type": "execute_result"
    }
   ],
   "source": [
    "score_logistic.get_classification_score()"
   ],
   "metadata": {
    "collapsed": false,
    "ExecuteTime": {
     "end_time": "2024-07-14T18:32:54.207529Z",
     "start_time": "2024-07-14T18:32:54.193767Z"
    }
   },
   "id": "32c04955efc8d9ed",
   "execution_count": 159
  },
  {
   "cell_type": "code",
   "outputs": [
    {
     "data": {
      "text/plain": "   Accuracy  Precision    Recall  F1 Score\n0  0.885965   0.885479  0.885965  0.885649",
      "text/html": "<div>\n<style scoped>\n    .dataframe tbody tr th:only-of-type {\n        vertical-align: middle;\n    }\n\n    .dataframe tbody tr th {\n        vertical-align: top;\n    }\n\n    .dataframe thead th {\n        text-align: right;\n    }\n</style>\n<table border=\"1\" class=\"dataframe\">\n  <thead>\n    <tr style=\"text-align: right;\">\n      <th></th>\n      <th>Accuracy</th>\n      <th>Precision</th>\n      <th>Recall</th>\n      <th>F1 Score</th>\n    </tr>\n  </thead>\n  <tbody>\n    <tr>\n      <th>0</th>\n      <td>0.885965</td>\n      <td>0.885479</td>\n      <td>0.885965</td>\n      <td>0.885649</td>\n    </tr>\n  </tbody>\n</table>\n</div>"
     },
     "execution_count": 160,
     "metadata": {},
     "output_type": "execute_result"
    }
   ],
   "source": [
    "score_neighbors.get_classification_score()"
   ],
   "metadata": {
    "collapsed": false,
    "ExecuteTime": {
     "end_time": "2024-07-14T18:32:54.218772Z",
     "start_time": "2024-07-14T18:32:54.209578Z"
    }
   },
   "id": "f879d8e369e16703",
   "execution_count": 160
  },
  {
   "cell_type": "code",
   "outputs": [
    {
     "data": {
      "text/plain": "   Accuracy  Precision    Recall  F1 Score\n0  0.912281    0.91827  0.912281  0.910121",
      "text/html": "<div>\n<style scoped>\n    .dataframe tbody tr th:only-of-type {\n        vertical-align: middle;\n    }\n\n    .dataframe tbody tr th {\n        vertical-align: top;\n    }\n\n    .dataframe thead th {\n        text-align: right;\n    }\n</style>\n<table border=\"1\" class=\"dataframe\">\n  <thead>\n    <tr style=\"text-align: right;\">\n      <th></th>\n      <th>Accuracy</th>\n      <th>Precision</th>\n      <th>Recall</th>\n      <th>F1 Score</th>\n    </tr>\n  </thead>\n  <tbody>\n    <tr>\n      <th>0</th>\n      <td>0.912281</td>\n      <td>0.91827</td>\n      <td>0.912281</td>\n      <td>0.910121</td>\n    </tr>\n  </tbody>\n</table>\n</div>"
     },
     "execution_count": 161,
     "metadata": {},
     "output_type": "execute_result"
    }
   ],
   "source": [
    "score_random_forest.get_classification_score()"
   ],
   "metadata": {
    "collapsed": false,
    "ExecuteTime": {
     "end_time": "2024-07-14T18:32:54.229969Z",
     "start_time": "2024-07-14T18:32:54.220353Z"
    }
   },
   "id": "6fa999ce2a4e8025",
   "execution_count": 161
  },
  {
   "cell_type": "markdown",
   "source": [
    "# Voting Ensemble"
   ],
   "metadata": {
    "collapsed": false
   },
   "id": "8d213ed7750181c5"
  },
  {
   "cell_type": "code",
   "outputs": [],
   "source": [
    "from sklearn.ensemble import VotingClassifier"
   ],
   "metadata": {
    "collapsed": false,
    "ExecuteTime": {
     "end_time": "2024-07-14T18:32:54.246093Z",
     "start_time": "2024-07-14T18:32:54.232259Z"
    }
   },
   "id": "8d6dc8ddf45ebf92",
   "execution_count": 162
  },
  {
   "cell_type": "code",
   "outputs": [],
   "source": [
    "estimator = [('cls1', logistic_regression), ('cls2',random_forest), ('cls3',neighbors)]"
   ],
   "metadata": {
    "collapsed": false,
    "ExecuteTime": {
     "end_time": "2024-07-14T18:32:54.259308Z",
     "start_time": "2024-07-14T18:32:54.255773Z"
    }
   },
   "id": "e0fbdf1c384a5ba5",
   "execution_count": 163
  },
  {
   "cell_type": "code",
   "outputs": [],
   "source": [
    "model_voting = VotingClassifier(estimators=estimator)"
   ],
   "metadata": {
    "collapsed": false,
    "ExecuteTime": {
     "end_time": "2024-07-14T18:32:54.263258Z",
     "start_time": "2024-07-14T18:32:54.260570Z"
    }
   },
   "id": "70d8539a1525f028",
   "execution_count": 164
  },
  {
   "cell_type": "code",
   "outputs": [],
   "source": [
    "model_voting = Model_Training(model_voting, x, y, is_Regression=False)"
   ],
   "metadata": {
    "collapsed": false,
    "ExecuteTime": {
     "end_time": "2024-07-14T18:32:54.269763Z",
     "start_time": "2024-07-14T18:32:54.265677Z"
    }
   },
   "id": "85c2a37d87c8798d",
   "execution_count": 165
  },
  {
   "cell_type": "code",
   "outputs": [],
   "source": [
    "score_voting = model_voting.run()"
   ],
   "metadata": {
    "collapsed": false,
    "ExecuteTime": {
     "end_time": "2024-07-14T18:32:54.985252Z",
     "start_time": "2024-07-14T18:32:54.270517Z"
    }
   },
   "id": "78325089059b0f8b",
   "execution_count": 166
  },
  {
   "cell_type": "code",
   "outputs": [
    {
     "data": {
      "text/plain": "   Accuracy  Precision    Recall  F1 Score\n0  0.964912   0.966689  0.964912   0.96442",
      "text/html": "<div>\n<style scoped>\n    .dataframe tbody tr th:only-of-type {\n        vertical-align: middle;\n    }\n\n    .dataframe tbody tr th {\n        vertical-align: top;\n    }\n\n    .dataframe thead th {\n        text-align: right;\n    }\n</style>\n<table border=\"1\" class=\"dataframe\">\n  <thead>\n    <tr style=\"text-align: right;\">\n      <th></th>\n      <th>Accuracy</th>\n      <th>Precision</th>\n      <th>Recall</th>\n      <th>F1 Score</th>\n    </tr>\n  </thead>\n  <tbody>\n    <tr>\n      <th>0</th>\n      <td>0.964912</td>\n      <td>0.966689</td>\n      <td>0.964912</td>\n      <td>0.96442</td>\n    </tr>\n  </tbody>\n</table>\n</div>"
     },
     "execution_count": 167,
     "metadata": {},
     "output_type": "execute_result"
    }
   ],
   "source": [
    "score_voting.get_classification_score()"
   ],
   "metadata": {
    "collapsed": false,
    "ExecuteTime": {
     "end_time": "2024-07-14T18:32:55.026571Z",
     "start_time": "2024-07-14T18:32:54.986868Z"
    }
   },
   "id": "f300b201b82ddc20",
   "execution_count": 167
  }
 ],
 "metadata": {
  "kernelspec": {
   "display_name": "Python 3",
   "language": "python",
   "name": "python3"
  },
  "language_info": {
   "codemirror_mode": {
    "name": "ipython",
    "version": 2
   },
   "file_extension": ".py",
   "mimetype": "text/x-python",
   "name": "python",
   "nbconvert_exporter": "python",
   "pygments_lexer": "ipython2",
   "version": "2.7.6"
  }
 },
 "nbformat": 4,
 "nbformat_minor": 5
}
