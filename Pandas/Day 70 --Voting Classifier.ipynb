{
 "cells": [
  {
   "cell_type": "markdown",
   "source": [
    "# Loading Datasets"
   ],
   "metadata": {
    "collapsed": false
   },
   "id": "4065c5d32678a8ba"
  },
  {
   "cell_type": "code",
   "execution_count": 1,
   "id": "initial_id",
   "metadata": {
    "collapsed": true,
    "ExecuteTime": {
     "end_time": "2024-07-15T11:38:29.458878Z",
     "start_time": "2024-07-15T11:38:28.903444Z"
    }
   },
   "outputs": [],
   "source": [
    "from sklearn.datasets import load_breast_cancer"
   ]
  },
  {
   "cell_type": "code",
   "outputs": [],
   "source": [
    "x, y = load_breast_cancer(return_X_y=True)"
   ],
   "metadata": {
    "collapsed": false,
    "ExecuteTime": {
     "end_time": "2024-07-15T11:38:29.466782Z",
     "start_time": "2024-07-15T11:38:29.459886Z"
    }
   },
   "id": "d81380b5761e885c",
   "execution_count": 2
  },
  {
   "cell_type": "markdown",
   "source": [
    "# Model Importing and Training "
   ],
   "metadata": {
    "collapsed": false
   },
   "id": "740682b95f8c0e1d"
  },
  {
   "cell_type": "code",
   "outputs": [],
   "source": [
    "from sklearn.linear_model import LogisticRegression\n",
    "from sklearn.ensemble import RandomForestClassifier\n",
    "from sklearn.neighbors import KNeighborsClassifier\n",
    "from Model_Training import Model_Training"
   ],
   "metadata": {
    "collapsed": false,
    "ExecuteTime": {
     "end_time": "2024-07-15T11:38:29.799862Z",
     "start_time": "2024-07-15T11:38:29.467541Z"
    }
   },
   "id": "496e647101dd8082",
   "execution_count": 3
  },
  {
   "cell_type": "code",
   "outputs": [],
   "source": [
    "logistic_regression = LogisticRegression(max_iter=5000)\n",
    "random_forest = RandomForestClassifier()\n",
    "neighbors = KNeighborsClassifier()"
   ],
   "metadata": {
    "collapsed": false,
    "ExecuteTime": {
     "end_time": "2024-07-15T11:38:29.803120Z",
     "start_time": "2024-07-15T11:38:29.801009Z"
    }
   },
   "id": "860f95051708689",
   "execution_count": 4
  },
  {
   "cell_type": "code",
   "outputs": [],
   "source": [
    "model_logistic = Model_Training(logistic_regression, x, y, is_Regression=False)\n",
    "model_random_forest = Model_Training(random_forest, x, y, is_Regression=False)\n",
    "model_neighbors = Model_Training(neighbors, x, y, is_Regression=False)"
   ],
   "metadata": {
    "collapsed": false,
    "ExecuteTime": {
     "end_time": "2024-07-15T11:38:29.805967Z",
     "start_time": "2024-07-15T11:38:29.803907Z"
    }
   },
   "id": "d242227861055ae8",
   "execution_count": 5
  },
  {
   "cell_type": "code",
   "outputs": [],
   "source": [
    "score_logistic =  model_logistic.run()\n",
    "score_random_forest = model_random_forest.run()\n",
    "score_neighbors = model_neighbors.run()"
   ],
   "metadata": {
    "collapsed": false,
    "ExecuteTime": {
     "end_time": "2024-07-15T11:38:30.654179Z",
     "start_time": "2024-07-15T11:38:29.806574Z"
    }
   },
   "id": "26aca5e897819ede",
   "execution_count": 6
  },
  {
   "cell_type": "markdown",
   "source": [
    "# Evaluation of the Algorithm"
   ],
   "metadata": {
    "collapsed": false
   },
   "id": "adfb75e29b6848e0"
  },
  {
   "cell_type": "code",
   "outputs": [
    {
     "data": {
      "text/plain": "   Accuracy  Precision    Recall  F1 Score\n0  0.964912   0.964912  0.964912  0.964912",
      "text/html": "<div>\n<style scoped>\n    .dataframe tbody tr th:only-of-type {\n        vertical-align: middle;\n    }\n\n    .dataframe tbody tr th {\n        vertical-align: top;\n    }\n\n    .dataframe thead th {\n        text-align: right;\n    }\n</style>\n<table border=\"1\" class=\"dataframe\">\n  <thead>\n    <tr style=\"text-align: right;\">\n      <th></th>\n      <th>Accuracy</th>\n      <th>Precision</th>\n      <th>Recall</th>\n      <th>F1 Score</th>\n    </tr>\n  </thead>\n  <tbody>\n    <tr>\n      <th>0</th>\n      <td>0.964912</td>\n      <td>0.964912</td>\n      <td>0.964912</td>\n      <td>0.964912</td>\n    </tr>\n  </tbody>\n</table>\n</div>"
     },
     "execution_count": 7,
     "metadata": {},
     "output_type": "execute_result"
    }
   ],
   "source": [
    "score_logistic.get_score()"
   ],
   "metadata": {
    "collapsed": false,
    "ExecuteTime": {
     "end_time": "2024-07-15T11:38:30.674396Z",
     "start_time": "2024-07-15T11:38:30.657038Z"
    }
   },
   "id": "32c04955efc8d9ed",
   "execution_count": 7
  },
  {
   "cell_type": "code",
   "outputs": [
    {
     "data": {
      "text/plain": "   Accuracy  Precision   Recall  F1 Score\n0   0.95614    0.95872  0.95614  0.955064",
      "text/html": "<div>\n<style scoped>\n    .dataframe tbody tr th:only-of-type {\n        vertical-align: middle;\n    }\n\n    .dataframe tbody tr th {\n        vertical-align: top;\n    }\n\n    .dataframe thead th {\n        text-align: right;\n    }\n</style>\n<table border=\"1\" class=\"dataframe\">\n  <thead>\n    <tr style=\"text-align: right;\">\n      <th></th>\n      <th>Accuracy</th>\n      <th>Precision</th>\n      <th>Recall</th>\n      <th>F1 Score</th>\n    </tr>\n  </thead>\n  <tbody>\n    <tr>\n      <th>0</th>\n      <td>0.95614</td>\n      <td>0.95872</td>\n      <td>0.95614</td>\n      <td>0.955064</td>\n    </tr>\n  </tbody>\n</table>\n</div>"
     },
     "execution_count": 8,
     "metadata": {},
     "output_type": "execute_result"
    }
   ],
   "source": [
    "score_neighbors.get_score()"
   ],
   "metadata": {
    "collapsed": false,
    "ExecuteTime": {
     "end_time": "2024-07-15T11:38:30.696106Z",
     "start_time": "2024-07-15T11:38:30.676925Z"
    }
   },
   "id": "f879d8e369e16703",
   "execution_count": 8
  },
  {
   "cell_type": "code",
   "outputs": [
    {
     "data": {
      "text/plain": "   Accuracy  Precision    Recall  F1 Score\n0  0.973684   0.975709  0.973684  0.973953",
      "text/html": "<div>\n<style scoped>\n    .dataframe tbody tr th:only-of-type {\n        vertical-align: middle;\n    }\n\n    .dataframe tbody tr th {\n        vertical-align: top;\n    }\n\n    .dataframe thead th {\n        text-align: right;\n    }\n</style>\n<table border=\"1\" class=\"dataframe\">\n  <thead>\n    <tr style=\"text-align: right;\">\n      <th></th>\n      <th>Accuracy</th>\n      <th>Precision</th>\n      <th>Recall</th>\n      <th>F1 Score</th>\n    </tr>\n  </thead>\n  <tbody>\n    <tr>\n      <th>0</th>\n      <td>0.973684</td>\n      <td>0.975709</td>\n      <td>0.973684</td>\n      <td>0.973953</td>\n    </tr>\n  </tbody>\n</table>\n</div>"
     },
     "execution_count": 9,
     "metadata": {},
     "output_type": "execute_result"
    }
   ],
   "source": [
    "score_random_forest.get_score()"
   ],
   "metadata": {
    "collapsed": false,
    "ExecuteTime": {
     "end_time": "2024-07-15T11:38:30.711754Z",
     "start_time": "2024-07-15T11:38:30.700809Z"
    }
   },
   "id": "6fa999ce2a4e8025",
   "execution_count": 9
  },
  {
   "cell_type": "markdown",
   "source": [
    "# Voting Ensemble"
   ],
   "metadata": {
    "collapsed": false
   },
   "id": "8d213ed7750181c5"
  },
  {
   "cell_type": "code",
   "outputs": [],
   "source": [
    "from sklearn.ensemble import VotingClassifier"
   ],
   "metadata": {
    "collapsed": false,
    "ExecuteTime": {
     "end_time": "2024-07-15T11:38:30.717155Z",
     "start_time": "2024-07-15T11:38:30.715025Z"
    }
   },
   "id": "8d6dc8ddf45ebf92",
   "execution_count": 10
  },
  {
   "cell_type": "code",
   "outputs": [],
   "source": [
    "estimator = [('cls1', logistic_regression), ('cls2',random_forest), ('cls3',neighbors)]"
   ],
   "metadata": {
    "collapsed": false,
    "ExecuteTime": {
     "end_time": "2024-07-15T11:38:30.720294Z",
     "start_time": "2024-07-15T11:38:30.718141Z"
    }
   },
   "id": "e0fbdf1c384a5ba5",
   "execution_count": 11
  },
  {
   "cell_type": "code",
   "outputs": [],
   "source": [
    "model_voting = VotingClassifier(estimators=estimator)"
   ],
   "metadata": {
    "collapsed": false,
    "ExecuteTime": {
     "end_time": "2024-07-15T11:38:30.723115Z",
     "start_time": "2024-07-15T11:38:30.721186Z"
    }
   },
   "id": "70d8539a1525f028",
   "execution_count": 12
  },
  {
   "cell_type": "code",
   "outputs": [],
   "source": [
    "model_voting = Model_Training(model_voting, x, y, is_Regression=False)"
   ],
   "metadata": {
    "collapsed": false,
    "ExecuteTime": {
     "end_time": "2024-07-15T11:38:30.726267Z",
     "start_time": "2024-07-15T11:38:30.723844Z"
    }
   },
   "id": "85c2a37d87c8798d",
   "execution_count": 13
  },
  {
   "cell_type": "code",
   "outputs": [],
   "source": [
    "score_voting = model_voting.run()"
   ],
   "metadata": {
    "collapsed": false,
    "ExecuteTime": {
     "end_time": "2024-07-15T11:38:32.041440Z",
     "start_time": "2024-07-15T11:38:30.727282Z"
    }
   },
   "id": "78325089059b0f8b",
   "execution_count": 14
  },
  {
   "cell_type": "code",
   "outputs": [
    {
     "data": {
      "text/plain": "   Accuracy  Precision    Recall  F1 Score\n0  0.938596   0.939059  0.938596  0.938122",
      "text/html": "<div>\n<style scoped>\n    .dataframe tbody tr th:only-of-type {\n        vertical-align: middle;\n    }\n\n    .dataframe tbody tr th {\n        vertical-align: top;\n    }\n\n    .dataframe thead th {\n        text-align: right;\n    }\n</style>\n<table border=\"1\" class=\"dataframe\">\n  <thead>\n    <tr style=\"text-align: right;\">\n      <th></th>\n      <th>Accuracy</th>\n      <th>Precision</th>\n      <th>Recall</th>\n      <th>F1 Score</th>\n    </tr>\n  </thead>\n  <tbody>\n    <tr>\n      <th>0</th>\n      <td>0.938596</td>\n      <td>0.939059</td>\n      <td>0.938596</td>\n      <td>0.938122</td>\n    </tr>\n  </tbody>\n</table>\n</div>"
     },
     "execution_count": 15,
     "metadata": {},
     "output_type": "execute_result"
    }
   ],
   "source": [
    "score_voting.get_score()"
   ],
   "metadata": {
    "collapsed": false,
    "ExecuteTime": {
     "end_time": "2024-07-15T11:38:32.053585Z",
     "start_time": "2024-07-15T11:38:32.043101Z"
    }
   },
   "id": "f300b201b82ddc20",
   "execution_count": 15
  }
 ],
 "metadata": {
  "kernelspec": {
   "display_name": "Python 3",
   "language": "python",
   "name": "python3"
  },
  "language_info": {
   "codemirror_mode": {
    "name": "ipython",
    "version": 2
   },
   "file_extension": ".py",
   "mimetype": "text/x-python",
   "name": "python",
   "nbconvert_exporter": "python",
   "pygments_lexer": "ipython2",
   "version": "2.7.6"
  }
 },
 "nbformat": 4,
 "nbformat_minor": 5
}
