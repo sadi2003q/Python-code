{
 "cells": [
  {
   "cell_type": "code",
   "execution_count": 6,
   "id": "initial_id",
   "metadata": {
    "collapsed": true,
    "ExecuteTime": {
     "end_time": "2024-07-08T15:55:08.782248Z",
     "start_time": "2024-07-08T15:55:08.778363Z"
    }
   },
   "outputs": [],
   "source": [
    "import pandas as pd\n",
    "from sklearn.metrics import accuracy_score, precision_score, recall_score, f1_score, confusion_matrix, classification_report"
   ]
  },
  {
   "cell_type": "code",
   "outputs": [],
   "source": [
    "class ClassificationMetrics:\n",
    "    def __init__(self, Y_test, Y_prediction):\n",
    "        self.Y_test = Y_test\n",
    "        self.Y_prediction = Y_prediction\n",
    "\n",
    "    def get_metrics(self):\n",
    "        metrics = {\n",
    "            'Accuracy': accuracy_score(self.Y_test, self.Y_prediction),\n",
    "            'Precision': precision_score(self.Y_test, self.Y_prediction, average='weighted'),\n",
    "            'Recall': recall_score(self.Y_test, self.Y_prediction, average='weighted'),\n",
    "            'F1 Score': f1_score(self.Y_test, self.Y_prediction, average='weighted')\n",
    "        }\n",
    "        return pd.DataFrame([metrics])\n",
    "\n",
    "    def get_confusion_matrix(self):\n",
    "        return pd.DataFrame(confusion_matrix(self.Y_test, self.Y_prediction))\n",
    "\n",
    "    def get_classification_report(self):\n",
    "        report_dict = classification_report(self.Y_test, self.Y_prediction, output_dict=True)\n",
    "        return pd.DataFrame(report_dict).transpose()"
   ],
   "metadata": {
    "collapsed": false,
    "ExecuteTime": {
     "end_time": "2024-07-08T15:55:08.793249Z",
     "start_time": "2024-07-08T15:55:08.788236Z"
    }
   },
   "id": "3507a6b84d6d853d",
   "execution_count": 7
  }
 ],
 "metadata": {
  "kernelspec": {
   "display_name": "Python 3",
   "language": "python",
   "name": "python3"
  },
  "language_info": {
   "codemirror_mode": {
    "name": "ipython",
    "version": 2
   },
   "file_extension": ".py",
   "mimetype": "text/x-python",
   "name": "python",
   "nbconvert_exporter": "python",
   "pygments_lexer": "ipython2",
   "version": "2.7.6"
  }
 },
 "nbformat": 4,
 "nbformat_minor": 5
}
