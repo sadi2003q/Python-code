{
 "cells": [
  {
   "cell_type": "code",
   "outputs": [
    {
     "name": "stdout",
     "output_type": "stream",
     "text": [
      "<class 'pandas.core.frame.DataFrame'>\n",
      "Index: 334 entries, 0 to 333\n",
      "Data columns (total 5 columns):\n",
      " #   Column  Non-Null Count  Dtype  \n",
      "---  ------  --------------  -----  \n",
      " 0   0       334 non-null    float64\n",
      " 1   1       334 non-null    float64\n",
      " 2   2       334 non-null    float64\n",
      " 3   3       334 non-null    float64\n",
      " 4   4       334 non-null    float64\n",
      "dtypes: float64(5)\n",
      "memory usage: 15.7 KB\n"
     ]
    }
   ],
   "source": [
    "import pandas as pd\n",
    "import numpy as np\n",
    "# newSeries = pd.Series(np.random.randn(35))\n",
    "# print(newSeries.head())\n",
    "# print(type(newSeries))\n",
    "\n",
    "newDataframe = pd.DataFrame(np.random.randn(334, 5), index=np.arange(334))\n",
    "#print(newDataframe.tail())\n",
    "\n",
    "#newDataframe.dtypes #print the data types of all column \n",
    "\n",
    "#newDataframe.index #print all the row\n",
    "#newDataframe.columns #print all the column\n",
    "\n",
    "#newDataframe.to_numpy() # make the array into a numpy array\n",
    "\n",
    "\n",
    "#newDataframe.T #transpose the matrix\n",
    "#newDataframe.sort_index(axis=1, ascending=False) #sorting (axis=1 -> column, axis=0 -> row)\n",
    "newDataframe.info()"
   ],
   "metadata": {
    "collapsed": false,
    "ExecuteTime": {
     "end_time": "2024-04-26T16:29:05.780809Z",
     "start_time": "2024-04-26T16:29:05.762766Z"
    }
   },
   "id": "1321b204572f439d",
   "execution_count": 20
  },
  {
   "cell_type": "code",
   "outputs": [
    {
     "name": "stdout",
     "output_type": "stream",
     "text": [
      "   Unnamed: 0  cgpa     iq  placement\n",
      "0           0   6.8  123.0          1\n",
      "1           1   5.9  106.0          0\n",
      "2           2   5.3  121.0          0\n",
      "3           3   7.4  132.0          1\n",
      "4           4   5.8  142.0          0\n"
     ]
    }
   ],
   "source": [
    "import pandas as pd\n",
    "df = pd.read_csv('placement.csv')\n",
    "print(df.head())"
   ],
   "metadata": {
    "collapsed": false,
    "ExecuteTime": {
     "end_time": "2024-04-26T16:24:31.533999Z",
     "start_time": "2024-04-26T16:24:31.496958Z"
    }
   },
   "id": "614bb07458a838f8",
   "execution_count": 19
  },
  {
   "cell_type": "code",
   "outputs": [],
   "source": [],
   "metadata": {
    "collapsed": false
   },
   "id": "d586155e3a2b7356"
  }
 ],
 "metadata": {
  "kernelspec": {
   "display_name": "Python 3",
   "language": "python",
   "name": "python3"
  },
  "language_info": {
   "codemirror_mode": {
    "name": "ipython",
    "version": 2
   },
   "file_extension": ".py",
   "mimetype": "text/x-python",
   "name": "python",
   "nbconvert_exporter": "python",
   "pygments_lexer": "ipython2",
   "version": "2.7.6"
  }
 },
 "nbformat": 4,
 "nbformat_minor": 5
}
