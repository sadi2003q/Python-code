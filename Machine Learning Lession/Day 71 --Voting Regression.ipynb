{
 "cells": [
  {
   "cell_type": "markdown",
   "source": [
    "# Loading Datasets"
   ],
   "metadata": {
    "collapsed": false
   },
   "id": "2b5405eddc655046"
  },
  {
   "cell_type": "code",
   "execution_count": 45,
   "id": "initial_id",
   "metadata": {
    "collapsed": true,
    "ExecuteTime": {
     "end_time": "2024-07-23T07:45:26.343774Z",
     "start_time": "2024-07-23T07:45:26.341417Z"
    }
   },
   "outputs": [],
   "source": [
    "from sklearn.datasets import load_diabetes"
   ]
  },
  {
   "cell_type": "code",
   "outputs": [],
   "source": [
    "x, y = load_diabetes(return_X_y=True)"
   ],
   "metadata": {
    "collapsed": false,
    "ExecuteTime": {
     "end_time": "2024-07-23T07:45:26.371955Z",
     "start_time": "2024-07-23T07:45:26.367868Z"
    }
   },
   "id": "b3b206b09fe5b27a",
   "execution_count": 46
  },
  {
   "cell_type": "markdown",
   "source": [
    "# Model training "
   ],
   "metadata": {
    "collapsed": false
   },
   "id": "732e2f2495a46868"
  },
  {
   "cell_type": "code",
   "outputs": [],
   "source": [
    "from sklearn.linear_model import LinearRegression, SGDRegressor\n",
    "from Model_Training import Model_Training\n",
    "from sklearn.ensemble import VotingRegressor"
   ],
   "metadata": {
    "collapsed": false,
    "ExecuteTime": {
     "end_time": "2024-07-23T07:45:26.378534Z",
     "start_time": "2024-07-23T07:45:26.375655Z"
    }
   },
   "id": "55519aa9918d5abe",
   "execution_count": 47
  },
  {
   "cell_type": "code",
   "outputs": [],
   "source": [
    "estimator = [ ('linear regression', LinearRegression()), ('sgd regression', SGDRegressor(learning_rate='constant', eta0=0.01))]"
   ],
   "metadata": {
    "collapsed": false,
    "ExecuteTime": {
     "end_time": "2024-07-23T07:45:26.382555Z",
     "start_time": "2024-07-23T07:45:26.380575Z"
    }
   },
   "id": "442c4228950868fe",
   "execution_count": 48
  },
  {
   "cell_type": "code",
   "outputs": [],
   "source": [
    "voting_regressor = VotingRegressor(estimators=estimator)"
   ],
   "metadata": {
    "collapsed": false,
    "ExecuteTime": {
     "end_time": "2024-07-23T07:45:26.386710Z",
     "start_time": "2024-07-23T07:45:26.383675Z"
    }
   },
   "id": "abe6ce7e9271f616",
   "execution_count": 49
  },
  {
   "cell_type": "code",
   "outputs": [],
   "source": [
    "model_voting_regressor = Model_Training(voting_regressor, x, y)\n",
    "model_linear_regression = Model_Training(LinearRegression(), x, y)\n",
    "model_sgd_regressor = Model_Training(SGDRegressor(learning_rate='constant', eta0=0.01), x, y)"
   ],
   "metadata": {
    "collapsed": false,
    "ExecuteTime": {
     "end_time": "2024-07-23T07:45:26.390727Z",
     "start_time": "2024-07-23T07:45:26.388666Z"
    }
   },
   "id": "97094f41bf3200a2",
   "execution_count": 50
  },
  {
   "cell_type": "code",
   "outputs": [],
   "source": [
    "score_linear_regression = model_linear_regression.run()\n",
    "score_sgd_regression = model_sgd_regressor.run()\n",
    "score_voting_regressor = model_voting_regressor.run()"
   ],
   "metadata": {
    "collapsed": false,
    "ExecuteTime": {
     "end_time": "2024-07-23T07:45:26.401075Z",
     "start_time": "2024-07-23T07:45:26.392722Z"
    }
   },
   "id": "52363a7ec2428029",
   "execution_count": 51
  },
  {
   "cell_type": "markdown",
   "source": [
    "# Evaluation"
   ],
   "metadata": {
    "collapsed": false
   },
   "id": "4fe34c5708850b1d"
  },
  {
   "cell_type": "code",
   "outputs": [
    {
     "data": {
      "text/plain": "   r2_score  mean_absolute_error  mean_squared_error  cross_val_score\n0  0.447387          3699.814248           50.870904          0.45821",
      "text/html": "<div>\n<style scoped>\n    .dataframe tbody tr th:only-of-type {\n        vertical-align: middle;\n    }\n\n    .dataframe tbody tr th {\n        vertical-align: top;\n    }\n\n    .dataframe thead th {\n        text-align: right;\n    }\n</style>\n<table border=\"1\" class=\"dataframe\">\n  <thead>\n    <tr style=\"text-align: right;\">\n      <th></th>\n      <th>r2_score</th>\n      <th>mean_absolute_error</th>\n      <th>mean_squared_error</th>\n      <th>cross_val_score</th>\n    </tr>\n  </thead>\n  <tbody>\n    <tr>\n      <th>0</th>\n      <td>0.447387</td>\n      <td>3699.814248</td>\n      <td>50.870904</td>\n      <td>0.45821</td>\n    </tr>\n  </tbody>\n</table>\n</div>"
     },
     "execution_count": 52,
     "metadata": {},
     "output_type": "execute_result"
    }
   ],
   "source": [
    "score_linear_regression.get_score()"
   ],
   "metadata": {
    "collapsed": false,
    "ExecuteTime": {
     "end_time": "2024-07-23T07:45:26.412685Z",
     "start_time": "2024-07-23T07:45:26.402130Z"
    }
   },
   "id": "dfe4a946e7fdef24",
   "execution_count": 52
  },
  {
   "cell_type": "code",
   "outputs": [
    {
     "data": {
      "text/plain": "   r2_score  mean_absolute_error  mean_squared_error  cross_val_score\n0  0.431732          3128.982142           45.147243         0.433306",
      "text/html": "<div>\n<style scoped>\n    .dataframe tbody tr th:only-of-type {\n        vertical-align: middle;\n    }\n\n    .dataframe tbody tr th {\n        vertical-align: top;\n    }\n\n    .dataframe thead th {\n        text-align: right;\n    }\n</style>\n<table border=\"1\" class=\"dataframe\">\n  <thead>\n    <tr style=\"text-align: right;\">\n      <th></th>\n      <th>r2_score</th>\n      <th>mean_absolute_error</th>\n      <th>mean_squared_error</th>\n      <th>cross_val_score</th>\n    </tr>\n  </thead>\n  <tbody>\n    <tr>\n      <th>0</th>\n      <td>0.431732</td>\n      <td>3128.982142</td>\n      <td>45.147243</td>\n      <td>0.433306</td>\n    </tr>\n  </tbody>\n</table>\n</div>"
     },
     "execution_count": 53,
     "metadata": {},
     "output_type": "execute_result"
    }
   ],
   "source": [
    "score_sgd_regression.get_score()"
   ],
   "metadata": {
    "collapsed": false,
    "ExecuteTime": {
     "end_time": "2024-07-23T07:45:26.437482Z",
     "start_time": "2024-07-23T07:45:26.413995Z"
    }
   },
   "id": "d68ef9bd33940688",
   "execution_count": 53
  },
  {
   "cell_type": "code",
   "outputs": [
    {
     "data": {
      "text/plain": "   r2_score  mean_absolute_error  mean_squared_error  cross_val_score\n0  0.447236          3299.827058           46.431058         0.478721",
      "text/html": "<div>\n<style scoped>\n    .dataframe tbody tr th:only-of-type {\n        vertical-align: middle;\n    }\n\n    .dataframe tbody tr th {\n        vertical-align: top;\n    }\n\n    .dataframe thead th {\n        text-align: right;\n    }\n</style>\n<table border=\"1\" class=\"dataframe\">\n  <thead>\n    <tr style=\"text-align: right;\">\n      <th></th>\n      <th>r2_score</th>\n      <th>mean_absolute_error</th>\n      <th>mean_squared_error</th>\n      <th>cross_val_score</th>\n    </tr>\n  </thead>\n  <tbody>\n    <tr>\n      <th>0</th>\n      <td>0.447236</td>\n      <td>3299.827058</td>\n      <td>46.431058</td>\n      <td>0.478721</td>\n    </tr>\n  </tbody>\n</table>\n</div>"
     },
     "execution_count": 54,
     "metadata": {},
     "output_type": "execute_result"
    }
   ],
   "source": [
    "score_voting_regressor.get_score()"
   ],
   "metadata": {
    "collapsed": false,
    "ExecuteTime": {
     "end_time": "2024-07-23T07:45:26.470138Z",
     "start_time": "2024-07-23T07:45:26.438224Z"
    }
   },
   "id": "f05252ba4d8fafb2",
   "execution_count": 54
  }
 ],
 "metadata": {
  "kernelspec": {
   "display_name": "Python 3",
   "language": "python",
   "name": "python3"
  },
  "language_info": {
   "codemirror_mode": {
    "name": "ipython",
    "version": 2
   },
   "file_extension": ".py",
   "mimetype": "text/x-python",
   "name": "python",
   "nbconvert_exporter": "python",
   "pygments_lexer": "ipython2",
   "version": "2.7.6"
  }
 },
 "nbformat": 4,
 "nbformat_minor": 5
}
