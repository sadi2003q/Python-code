{
 "cells": [
  {
   "cell_type": "markdown",
   "source": [
    "# Loading Datasets (Housing Price)"
   ],
   "metadata": {
    "collapsed": false
   },
   "id": "fe21ebb9ff41a220"
  },
  {
   "cell_type": "code",
   "execution_count": 15,
   "id": "initial_id",
   "metadata": {
    "collapsed": true,
    "ExecuteTime": {
     "end_time": "2024-07-24T04:24:06.562563Z",
     "start_time": "2024-07-24T04:24:06.559288Z"
    }
   },
   "outputs": [],
   "source": [
    "from sklearn.datasets import fetch_california_housing"
   ]
  },
  {
   "cell_type": "code",
   "outputs": [],
   "source": [
    "housing = fetch_california_housing()"
   ],
   "metadata": {
    "collapsed": false,
    "ExecuteTime": {
     "end_time": "2024-07-24T04:24:06.590357Z",
     "start_time": "2024-07-24T04:24:06.582649Z"
    }
   },
   "id": "c4c91e232115bd09",
   "execution_count": 16
  },
  {
   "cell_type": "markdown",
   "source": [
    "# Bagging Regressor"
   ],
   "metadata": {
    "collapsed": false
   },
   "id": "c80d4b54a6232dbc"
  },
  {
   "cell_type": "code",
   "outputs": [],
   "source": [
    "from sklearn.ensemble import BaggingRegressor\n",
    "from sklearn.tree import DecisionTreeRegressor\n",
    "from Model_Training import Model_Training"
   ],
   "metadata": {
    "collapsed": false,
    "ExecuteTime": {
     "end_time": "2024-07-24T04:24:06.599785Z",
     "start_time": "2024-07-24T04:24:06.596329Z"
    }
   },
   "id": "aba9877e5dfe3ef9",
   "execution_count": 17
  },
  {
   "cell_type": "code",
   "outputs": [],
   "source": [
    "Bag = BaggingRegressor(\n",
    "    estimator=DecisionTreeRegressor(),\n",
    "    n_estimators = 100,\n",
    "    max_samples = 0.35,\n",
    "    bootstrap = True,\n",
    "    n_jobs=-1\n",
    ")"
   ],
   "metadata": {
    "collapsed": false,
    "ExecuteTime": {
     "end_time": "2024-07-24T04:24:06.603296Z",
     "start_time": "2024-07-24T04:24:06.601262Z"
    }
   },
   "id": "b6490f0d7ce856b9",
   "execution_count": 18
  },
  {
   "cell_type": "code",
   "outputs": [],
   "source": [
    "model_bagging = Model_Training(Bag, housing.data, housing.target)"
   ],
   "metadata": {
    "collapsed": false,
    "ExecuteTime": {
     "end_time": "2024-07-24T04:24:06.610081Z",
     "start_time": "2024-07-24T04:24:06.607834Z"
    }
   },
   "id": "ea2956a6053bfc6f",
   "execution_count": 19
  },
  {
   "cell_type": "code",
   "outputs": [],
   "source": [
    "score = model_bagging.run()"
   ],
   "metadata": {
    "collapsed": false,
    "ExecuteTime": {
     "end_time": "2024-07-24T04:24:07.811661Z",
     "start_time": "2024-07-24T04:24:06.610639Z"
    }
   },
   "id": "bce444168f5140c4",
   "execution_count": 20
  },
  {
   "cell_type": "code",
   "outputs": [
    {
     "data": {
      "text/plain": "   r2_score  mean_absolute_error  mean_squared_error  cross_val_score\n0  0.794456             0.274116            0.347838         0.795825",
      "text/html": "<div>\n<style scoped>\n    .dataframe tbody tr th:only-of-type {\n        vertical-align: middle;\n    }\n\n    .dataframe tbody tr th {\n        vertical-align: top;\n    }\n\n    .dataframe thead th {\n        text-align: right;\n    }\n</style>\n<table border=\"1\" class=\"dataframe\">\n  <thead>\n    <tr style=\"text-align: right;\">\n      <th></th>\n      <th>r2_score</th>\n      <th>mean_absolute_error</th>\n      <th>mean_squared_error</th>\n      <th>cross_val_score</th>\n    </tr>\n  </thead>\n  <tbody>\n    <tr>\n      <th>0</th>\n      <td>0.794456</td>\n      <td>0.274116</td>\n      <td>0.347838</td>\n      <td>0.795825</td>\n    </tr>\n  </tbody>\n</table>\n</div>"
     },
     "execution_count": 21,
     "metadata": {},
     "output_type": "execute_result"
    }
   ],
   "source": [
    "score.get_score()"
   ],
   "metadata": {
    "collapsed": false,
    "ExecuteTime": {
     "end_time": "2024-07-24T04:24:16.922140Z",
     "start_time": "2024-07-24T04:24:07.812742Z"
    }
   },
   "id": "13e2d8208673cfaa",
   "execution_count": 21
  }
 ],
 "metadata": {
  "kernelspec": {
   "display_name": "Python 3",
   "language": "python",
   "name": "python3"
  },
  "language_info": {
   "codemirror_mode": {
    "name": "ipython",
    "version": 2
   },
   "file_extension": ".py",
   "mimetype": "text/x-python",
   "name": "python",
   "nbconvert_exporter": "python",
   "pygments_lexer": "ipython2",
   "version": "2.7.6"
  }
 },
 "nbformat": 4,
 "nbformat_minor": 5
}
