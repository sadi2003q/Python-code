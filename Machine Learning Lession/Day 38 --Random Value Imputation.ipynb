{
  "cells": [
    {
      "cell_type": "code",
      "source": [
        "import pandas as pd\n",
        "import matplotlib.pyplot as plt\n",
        "import numpy as np\n",
        "\n",
        "from sklearn.model_selection import train_test_split as split\n",
        "from sklearn.impute import SimpleImputer as imputer\n"
      ],
      "metadata": {
        "id": "mXVmVSRTK8qA"
      },
      "execution_count": null,
      "outputs": []
    },
    {
      "cell_type": "code",
      "source": [
        "df = pd.read_csv('train.csv')"
      ],
      "metadata": {
        "id": "jZXTvgiMLWR5"
      },
      "execution_count": null,
      "outputs": []
    },
    {
      "cell_type": "code",
      "source": [
        "df = df.drop(columns = ['PassengerId', 'Ticket', 'Cabin'])"
      ],
      "metadata": {
        "id": "uAv2PLLsLZma"
      },
      "execution_count": null,
      "outputs": []
    },
    {
      "cell_type": "markdown",
      "source": [
        "# Filling with Random value"
      ],
      "metadata": {
        "id": "7cD5gfX9Oj5a"
      }
    },
    {
      "cell_type": "code",
      "source": [
        "train_x, test_x, train_y, test_y = split(df.drop(columns = ['Survived']),\n",
        "                                         df['Survived'], test_size=0.2)"
      ],
      "metadata": {
        "id": "y-Q4h5WQLvvm"
      },
      "execution_count": null,
      "outputs": []
    },
    {
      "cell_type": "code",
      "source": [
        "train_x['Age'][train_x['Age'].isnull()] = train_x['Age'].dropna().sample(train_x[\n",
        "    'Age'].isnull().sum()).values"
      ],
      "metadata": {
        "id": "y6bfx3KxMLrk"
      },
      "execution_count": null,
      "outputs": []
    },
    {
      "cell_type": "code",
      "source": [
        "test_x['Age'][test_x['Age'].isnull()] = test_x['Age'].dropna().sample(test_x[\n",
        "    'Age'].isnull().sum()).values"
      ],
      "metadata": {
        "id": "odk3eAW7VgTA"
      },
      "execution_count": null,
      "outputs": []
    },
    {
      "cell_type": "code",
      "source": [],
      "metadata": {
        "id": "L5-uQsV4VrZR"
      },
      "execution_count": null,
      "outputs": []
    }
  ],
  "metadata": {
    "colab": {
      "provenance": []
    },
    "kernelspec": {
      "display_name": "Python 3",
      "name": "python3"
    },
    "language_info": {
      "name": "python"
    }
  },
  "nbformat": 4,
  "nbformat_minor": 0
}