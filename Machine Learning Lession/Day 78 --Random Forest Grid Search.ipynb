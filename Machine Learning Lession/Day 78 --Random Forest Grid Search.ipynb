{
 "cells": [
  {
   "cell_type": "markdown",
   "source": [
    "# Loading Dataset"
   ],
   "metadata": {
    "collapsed": false
   },
   "id": "d09f20aeb60ed087"
  },
  {
   "cell_type": "code",
   "execution_count": 1,
   "id": "initial_id",
   "metadata": {
    "collapsed": true,
    "ExecuteTime": {
     "end_time": "2024-07-26T08:45:29.960948Z",
     "start_time": "2024-07-26T08:45:29.959405Z"
    }
   },
   "outputs": [],
   "source": [
    "import pandas as pd"
   ]
  },
  {
   "cell_type": "code",
   "outputs": [],
   "source": [
    "df = pd.read_csv('All_CSV/heart.csv')"
   ],
   "metadata": {
    "collapsed": false,
    "ExecuteTime": {
     "end_time": "2024-07-26T08:45:37.786489Z",
     "start_time": "2024-07-26T08:45:37.772866Z"
    }
   },
   "id": "c2264a798e96e1da",
   "execution_count": 2
  },
  {
   "cell_type": "markdown",
   "source": [
    "# Grid Search CV and Random Forest"
   ],
   "metadata": {
    "collapsed": false
   },
   "id": "83014ec9fff4b189"
  },
  {
   "cell_type": "code",
   "outputs": [],
   "source": [
    "from sklearn.model_selection import GridSearchCV\n",
    "from sklearn.ensemble import RandomForestClassifier"
   ],
   "metadata": {
    "collapsed": false,
    "ExecuteTime": {
     "end_time": "2024-07-26T08:55:55.623931Z",
     "start_time": "2024-07-26T08:55:55.045328Z"
    }
   },
   "id": "823d350d21d2f88c",
   "execution_count": 4
  },
  {
   "cell_type": "code",
   "outputs": [],
   "source": [
    "param_grid = {\n",
    "    'n_estimators': [300, 400, 500, 6600, 700],\n",
    "    'max_depth': [None, 5, 6, 7, 8, 9, 10, 11, 12, 13],\n",
    "    'min_samples_split': [2, 5, 10],\n",
    "    'min_samples_leaf': [1, 2, 4],\n",
    "    'bootstrap': [True, False]\n",
    "}"
   ],
   "metadata": {
    "collapsed": false,
    "ExecuteTime": {
     "end_time": "2024-07-26T08:57:13.675664Z",
     "start_time": "2024-07-26T08:57:13.671208Z"
    }
   },
   "id": "aa049ce0c2f94d93",
   "execution_count": 6
  },
  {
   "cell_type": "code",
   "outputs": [],
   "source": [
    "model = GridSearchCV(estimator=RandomForestClassifier(), param_grid=param_grid, cv=5, n_jobs=-1)"
   ],
   "metadata": {
    "collapsed": false,
    "ExecuteTime": {
     "end_time": "2024-07-26T08:57:14.020566Z",
     "start_time": "2024-07-26T08:57:14.018356Z"
    }
   },
   "id": "9e8a38dd452d8347",
   "execution_count": 7
  },
  {
   "cell_type": "markdown",
   "source": [
    "# Model Training"
   ],
   "metadata": {
    "collapsed": false
   },
   "id": "6483ae1e1df579da"
  },
  {
   "cell_type": "code",
   "outputs": [],
   "source": [
    "from Model_Training import Model_Training"
   ],
   "metadata": {
    "collapsed": false,
    "ExecuteTime": {
     "end_time": "2024-07-26T08:57:32.169662Z",
     "start_time": "2024-07-26T08:57:32.160792Z"
    }
   },
   "id": "b4ba66e162bb647b",
   "execution_count": 8
  },
  {
   "cell_type": "code",
   "outputs": [],
   "source": [
    "model_random_forest = Model_Training(model, df.drop(columns=['target']), df['target'])"
   ],
   "metadata": {
    "collapsed": false,
    "ExecuteTime": {
     "end_time": "2024-07-26T08:58:12.185213Z",
     "start_time": "2024-07-26T08:58:12.167981Z"
    }
   },
   "id": "86c5dd2d834f148c",
   "execution_count": 9
  },
  {
   "cell_type": "code",
   "outputs": [],
   "source": [
    "score_random_forest = model_random_forest.run()"
   ],
   "metadata": {
    "collapsed": false,
    "is_executing": true,
    "ExecuteTime": {
     "start_time": "2024-07-26T08:58:23.105013Z"
    }
   },
   "id": "3a8e59b89e659282"
  },
  {
   "cell_type": "code",
   "outputs": [],
   "source": [],
   "metadata": {
    "collapsed": false
   },
   "id": "84b39daf37512d0c"
  }
 ],
 "metadata": {
  "kernelspec": {
   "display_name": "Python 3",
   "language": "python",
   "name": "python3"
  },
  "language_info": {
   "codemirror_mode": {
    "name": "ipython",
    "version": 2
   },
   "file_extension": ".py",
   "mimetype": "text/x-python",
   "name": "python",
   "nbconvert_exporter": "python",
   "pygments_lexer": "ipython2",
   "version": "2.7.6"
  }
 },
 "nbformat": 4,
 "nbformat_minor": 5
}
