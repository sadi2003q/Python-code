{
 "cells": [
  {
   "cell_type": "markdown",
   "source": [
    "# Preparing dataset"
   ],
   "metadata": {
    "collapsed": false
   },
   "id": "c9acf40bccca660e"
  },
  {
   "cell_type": "code",
   "execution_count": 7,
   "id": "initial_id",
   "metadata": {
    "collapsed": true,
    "ExecuteTime": {
     "end_time": "2024-07-27T12:40:09.600570Z",
     "start_time": "2024-07-27T12:40:09.592995Z"
    }
   },
   "outputs": [],
   "source": [
    "import pandas as pd"
   ]
  },
  {
   "cell_type": "code",
   "outputs": [],
   "source": [
    "df = pd.read_csv('All_CSV/heart.csv')"
   ],
   "metadata": {
    "collapsed": false,
    "ExecuteTime": {
     "end_time": "2024-07-27T12:40:09.629123Z",
     "start_time": "2024-07-27T12:40:09.609533Z"
    }
   },
   "id": "cbbe533acdf5a1b2",
   "execution_count": 8
  },
  {
   "cell_type": "markdown",
   "source": [
    "# Ada Boosting "
   ],
   "metadata": {
    "collapsed": false
   },
   "id": "ba9a8d8edea882c"
  },
  {
   "cell_type": "code",
   "outputs": [],
   "source": [
    "from sklearn.ensemble import AdaBoostClassifier\n",
    "from Model_Training import Model_Training"
   ],
   "metadata": {
    "collapsed": false,
    "ExecuteTime": {
     "end_time": "2024-07-27T12:40:09.633477Z",
     "start_time": "2024-07-27T12:40:09.630670Z"
    }
   },
   "id": "5ee3fc7d60259e7",
   "execution_count": 9
  },
  {
   "cell_type": "code",
   "outputs": [],
   "source": [
    "model_Ada_Boosting = Model_Training(AdaBoostClassifier(algorithm='SAMME', n_estimators=150, learning_rate=0.1), df.drop(columns=['target']), df['target'], is_Regression=False)"
   ],
   "metadata": {
    "collapsed": false,
    "ExecuteTime": {
     "end_time": "2024-07-27T12:40:09.641318Z",
     "start_time": "2024-07-27T12:40:09.637046Z"
    }
   },
   "id": "b84d762697b0441",
   "execution_count": 10
  },
  {
   "cell_type": "code",
   "outputs": [],
   "source": [
    "score_ada_boosting = model_Ada_Boosting.run()"
   ],
   "metadata": {
    "collapsed": false,
    "ExecuteTime": {
     "end_time": "2024-07-27T12:40:09.763283Z",
     "start_time": "2024-07-27T12:40:09.642728Z"
    }
   },
   "id": "7180cac957cd43f1",
   "execution_count": 11
  },
  {
   "cell_type": "code",
   "outputs": [
    {
     "data": {
      "text/plain": "   Accuracy  Precision    Recall  F1 Score  Cross Val Score\n0  0.858537   0.858622  0.858537  0.858395         0.859756",
      "text/html": "<div>\n<style scoped>\n    .dataframe tbody tr th:only-of-type {\n        vertical-align: middle;\n    }\n\n    .dataframe tbody tr th {\n        vertical-align: top;\n    }\n\n    .dataframe thead th {\n        text-align: right;\n    }\n</style>\n<table border=\"1\" class=\"dataframe\">\n  <thead>\n    <tr style=\"text-align: right;\">\n      <th></th>\n      <th>Accuracy</th>\n      <th>Precision</th>\n      <th>Recall</th>\n      <th>F1 Score</th>\n      <th>Cross Val Score</th>\n    </tr>\n  </thead>\n  <tbody>\n    <tr>\n      <th>0</th>\n      <td>0.858537</td>\n      <td>0.858622</td>\n      <td>0.858537</td>\n      <td>0.858395</td>\n      <td>0.859756</td>\n    </tr>\n  </tbody>\n</table>\n</div>"
     },
     "execution_count": 12,
     "metadata": {},
     "output_type": "execute_result"
    }
   ],
   "source": [
    "score_ada_boosting.get_score()"
   ],
   "metadata": {
    "collapsed": false,
    "ExecuteTime": {
     "end_time": "2024-07-27T12:40:10.910389Z",
     "start_time": "2024-07-27T12:40:09.763917Z"
    }
   },
   "id": "22978880e0552bbd",
   "execution_count": 12
  },
  {
   "cell_type": "code",
   "outputs": [],
   "source": [],
   "metadata": {
    "collapsed": false
   },
   "id": "69e847607ded1e5d"
  }
 ],
 "metadata": {
  "kernelspec": {
   "display_name": "Python 3",
   "language": "python",
   "name": "python3"
  },
  "language_info": {
   "codemirror_mode": {
    "name": "ipython",
    "version": 2
   },
   "file_extension": ".py",
   "mimetype": "text/x-python",
   "name": "python",
   "nbconvert_exporter": "python",
   "pygments_lexer": "ipython2",
   "version": "2.7.6"
  }
 },
 "nbformat": 4,
 "nbformat_minor": 5
}
