{
 "cells": [
  {
   "cell_type": "code",
   "execution_count": 1,
   "id": "initial_id",
   "metadata": {
    "collapsed": true,
    "ExecuteTime": {
     "end_time": "2024-07-10T08:47:12.624702Z",
     "start_time": "2024-07-10T08:47:12.101083Z"
    }
   },
   "outputs": [],
   "source": [
    "import random\n",
    "from sklearn.datasets import load_diabetes\n",
    "\n",
    "from sklearn.model_selection import train_test_split as split\n",
    "from sklearn.metrics import r2_score as score\n",
    "from sklearn.linear_model import SGDRegressor"
   ]
  },
  {
   "cell_type": "code",
   "outputs": [],
   "source": [
    "x, y = load_diabetes(return_X_y=True)"
   ],
   "metadata": {
    "collapsed": false,
    "ExecuteTime": {
     "end_time": "2024-07-10T08:47:12.631509Z",
     "start_time": "2024-07-10T08:47:12.625645Z"
    }
   },
   "id": "9554d855a98be043",
   "execution_count": 2
  },
  {
   "cell_type": "code",
   "outputs": [],
   "source": [
    "train_x, test_x, train_y, test_y = split(x, y, test_size=0.02)"
   ],
   "metadata": {
    "collapsed": false,
    "ExecuteTime": {
     "end_time": "2024-07-10T08:47:12.635776Z",
     "start_time": "2024-07-10T08:47:12.632144Z"
    }
   },
   "id": "1f8df4352863ca4f",
   "execution_count": 3
  },
  {
   "cell_type": "code",
   "outputs": [],
   "source": [
    "batch_size = 35\n",
    "model = SGDRegressor(learning_rate='constant', eta0= 0.1) \n",
    "for i in range(1000):\n",
    "    idx =random.sample(range(train_x.shape[0]), batch_size)\n",
    "    model.partial_fit(train_x[idx], train_y[idx])\n",
    "    "
   ],
   "metadata": {
    "collapsed": false,
    "ExecuteTime": {
     "end_time": "2024-07-10T08:47:12.720385Z",
     "start_time": "2024-07-10T08:47:12.637441Z"
    }
   },
   "id": "2ad04d8c942820f8",
   "execution_count": 4
  },
  {
   "cell_type": "code",
   "outputs": [],
   "source": [
    "y_pred = model.predict(test_x)"
   ],
   "metadata": {
    "collapsed": false,
    "ExecuteTime": {
     "end_time": "2024-07-10T08:47:12.722747Z",
     "start_time": "2024-07-10T08:47:12.721010Z"
    }
   },
   "id": "d4bff2cf42f3e9cd",
   "execution_count": 5
  },
  {
   "cell_type": "code",
   "outputs": [
    {
     "data": {
      "text/plain": "0.7100381399743136"
     },
     "execution_count": 6,
     "metadata": {},
     "output_type": "execute_result"
    }
   ],
   "source": [
    "score(test_y, y_pred)"
   ],
   "metadata": {
    "collapsed": false,
    "ExecuteTime": {
     "end_time": "2024-07-10T08:47:12.726979Z",
     "start_time": "2024-07-10T08:47:12.723376Z"
    }
   },
   "id": "2a639b14ff38f784",
   "execution_count": 6
  },
  {
   "cell_type": "code",
   "outputs": [],
   "source": [],
   "metadata": {
    "collapsed": false,
    "ExecuteTime": {
     "end_time": "2024-07-10T08:47:12.728979Z",
     "start_time": "2024-07-10T08:47:12.727576Z"
    }
   },
   "id": "8b5573235b7e8640",
   "execution_count": 6
  }
 ],
 "metadata": {
  "kernelspec": {
   "display_name": "Python 3",
   "language": "python",
   "name": "python3"
  },
  "language_info": {
   "codemirror_mode": {
    "name": "ipython",
    "version": 2
   },
   "file_extension": ".py",
   "mimetype": "text/x-python",
   "name": "python",
   "nbconvert_exporter": "python",
   "pygments_lexer": "ipython2",
   "version": "2.7.6"
  }
 },
 "nbformat": 4,
 "nbformat_minor": 5
}
