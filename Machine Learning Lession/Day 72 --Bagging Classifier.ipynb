{
 "cells": [
  {
   "cell_type": "markdown",
   "source": [
    "# Making Datasets"
   ],
   "metadata": {
    "collapsed": false
   },
   "id": "ae5a65ee01bb5725"
  },
  {
   "cell_type": "code",
   "execution_count": 53,
   "id": "initial_id",
   "metadata": {
    "collapsed": true,
    "ExecuteTime": {
     "end_time": "2024-07-15T12:14:26.743772Z",
     "start_time": "2024-07-15T12:14:26.741723Z"
    }
   },
   "outputs": [],
   "source": [
    "from sklearn.datasets import make_classification"
   ]
  },
  {
   "cell_type": "code",
   "outputs": [],
   "source": [
    "x, y = make_classification(n_samples = 10000, n_features = 10, n_informative = 3)"
   ],
   "metadata": {
    "collapsed": false,
    "ExecuteTime": {
     "end_time": "2024-07-15T12:14:26.810821Z",
     "start_time": "2024-07-15T12:14:26.803883Z"
    }
   },
   "id": "c9e1575edea8cb49",
   "execution_count": 54
  },
  {
   "cell_type": "markdown",
   "source": [
    "# Model training"
   ],
   "metadata": {
    "collapsed": false
   },
   "id": "d9c0afb9bc264e3a"
  },
  {
   "cell_type": "code",
   "outputs": [],
   "source": [
    "from sklearn.tree import DecisionTreeClassifier\n",
    "from Model_Training import Model_Training"
   ],
   "metadata": {
    "collapsed": false,
    "ExecuteTime": {
     "end_time": "2024-07-15T12:14:26.813835Z",
     "start_time": "2024-07-15T12:14:26.811772Z"
    }
   },
   "id": "abd6ff209d2f356",
   "execution_count": 55
  },
  {
   "cell_type": "code",
   "outputs": [],
   "source": [
    "model_decision_tree = Model_Training(DecisionTreeClassifier(max_depth=10), x, y, is_Regression=False)"
   ],
   "metadata": {
    "collapsed": false,
    "ExecuteTime": {
     "end_time": "2024-07-15T12:14:26.816617Z",
     "start_time": "2024-07-15T12:14:26.814666Z"
    }
   },
   "id": "7ca1a28a55ab00d4",
   "execution_count": 56
  },
  {
   "cell_type": "code",
   "outputs": [],
   "source": [
    "score_decision_tree = model_decision_tree.run()"
   ],
   "metadata": {
    "collapsed": false,
    "ExecuteTime": {
     "end_time": "2024-07-15T12:14:26.886923Z",
     "start_time": "2024-07-15T12:14:26.817963Z"
    }
   },
   "id": "2d6aed8394b864d6",
   "execution_count": 57
  },
  {
   "cell_type": "markdown",
   "source": [
    "# Model Evaluation"
   ],
   "metadata": {
    "collapsed": false
   },
   "id": "6a126c2ce02a40e0"
  },
  {
   "cell_type": "code",
   "outputs": [
    {
     "data": {
      "text/plain": "   Accuracy  Precision  Recall  F1 Score\n0      0.89   0.890589    0.89  0.889973",
      "text/html": "<div>\n<style scoped>\n    .dataframe tbody tr th:only-of-type {\n        vertical-align: middle;\n    }\n\n    .dataframe tbody tr th {\n        vertical-align: top;\n    }\n\n    .dataframe thead th {\n        text-align: right;\n    }\n</style>\n<table border=\"1\" class=\"dataframe\">\n  <thead>\n    <tr style=\"text-align: right;\">\n      <th></th>\n      <th>Accuracy</th>\n      <th>Precision</th>\n      <th>Recall</th>\n      <th>F1 Score</th>\n    </tr>\n  </thead>\n  <tbody>\n    <tr>\n      <th>0</th>\n      <td>0.89</td>\n      <td>0.890589</td>\n      <td>0.89</td>\n      <td>0.889973</td>\n    </tr>\n  </tbody>\n</table>\n</div>"
     },
     "execution_count": 58,
     "metadata": {},
     "output_type": "execute_result"
    }
   ],
   "source": [
    "score_decision_tree.get_score()"
   ],
   "metadata": {
    "collapsed": false,
    "ExecuteTime": {
     "end_time": "2024-07-15T12:14:26.896434Z",
     "start_time": "2024-07-15T12:14:26.887862Z"
    }
   },
   "id": "ed9dbbd903681fd3",
   "execution_count": 58
  },
  {
   "cell_type": "markdown",
   "source": [
    "# Using Bagging Ensemble"
   ],
   "metadata": {
    "collapsed": false
   },
   "id": "27e653014bbd038b"
  },
  {
   "cell_type": "code",
   "outputs": [],
   "source": [
    "from sklearn.ensemble import BaggingClassifier"
   ],
   "metadata": {
    "collapsed": false,
    "ExecuteTime": {
     "end_time": "2024-07-15T12:14:26.900345Z",
     "start_time": "2024-07-15T12:14:26.898373Z"
    }
   },
   "id": "9232b8bab2927156",
   "execution_count": 59
  },
  {
   "cell_type": "markdown",
   "source": [
    "## Using DecisionTreeClassifier"
   ],
   "metadata": {
    "collapsed": false
   },
   "id": "fb60c61a963605bb"
  },
  {
   "cell_type": "code",
   "outputs": [],
   "source": [
    "bagging_model = BaggingClassifier(\n",
    "    estimator=DecisionTreeClassifier(),\n",
    "    n_estimators=500,\n",
    "    max_samples=0.5,\n",
    "    bootstrap=True\n",
    ")"
   ],
   "metadata": {
    "collapsed": false,
    "ExecuteTime": {
     "end_time": "2024-07-15T12:14:26.903386Z",
     "start_time": "2024-07-15T12:14:26.901292Z"
    }
   },
   "id": "4cd2d93879093b6",
   "execution_count": 60
  },
  {
   "cell_type": "code",
   "outputs": [],
   "source": [
    "model_bagging_classifier = Model_Training(bagging_model, x, y, is_Regression=False)"
   ],
   "metadata": {
    "collapsed": false,
    "ExecuteTime": {
     "end_time": "2024-07-15T12:14:26.907202Z",
     "start_time": "2024-07-15T12:14:26.904182Z"
    }
   },
   "id": "e57cc2dad38d6b5c",
   "execution_count": 61
  },
  {
   "cell_type": "code",
   "outputs": [],
   "source": [
    "score_bagging_classifier = model_bagging_classifier.run()"
   ],
   "metadata": {
    "collapsed": false,
    "ExecuteTime": {
     "end_time": "2024-07-15T12:14:39.826774Z",
     "start_time": "2024-07-15T12:14:26.907996Z"
    }
   },
   "id": "2f6553f5d89965e9",
   "execution_count": 62
  },
  {
   "cell_type": "code",
   "outputs": [
    {
     "data": {
      "text/plain": "   Accuracy  Precision  Recall  F1 Score\n0    0.8945   0.894654  0.8945  0.894496",
      "text/html": "<div>\n<style scoped>\n    .dataframe tbody tr th:only-of-type {\n        vertical-align: middle;\n    }\n\n    .dataframe tbody tr th {\n        vertical-align: top;\n    }\n\n    .dataframe thead th {\n        text-align: right;\n    }\n</style>\n<table border=\"1\" class=\"dataframe\">\n  <thead>\n    <tr style=\"text-align: right;\">\n      <th></th>\n      <th>Accuracy</th>\n      <th>Precision</th>\n      <th>Recall</th>\n      <th>F1 Score</th>\n    </tr>\n  </thead>\n  <tbody>\n    <tr>\n      <th>0</th>\n      <td>0.8945</td>\n      <td>0.894654</td>\n      <td>0.8945</td>\n      <td>0.894496</td>\n    </tr>\n  </tbody>\n</table>\n</div>"
     },
     "execution_count": 63,
     "metadata": {},
     "output_type": "execute_result"
    }
   ],
   "source": [
    "score_bagging_classifier.get_score()"
   ],
   "metadata": {
    "collapsed": false,
    "ExecuteTime": {
     "end_time": "2024-07-15T12:14:39.834358Z",
     "start_time": "2024-07-15T12:14:39.827332Z"
    }
   },
   "id": "43a07f7d2394e8fa",
   "execution_count": 63
  },
  {
   "cell_type": "markdown",
   "source": [
    "## Using SVC"
   ],
   "metadata": {
    "collapsed": false
   },
   "id": "f491f1f657486a81"
  },
  {
   "cell_type": "code",
   "outputs": [],
   "source": [
    "from sklearn.svm import SVC"
   ],
   "metadata": {
    "collapsed": false,
    "ExecuteTime": {
     "end_time": "2024-07-15T12:14:39.837480Z",
     "start_time": "2024-07-15T12:14:39.836107Z"
    }
   },
   "id": "6c90394ac1eb9d82",
   "execution_count": 64
  },
  {
   "cell_type": "code",
   "outputs": [],
   "source": [
    "bagging_model = BaggingClassifier(\n",
    "    estimator=SVC(),\n",
    "    n_estimators=500,\n",
    "    max_samples=0.5,\n",
    "    bootstrap=True,\n",
    "    n_jobs=-1\n",
    ")"
   ],
   "metadata": {
    "collapsed": false,
    "ExecuteTime": {
     "end_time": "2024-07-15T12:14:39.839431Z",
     "start_time": "2024-07-15T12:14:39.837987Z"
    }
   },
   "id": "6257d4ad0ecc977f",
   "execution_count": 65
  },
  {
   "cell_type": "code",
   "outputs": [],
   "source": [
    "model_bagging_classifier = Model_Training(bagging_model, x, y, is_Regression=False)"
   ],
   "metadata": {
    "collapsed": false,
    "ExecuteTime": {
     "end_time": "2024-07-15T12:14:39.841392Z",
     "start_time": "2024-07-15T12:14:39.839868Z"
    }
   },
   "id": "8b26951965fcbdc8",
   "execution_count": 66
  },
  {
   "cell_type": "code",
   "outputs": [],
   "source": [
    "score_bagging_classifier = model_bagging_classifier.run()"
   ],
   "metadata": {
    "collapsed": false,
    "ExecuteTime": {
     "end_time": "2024-07-15T12:14:54.456403Z",
     "start_time": "2024-07-15T12:14:39.841965Z"
    }
   },
   "id": "dd4d7cb2e7c0d280",
   "execution_count": 67
  },
  {
   "cell_type": "code",
   "outputs": [
    {
     "data": {
      "text/plain": "   Accuracy  Precision  Recall  F1 Score\n0     0.884   0.884057   0.884  0.884006",
      "text/html": "<div>\n<style scoped>\n    .dataframe tbody tr th:only-of-type {\n        vertical-align: middle;\n    }\n\n    .dataframe tbody tr th {\n        vertical-align: top;\n    }\n\n    .dataframe thead th {\n        text-align: right;\n    }\n</style>\n<table border=\"1\" class=\"dataframe\">\n  <thead>\n    <tr style=\"text-align: right;\">\n      <th></th>\n      <th>Accuracy</th>\n      <th>Precision</th>\n      <th>Recall</th>\n      <th>F1 Score</th>\n    </tr>\n  </thead>\n  <tbody>\n    <tr>\n      <th>0</th>\n      <td>0.884</td>\n      <td>0.884057</td>\n      <td>0.884</td>\n      <td>0.884006</td>\n    </tr>\n  </tbody>\n</table>\n</div>"
     },
     "execution_count": 68,
     "metadata": {},
     "output_type": "execute_result"
    }
   ],
   "source": [
    "score_bagging_classifier.get_score()"
   ],
   "metadata": {
    "collapsed": false,
    "ExecuteTime": {
     "end_time": "2024-07-15T12:14:54.467639Z",
     "start_time": "2024-07-15T12:14:54.457601Z"
    }
   },
   "id": "edda94c0a398a098",
   "execution_count": 68
  },
  {
   "cell_type": "markdown",
   "source": [
    "## Pasting"
   ],
   "metadata": {
    "collapsed": false
   },
   "id": "3d8b56a814f3b7af"
  },
  {
   "cell_type": "code",
   "outputs": [],
   "source": [
    "bagging_model = BaggingClassifier(\n",
    "    estimator=DecisionTreeClassifier(),\n",
    "    n_estimators=500,\n",
    "    max_samples=0.25,\n",
    "    bootstrap=False,\n",
    "    random_state=42,\n",
    "    n_jobs=-1\n",
    ")"
   ],
   "metadata": {
    "collapsed": false,
    "ExecuteTime": {
     "end_time": "2024-07-15T12:14:54.469871Z",
     "start_time": "2024-07-15T12:14:54.468259Z"
    }
   },
   "id": "b070ebeeecefa79a",
   "execution_count": 69
  },
  {
   "cell_type": "code",
   "outputs": [],
   "source": [
    "model_bagging_classifier = Model_Training(bagging_model, x, y, is_Regression=False)"
   ],
   "metadata": {
    "collapsed": false,
    "ExecuteTime": {
     "end_time": "2024-07-15T12:14:54.472099Z",
     "start_time": "2024-07-15T12:14:54.470393Z"
    }
   },
   "id": "6c576444d1a8aea6",
   "execution_count": 70
  },
  {
   "cell_type": "code",
   "outputs": [
    {
     "name": "stderr",
     "output_type": "stream",
     "text": [
      "[Parallel(n_jobs=8)]: Using backend LokyBackend with 8 concurrent workers.\n",
      "[Parallel(n_jobs=8)]: Done   2 out of   8 | elapsed:    1.5s remaining:    4.5s\n",
      "[Parallel(n_jobs=8)]: Done   8 out of   8 | elapsed:    1.6s finished\n",
      "[Parallel(n_jobs=8)]: Using backend LokyBackend with 8 concurrent workers.\n",
      "[Parallel(n_jobs=8)]: Done   2 out of   8 | elapsed:    0.0s remaining:    0.1s\n",
      "[Parallel(n_jobs=8)]: Done   8 out of   8 | elapsed:    0.1s finished\n"
     ]
    }
   ],
   "source": [
    "score_bagging_classifier = model_bagging_classifier.run()"
   ],
   "metadata": {
    "collapsed": false,
    "ExecuteTime": {
     "end_time": "2024-07-15T12:14:56.184780Z",
     "start_time": "2024-07-15T12:14:54.472630Z"
    }
   },
   "id": "2171657894fd9a24",
   "execution_count": 71
  },
  {
   "cell_type": "code",
   "outputs": [
    {
     "data": {
      "text/plain": "   Accuracy  Precision  Recall  F1 Score\n0     0.904   0.904308   0.904  0.904001",
      "text/html": "<div>\n<style scoped>\n    .dataframe tbody tr th:only-of-type {\n        vertical-align: middle;\n    }\n\n    .dataframe tbody tr th {\n        vertical-align: top;\n    }\n\n    .dataframe thead th {\n        text-align: right;\n    }\n</style>\n<table border=\"1\" class=\"dataframe\">\n  <thead>\n    <tr style=\"text-align: right;\">\n      <th></th>\n      <th>Accuracy</th>\n      <th>Precision</th>\n      <th>Recall</th>\n      <th>F1 Score</th>\n    </tr>\n  </thead>\n  <tbody>\n    <tr>\n      <th>0</th>\n      <td>0.904</td>\n      <td>0.904308</td>\n      <td>0.904</td>\n      <td>0.904001</td>\n    </tr>\n  </tbody>\n</table>\n</div>"
     },
     "execution_count": 72,
     "metadata": {},
     "output_type": "execute_result"
    }
   ],
   "source": [
    "score_bagging_classifier.get_score()"
   ],
   "metadata": {
    "collapsed": false,
    "ExecuteTime": {
     "end_time": "2024-07-15T12:14:56.192437Z",
     "start_time": "2024-07-15T12:14:56.185391Z"
    }
   },
   "id": "7a91f16621de212e",
   "execution_count": 72
  },
  {
   "cell_type": "markdown",
   "source": [
    "## Random Subspace"
   ],
   "metadata": {
    "collapsed": false
   },
   "id": "888295e406951c64"
  },
  {
   "cell_type": "code",
   "outputs": [],
   "source": [
    "bagging_model = BaggingClassifier(\n",
    "    estimator=DecisionTreeClassifier(),\n",
    "    n_estimators=500,\n",
    "    max_samples=1.0,\n",
    "    bootstrap=False,\n",
    "    max_features=0.5,\n",
    "    bootstrap_features=True,\n",
    "    random_state=42,\n",
    "    n_jobs=-1\n",
    ")"
   ],
   "metadata": {
    "collapsed": false,
    "ExecuteTime": {
     "end_time": "2024-07-15T12:14:56.194956Z",
     "start_time": "2024-07-15T12:14:56.192962Z"
    }
   },
   "id": "ca8ebc5356b2a12a",
   "execution_count": 73
  },
  {
   "cell_type": "code",
   "outputs": [
    {
     "name": "stderr",
     "output_type": "stream",
     "text": [
      "[Parallel(n_jobs=8)]: Using backend LokyBackend with 8 concurrent workers.\n",
      "[Parallel(n_jobs=8)]: Done   2 out of   8 | elapsed:    4.3s remaining:   13.0s\n",
      "[Parallel(n_jobs=8)]: Done   8 out of   8 | elapsed:    4.6s finished\n",
      "[Parallel(n_jobs=8)]: Using backend LokyBackend with 8 concurrent workers.\n",
      "[Parallel(n_jobs=8)]: Done   2 out of   8 | elapsed:    0.1s remaining:    0.3s\n",
      "[Parallel(n_jobs=8)]: Done   8 out of   8 | elapsed:    0.3s finished\n"
     ]
    },
    {
     "data": {
      "text/plain": "   Accuracy  Precision  Recall  F1 Score\n0    0.8945   0.895231  0.8945  0.894451",
      "text/html": "<div>\n<style scoped>\n    .dataframe tbody tr th:only-of-type {\n        vertical-align: middle;\n    }\n\n    .dataframe tbody tr th {\n        vertical-align: top;\n    }\n\n    .dataframe thead th {\n        text-align: right;\n    }\n</style>\n<table border=\"1\" class=\"dataframe\">\n  <thead>\n    <tr style=\"text-align: right;\">\n      <th></th>\n      <th>Accuracy</th>\n      <th>Precision</th>\n      <th>Recall</th>\n      <th>F1 Score</th>\n    </tr>\n  </thead>\n  <tbody>\n    <tr>\n      <th>0</th>\n      <td>0.8945</td>\n      <td>0.895231</td>\n      <td>0.8945</td>\n      <td>0.894451</td>\n    </tr>\n  </tbody>\n</table>\n</div>"
     },
     "execution_count": 74,
     "metadata": {},
     "output_type": "execute_result"
    }
   ],
   "source": [
    "model_bagging_classifier = Model_Training(bagging_model, x, y, is_Regression=False)\n",
    "score_bagging_classifier = model_bagging_classifier.run()\n",
    "score_bagging_classifier.get_score()"
   ],
   "metadata": {
    "collapsed": false,
    "ExecuteTime": {
     "end_time": "2024-07-15T12:15:01.121234Z",
     "start_time": "2024-07-15T12:14:56.195450Z"
    }
   },
   "id": "a0ffc2d1aa63abf0",
   "execution_count": 74
  },
  {
   "cell_type": "markdown",
   "source": [
    "## Random Pitch"
   ],
   "metadata": {
    "collapsed": false
   },
   "id": "c4c199f0c0283b6b"
  },
  {
   "cell_type": "code",
   "outputs": [],
   "source": [
    "\n",
    "bagging_model = BaggingClassifier(\n",
    "    estimator=DecisionTreeClassifier(),\n",
    "    n_estimators=500,\n",
    "    max_samples=0.25,\n",
    "    bootstrap=True,\n",
    "    max_features=0.5,\n",
    "    bootstrap_features=True,\n",
    "    random_state=42,\n",
    "    n_jobs=-1\n",
    ")"
   ],
   "metadata": {
    "collapsed": false,
    "ExecuteTime": {
     "end_time": "2024-07-15T12:15:01.124427Z",
     "start_time": "2024-07-15T12:15:01.122259Z"
    }
   },
   "id": "b4c15942fa166b73",
   "execution_count": 75
  },
  {
   "cell_type": "code",
   "outputs": [
    {
     "data": {
      "text/plain": "   Accuracy  Precision  Recall  F1 Score\n0     0.889   0.890095   0.889  0.888992",
      "text/html": "<div>\n<style scoped>\n    .dataframe tbody tr th:only-of-type {\n        vertical-align: middle;\n    }\n\n    .dataframe tbody tr th {\n        vertical-align: top;\n    }\n\n    .dataframe thead th {\n        text-align: right;\n    }\n</style>\n<table border=\"1\" class=\"dataframe\">\n  <thead>\n    <tr style=\"text-align: right;\">\n      <th></th>\n      <th>Accuracy</th>\n      <th>Precision</th>\n      <th>Recall</th>\n      <th>F1 Score</th>\n    </tr>\n  </thead>\n  <tbody>\n    <tr>\n      <th>0</th>\n      <td>0.889</td>\n      <td>0.890095</td>\n      <td>0.889</td>\n      <td>0.888992</td>\n    </tr>\n  </tbody>\n</table>\n</div>"
     },
     "execution_count": 76,
     "metadata": {},
     "output_type": "execute_result"
    }
   ],
   "source": [
    "model_bagging_classifier = Model_Training(bagging_model, x, y, is_Regression=False)\n",
    "score_bagging_classifier = model_bagging_classifier.run()\n",
    "score_bagging_classifier.get_score()"
   ],
   "metadata": {
    "collapsed": false,
    "ExecuteTime": {
     "end_time": "2024-07-15T12:15:02.346637Z",
     "start_time": "2024-07-15T12:15:01.125145Z"
    }
   },
   "id": "81b2d531e00b155b",
   "execution_count": 76
  },
  {
   "cell_type": "code",
   "outputs": [],
   "source": [
    "#new Code"
   ],
   "metadata": {
    "collapsed": false,
    "ExecuteTime": {
     "end_time": "2024-07-24T10:46:26.626304Z",
     "start_time": "2024-07-24T10:46:26.623585Z"
    }
   },
   "id": "c61ae98edf830a57",
   "execution_count": 1
  },
  {
   "cell_type": "code",
   "outputs": [
    {
     "ename": "SyntaxError",
     "evalue": "invalid syntax (504976761.py, line 1)",
     "output_type": "error",
     "traceback": [
      "\u001B[0;36m  Cell \u001B[0;32mIn[2], line 1\u001B[0;36m\u001B[0m\n\u001B[0;31m    this is a code\u001B[0m\n\u001B[0m              ^\u001B[0m\n\u001B[0;31mSyntaxError\u001B[0m\u001B[0;31m:\u001B[0m invalid syntax\n"
     ]
    }
   ],
   "source": [],
   "metadata": {
    "collapsed": false,
    "ExecuteTime": {
     "end_time": "2024-07-24T10:46:30.480386Z",
     "start_time": "2024-07-24T10:46:30.477468Z"
    }
   },
   "id": "563e3dfe5ab8b611",
   "execution_count": 2
  },
  {
   "cell_type": "code",
   "outputs": [],
   "source": [],
   "metadata": {
    "collapsed": false
   },
   "id": "13f98d75eb8b354c"
  }
 ],
 "metadata": {
  "kernelspec": {
   "display_name": "Python 3",
   "language": "python",
   "name": "python3"
  },
  "language_info": {
   "codemirror_mode": {
    "name": "ipython",
    "version": 2
   },
   "file_extension": ".py",
   "mimetype": "text/x-python",
   "name": "python",
   "nbconvert_exporter": "python",
   "pygments_lexer": "ipython2",
   "version": "2.7.6"
  }
 },
 "nbformat": 4,
 "nbformat_minor": 5
}
