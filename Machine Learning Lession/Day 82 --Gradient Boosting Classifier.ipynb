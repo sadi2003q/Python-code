{
 "cells": [
  {
   "cell_type": "markdown",
   "source": [
    "# Dataset Loading"
   ],
   "metadata": {
    "collapsed": false
   },
   "id": "937a3bf82c506347"
  },
  {
   "cell_type": "code",
   "execution_count": 1,
   "id": "initial_id",
   "metadata": {
    "collapsed": true,
    "ExecuteTime": {
     "end_time": "2024-07-29T16:06:05.837399Z",
     "start_time": "2024-07-29T16:06:05.251345Z"
    }
   },
   "outputs": [],
   "source": [
    "import pandas as pd"
   ]
  },
  {
   "cell_type": "code",
   "outputs": [],
   "source": [
    "df = pd.read_csv('All_CSV/Student_performance_data _.csv')"
   ],
   "metadata": {
    "collapsed": false,
    "ExecuteTime": {
     "end_time": "2024-07-29T16:06:23.869189Z",
     "start_time": "2024-07-29T16:06:23.840787Z"
    }
   },
   "id": "b2d07c4a18ad3cd3",
   "execution_count": 2
  },
  {
   "cell_type": "code",
   "outputs": [
    {
     "data": {
      "text/plain": "   StudentID  Age  Gender  Ethnicity  ParentalEducation  StudyTimeWeekly  \\\n0       1001   17       1          0                  2        19.833723   \n1       1002   18       0          0                  1        15.408756   \n2       1003   15       0          2                  3         4.210570   \n3       1004   17       1          0                  3        10.028829   \n4       1005   17       1          0                  2         4.672495   \n\n   Absences  Tutoring  ParentalSupport  Extracurricular  Sports  Music  \\\n0         7         1                2                0       0      1   \n1         0         0                1                0       0      0   \n2        26         0                2                0       0      0   \n3        14         0                3                1       0      0   \n4        17         1                3                0       0      0   \n\n   Volunteering       GPA  GradeClass  \n0             0  2.929196         2.0  \n1             0  3.042915         1.0  \n2             0  0.112602         4.0  \n3             0  2.054218         3.0  \n4             0  1.288061         4.0  ",
      "text/html": "<div>\n<style scoped>\n    .dataframe tbody tr th:only-of-type {\n        vertical-align: middle;\n    }\n\n    .dataframe tbody tr th {\n        vertical-align: top;\n    }\n\n    .dataframe thead th {\n        text-align: right;\n    }\n</style>\n<table border=\"1\" class=\"dataframe\">\n  <thead>\n    <tr style=\"text-align: right;\">\n      <th></th>\n      <th>StudentID</th>\n      <th>Age</th>\n      <th>Gender</th>\n      <th>Ethnicity</th>\n      <th>ParentalEducation</th>\n      <th>StudyTimeWeekly</th>\n      <th>Absences</th>\n      <th>Tutoring</th>\n      <th>ParentalSupport</th>\n      <th>Extracurricular</th>\n      <th>Sports</th>\n      <th>Music</th>\n      <th>Volunteering</th>\n      <th>GPA</th>\n      <th>GradeClass</th>\n    </tr>\n  </thead>\n  <tbody>\n    <tr>\n      <th>0</th>\n      <td>1001</td>\n      <td>17</td>\n      <td>1</td>\n      <td>0</td>\n      <td>2</td>\n      <td>19.833723</td>\n      <td>7</td>\n      <td>1</td>\n      <td>2</td>\n      <td>0</td>\n      <td>0</td>\n      <td>1</td>\n      <td>0</td>\n      <td>2.929196</td>\n      <td>2.0</td>\n    </tr>\n    <tr>\n      <th>1</th>\n      <td>1002</td>\n      <td>18</td>\n      <td>0</td>\n      <td>0</td>\n      <td>1</td>\n      <td>15.408756</td>\n      <td>0</td>\n      <td>0</td>\n      <td>1</td>\n      <td>0</td>\n      <td>0</td>\n      <td>0</td>\n      <td>0</td>\n      <td>3.042915</td>\n      <td>1.0</td>\n    </tr>\n    <tr>\n      <th>2</th>\n      <td>1003</td>\n      <td>15</td>\n      <td>0</td>\n      <td>2</td>\n      <td>3</td>\n      <td>4.210570</td>\n      <td>26</td>\n      <td>0</td>\n      <td>2</td>\n      <td>0</td>\n      <td>0</td>\n      <td>0</td>\n      <td>0</td>\n      <td>0.112602</td>\n      <td>4.0</td>\n    </tr>\n    <tr>\n      <th>3</th>\n      <td>1004</td>\n      <td>17</td>\n      <td>1</td>\n      <td>0</td>\n      <td>3</td>\n      <td>10.028829</td>\n      <td>14</td>\n      <td>0</td>\n      <td>3</td>\n      <td>1</td>\n      <td>0</td>\n      <td>0</td>\n      <td>0</td>\n      <td>2.054218</td>\n      <td>3.0</td>\n    </tr>\n    <tr>\n      <th>4</th>\n      <td>1005</td>\n      <td>17</td>\n      <td>1</td>\n      <td>0</td>\n      <td>2</td>\n      <td>4.672495</td>\n      <td>17</td>\n      <td>1</td>\n      <td>3</td>\n      <td>0</td>\n      <td>0</td>\n      <td>0</td>\n      <td>0</td>\n      <td>1.288061</td>\n      <td>4.0</td>\n    </tr>\n  </tbody>\n</table>\n</div>"
     },
     "execution_count": 6,
     "metadata": {},
     "output_type": "execute_result"
    }
   ],
   "source": [
    "df.head()"
   ],
   "metadata": {
    "collapsed": false,
    "ExecuteTime": {
     "end_time": "2024-07-29T16:09:02.758424Z",
     "start_time": "2024-07-29T16:09:02.741508Z"
    }
   },
   "id": "d8b4e82d4f625723",
   "execution_count": 6
  },
  {
   "cell_type": "markdown",
   "source": [
    "# Model Building "
   ],
   "metadata": {
    "collapsed": false
   },
   "id": "1c0c0c06d9e5dfe5"
  },
  {
   "cell_type": "code",
   "outputs": [],
   "source": [
    "from sklearn.ensemble import GradientBoostingClassifier\n",
    "from Model_Training import Model_Training"
   ],
   "metadata": {
    "collapsed": false,
    "ExecuteTime": {
     "end_time": "2024-07-29T16:07:24.290716Z",
     "start_time": "2024-07-29T16:07:24.279285Z"
    }
   },
   "id": "90e063ffb26e7276",
   "execution_count": 4
  },
  {
   "cell_type": "code",
   "outputs": [],
   "source": [
    "model = GradientBoostingClassifier(n_estimators=200, learning_rate=0.1, max_depth=5)"
   ],
   "metadata": {
    "collapsed": false,
    "ExecuteTime": {
     "end_time": "2024-07-29T16:08:10.695231Z",
     "start_time": "2024-07-29T16:08:10.681732Z"
    }
   },
   "id": "11d096a158d3a8f",
   "execution_count": 5
  },
  {
   "cell_type": "code",
   "outputs": [],
   "source": [
    "model_gradient_boosting_classifier = Model_Training(model, df.drop(columns=['GradeClass']), df['GradeClass'])"
   ],
   "metadata": {
    "collapsed": false,
    "ExecuteTime": {
     "end_time": "2024-07-29T16:09:30.781805Z",
     "start_time": "2024-07-29T16:09:30.765680Z"
    }
   },
   "id": "a57d7d97b875ad6c",
   "execution_count": 7
  },
  {
   "cell_type": "markdown",
   "source": [
    "# Model Evaluating "
   ],
   "metadata": {
    "collapsed": false
   },
   "id": "2dedbe8ae2341429"
  },
  {
   "cell_type": "code",
   "outputs": [],
   "source": [
    "score = model_gradient_boosting_classifier.run()"
   ],
   "metadata": {
    "collapsed": false,
    "ExecuteTime": {
     "end_time": "2024-07-29T16:10:19.529497Z",
     "start_time": "2024-07-29T16:10:15.405136Z"
    }
   },
   "id": "12fb01a63653d184",
   "execution_count": 8
  },
  {
   "cell_type": "code",
   "outputs": [
    {
     "data": {
      "text/plain": "   r2_score  mean_absolute_error  mean_squared_error  cross_val_score\n0  0.766702             0.329854            0.154489         0.736611",
      "text/html": "<div>\n<style scoped>\n    .dataframe tbody tr th:only-of-type {\n        vertical-align: middle;\n    }\n\n    .dataframe tbody tr th {\n        vertical-align: top;\n    }\n\n    .dataframe thead th {\n        text-align: right;\n    }\n</style>\n<table border=\"1\" class=\"dataframe\">\n  <thead>\n    <tr style=\"text-align: right;\">\n      <th></th>\n      <th>r2_score</th>\n      <th>mean_absolute_error</th>\n      <th>mean_squared_error</th>\n      <th>cross_val_score</th>\n    </tr>\n  </thead>\n  <tbody>\n    <tr>\n      <th>0</th>\n      <td>0.766702</td>\n      <td>0.329854</td>\n      <td>0.154489</td>\n      <td>0.736611</td>\n    </tr>\n  </tbody>\n</table>\n</div>"
     },
     "execution_count": 9,
     "metadata": {},
     "output_type": "execute_result"
    }
   ],
   "source": [
    "score.get_score()"
   ],
   "metadata": {
    "collapsed": false,
    "ExecuteTime": {
     "end_time": "2024-07-29T16:11:05.519291Z",
     "start_time": "2024-07-29T16:10:29.430983Z"
    }
   },
   "id": "909e8a2cfdb2228b",
   "execution_count": 9
  },
  {
   "cell_type": "code",
   "outputs": [],
   "source": [],
   "metadata": {
    "collapsed": false
   },
   "id": "5dfcdda96209c7ee"
  }
 ],
 "metadata": {
  "kernelspec": {
   "display_name": "Python 3",
   "language": "python",
   "name": "python3"
  },
  "language_info": {
   "codemirror_mode": {
    "name": "ipython",
    "version": 2
   },
   "file_extension": ".py",
   "mimetype": "text/x-python",
   "name": "python",
   "nbconvert_exporter": "python",
   "pygments_lexer": "ipython2",
   "version": "2.7.6"
  }
 },
 "nbformat": 4,
 "nbformat_minor": 5
}
