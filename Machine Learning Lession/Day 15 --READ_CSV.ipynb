{
 "cells": [
  {
   "cell_type": "markdown",
   "source": [
    "***working with pandas***"
   ],
   "metadata": {
    "collapsed": false
   },
   "id": "b50dafcb693dbd1"
  },
  {
   "cell_type": "code",
   "execution_count": null,
   "id": "initial_id",
   "metadata": {
    "collapsed": true
   },
   "outputs": [],
   "source": [
    "import pandas as pd"
   ]
  },
  {
   "cell_type": "markdown",
   "source": [
    "2. Opening a local csv file"
   ],
   "metadata": {
    "collapsed": false
   },
   "id": "4737cf25588b0ed2"
  },
  {
   "cell_type": "markdown",
   "source": [
    "df = pd.read_csv('aug_train.csv')\n",
    "df"
   ],
   "metadata": {
    "collapsed": false
   },
   "id": "7d4e4a79239668b0"
  },
  {
   "cell_type": "markdown",
   "source": [
    "3. Opening a csv file from an URL"
   ],
   "metadata": {
    "collapsed": false
   },
   "id": "cfc689d1e11ea2fc"
  },
  {
   "cell_type": "code",
   "outputs": [],
   "source": [
    "import requests\n",
    "from io import StringIO\n",
    "\n",
    "url = \"new URL\"\n",
    "headers = {\"User-Agent\": \"Mozilla/5.0 (Macintosh; Intel Mac OS X 10.14; rv:66.0) Gecko/20100101 Firefox/66.0\"}\n",
    "req = requests.get(url, headers=headers)\n",
    "data = StringIO(req.text)\n",
    "\n",
    "pd.read_csv(data)"
   ],
   "metadata": {
    "collapsed": false
   },
   "id": "f0f751b16522c1f3"
  },
  {
   "cell_type": "markdown",
   "source": [
    "4. Sep Parameter"
   ],
   "metadata": {
    "collapsed": false
   },
   "id": "662a3eb75671fb48"
  },
  {
   "cell_type": "code",
   "outputs": [],
   "source": [
    "pd.read_csv('movie_titles_metadata.tsv',sep='\\t',names=['sno','name','release_year','rating','votes','genres'])"
   ],
   "metadata": {
    "collapsed": false
   },
   "id": "9ddf38af7f54f85e"
  },
  {
   "cell_type": "markdown",
   "source": [
    "5. Index_col parameter"
   ],
   "metadata": {
    "collapsed": false
   },
   "id": "947faafd51dfef9f"
  },
  {
   "cell_type": "code",
   "outputs": [],
   "source": [
    "pd.read_csv('aug_train.csv',index_col='enrollee_id')"
   ],
   "metadata": {
    "collapsed": false
   },
   "id": "b844be492a0529a1"
  },
  {
   "cell_type": "markdown",
   "source": [
    "6. Header parameter"
   ],
   "metadata": {
    "collapsed": false
   },
   "id": "9dfbd07ac3ec1e99"
  },
  {
   "cell_type": "code",
   "outputs": [],
   "source": [
    "pd.read_csv('test.csv',header=1)"
   ],
   "metadata": {
    "collapsed": false
   },
   "id": "bcdafa4ab3dd6c23"
  },
  {
   "cell_type": "markdown",
   "source": [
    "7. use_cols parameter"
   ],
   "metadata": {
    "collapsed": false
   },
   "id": "f4e6f4e0dc28c804"
  },
  {
   "cell_type": "code",
   "outputs": [],
   "source": [
    "pd.read_csv('aug_train.csv',usecols=['enrollee_id','gender','education_level'])"
   ],
   "metadata": {
    "collapsed": false
   },
   "id": "e848075cfb3571dd"
  },
  {
   "cell_type": "markdown",
   "source": [
    "8. Squeeze parameters"
   ],
   "metadata": {
    "collapsed": false
   },
   "id": "e1e89b4a6ad9755c"
  },
  {
   "cell_type": "code",
   "outputs": [],
   "source": [
    "pd.read_csv('aug_train.csv',usecols=['gender'],squeeze=True)"
   ],
   "metadata": {
    "collapsed": false
   },
   "id": "115f99fcfd0ea615"
  },
  {
   "cell_type": "markdown",
   "source": [
    "9. Skiprows/nrows Parameter"
   ],
   "metadata": {
    "collapsed": false
   },
   "id": "31fbd31ba94e3862"
  },
  {
   "cell_type": "code",
   "outputs": [],
   "source": [
    "pd.read_csv('aug_train.csv',nrows=100)"
   ],
   "metadata": {
    "collapsed": false
   },
   "id": "51d862cb29a91a4f"
  },
  {
   "cell_type": "markdown",
   "source": [
    "10. Encoding parameter"
   ],
   "metadata": {
    "collapsed": false
   },
   "id": "9986f8764acb2b80"
  },
  {
   "cell_type": "code",
   "outputs": [],
   "source": [
    "pd.read_csv('zomato.csv',encoding='latin-1')"
   ],
   "metadata": {
    "collapsed": false
   },
   "id": "ed9420adc5ac397c"
  },
  {
   "cell_type": "markdown",
   "source": [
    "11. Skip bad lines"
   ],
   "metadata": {
    "collapsed": false
   },
   "id": "49a23cda03c0101c"
  },
  {
   "cell_type": "code",
   "outputs": [],
   "source": [
    "pd.read_csv('BX-Books.csv', sep=';', encoding=\"latin-1\",error_bad_lines=False)"
   ],
   "metadata": {
    "collapsed": false
   },
   "id": "843434aaad98ecc3"
  },
  {
   "cell_type": "markdown",
   "source": [
    "12. dtypes parameter"
   ],
   "metadata": {
    "collapsed": false
   },
   "id": "9ac57b1e1ea46dea"
  },
  {
   "cell_type": "code",
   "outputs": [],
   "source": [
    "pd.read_csv('aug_train.csv',dtype={'target':int}).info()"
   ],
   "metadata": {
    "collapsed": false
   },
   "id": "dcf07c742de6e712"
  },
  {
   "cell_type": "markdown",
   "source": [
    "13. Handling Dates"
   ],
   "metadata": {
    "collapsed": false
   },
   "id": "5a65f6e241863e78"
  },
  {
   "cell_type": "code",
   "outputs": [],
   "source": [
    "pd.read_csv('IPL Matches 2008-2020.csv',parse_dates=['date']).info()"
   ],
   "metadata": {
    "collapsed": false
   },
   "id": "2db024abf137102d"
  },
  {
   "cell_type": "markdown",
   "source": [
    "14. Convertors"
   ],
   "metadata": {
    "collapsed": false
   },
   "id": "888b40ed97e22547"
  },
  {
   "cell_type": "code",
   "outputs": [],
   "source": [
    "def rename(name):\n",
    "    if name == \"Royal Challengers Bangalore\":\n",
    "        return \"RCB\"\n",
    "    else:\n",
    "        return name\n",
    "rename(\"Royal Challengers Bangalore\")"
   ],
   "metadata": {
    "collapsed": false
   },
   "id": "cb8c4f773ccd601"
  },
  {
   "cell_type": "code",
   "outputs": [],
   "source": [
    "pd.read_csv('IPL Matches 2008-2020.csv',converters={'team1':rename})"
   ],
   "metadata": {
    "collapsed": false
   },
   "id": "c76fca63e4f574ec"
  },
  {
   "cell_type": "markdown",
   "source": [
    "15. na_values parameter"
   ],
   "metadata": {
    "collapsed": false
   },
   "id": "d42ba184bba1a2d8"
  },
  {
   "cell_type": "code",
   "outputs": [],
   "source": [
    "pd.read_csv('aug_train.csv',na_values=['Male',])"
   ],
   "metadata": {
    "collapsed": false
   },
   "id": "e81976bfe18a6af3"
  },
  {
   "cell_type": "markdown",
   "source": [
    "16. Loading a huge dataset in chunks"
   ],
   "metadata": {
    "collapsed": false
   },
   "id": "95db7dd2fe47ee9b"
  },
  {
   "cell_type": "code",
   "outputs": [],
   "source": [
    "dfs = pd.read_csv('aug_train.csv',chunksize=5000)"
   ],
   "metadata": {
    "collapsed": false
   },
   "id": "521b986200a8b6c6"
  },
  {
   "cell_type": "code",
   "outputs": [],
   "source": [
    "for chunks in dfs:\n",
    "    print(chunk.shape)"
   ],
   "metadata": {
    "collapsed": false
   },
   "id": "5b8e5ff0073c66c9"
  }
 ],
 "metadata": {
  "kernelspec": {
   "display_name": "Python 3",
   "language": "python",
   "name": "python3"
  },
  "language_info": {
   "codemirror_mode": {
    "name": "ipython",
    "version": 2
   },
   "file_extension": ".py",
   "mimetype": "text/x-python",
   "name": "python",
   "nbconvert_exporter": "python",
   "pygments_lexer": "ipython2",
   "version": "2.7.6"
  }
 },
 "nbformat": 4,
 "nbformat_minor": 5
}
