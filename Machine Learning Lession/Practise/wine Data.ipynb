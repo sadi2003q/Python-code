{
 "cells": [
  {
   "cell_type": "code",
   "outputs": [],
   "source": [
    "import pandas as pd"
   ],
   "metadata": {
    "collapsed": false,
    "ExecuteTime": {
     "end_time": "2024-07-23T05:46:37.252773Z",
     "start_time": "2024-07-23T05:46:37.250693Z"
    }
   },
   "id": "ffe4bfa2d35f3d94",
   "execution_count": 215
  },
  {
   "cell_type": "code",
   "outputs": [],
   "source": [
    "df = pd.read_csv('All_CSV/Bill.csv')"
   ],
   "metadata": {
    "collapsed": false,
    "ExecuteTime": {
     "end_time": "2024-07-23T05:46:37.292314Z",
     "start_time": "2024-07-23T05:46:37.288368Z"
    }
   },
   "id": "3f0d8b8be7e75890",
   "execution_count": 216
  },
  {
   "cell_type": "code",
   "outputs": [
    {
     "data": {
      "text/plain": "   num_rooms  num_people  housearea  is_ac  is_tv  is_flat  \\\n0          3           3     742.57      1      1        1   \n1          1           5     952.99      0      1        0   \n2          3           1     761.44      1      1        1   \n3          0           5     861.32      1      1        0   \n4          1           8     731.61      0      1        0   \n\n   ave_monthly_income  num_children  is_urban  amount_paid  \n0             9675.93             2         0   560.481447  \n1            35064.79             1         1   633.283679  \n2            22292.44             0         0   511.879157  \n3            12139.08             0         0   332.992035  \n4            17230.10             2         1   658.285625  ",
      "text/html": "<div>\n<style scoped>\n    .dataframe tbody tr th:only-of-type {\n        vertical-align: middle;\n    }\n\n    .dataframe tbody tr th {\n        vertical-align: top;\n    }\n\n    .dataframe thead th {\n        text-align: right;\n    }\n</style>\n<table border=\"1\" class=\"dataframe\">\n  <thead>\n    <tr style=\"text-align: right;\">\n      <th></th>\n      <th>num_rooms</th>\n      <th>num_people</th>\n      <th>housearea</th>\n      <th>is_ac</th>\n      <th>is_tv</th>\n      <th>is_flat</th>\n      <th>ave_monthly_income</th>\n      <th>num_children</th>\n      <th>is_urban</th>\n      <th>amount_paid</th>\n    </tr>\n  </thead>\n  <tbody>\n    <tr>\n      <th>0</th>\n      <td>3</td>\n      <td>3</td>\n      <td>742.57</td>\n      <td>1</td>\n      <td>1</td>\n      <td>1</td>\n      <td>9675.93</td>\n      <td>2</td>\n      <td>0</td>\n      <td>560.481447</td>\n    </tr>\n    <tr>\n      <th>1</th>\n      <td>1</td>\n      <td>5</td>\n      <td>952.99</td>\n      <td>0</td>\n      <td>1</td>\n      <td>0</td>\n      <td>35064.79</td>\n      <td>1</td>\n      <td>1</td>\n      <td>633.283679</td>\n    </tr>\n    <tr>\n      <th>2</th>\n      <td>3</td>\n      <td>1</td>\n      <td>761.44</td>\n      <td>1</td>\n      <td>1</td>\n      <td>1</td>\n      <td>22292.44</td>\n      <td>0</td>\n      <td>0</td>\n      <td>511.879157</td>\n    </tr>\n    <tr>\n      <th>3</th>\n      <td>0</td>\n      <td>5</td>\n      <td>861.32</td>\n      <td>1</td>\n      <td>1</td>\n      <td>0</td>\n      <td>12139.08</td>\n      <td>0</td>\n      <td>0</td>\n      <td>332.992035</td>\n    </tr>\n    <tr>\n      <th>4</th>\n      <td>1</td>\n      <td>8</td>\n      <td>731.61</td>\n      <td>0</td>\n      <td>1</td>\n      <td>0</td>\n      <td>17230.10</td>\n      <td>2</td>\n      <td>1</td>\n      <td>658.285625</td>\n    </tr>\n  </tbody>\n</table>\n</div>"
     },
     "execution_count": 217,
     "metadata": {},
     "output_type": "execute_result"
    }
   ],
   "source": [
    "df.head()"
   ],
   "metadata": {
    "collapsed": false,
    "ExecuteTime": {
     "end_time": "2024-07-23T05:46:37.298675Z",
     "start_time": "2024-07-23T05:46:37.293202Z"
    }
   },
   "id": "f942c361dd4872ff",
   "execution_count": 217
  },
  {
   "cell_type": "code",
   "outputs": [],
   "source": [
    "from Model_Training import Model_Training\n",
    "from sklearn.linear_model import LinearRegression, Ridge\n",
    "from sklearn.tree import DecisionTreeRegressor"
   ],
   "metadata": {
    "collapsed": false,
    "ExecuteTime": {
     "end_time": "2024-07-23T05:46:37.304942Z",
     "start_time": "2024-07-23T05:46:37.301789Z"
    }
   },
   "id": "2b67d10df110e026",
   "execution_count": 218
  },
  {
   "cell_type": "code",
   "outputs": [],
   "source": [
    "x, y = df.drop(columns=['amount_paid']), df['amount_paid']"
   ],
   "metadata": {
    "collapsed": false,
    "ExecuteTime": {
     "end_time": "2024-07-23T05:46:37.322564Z",
     "start_time": "2024-07-23T05:46:37.320112Z"
    }
   },
   "id": "7e18b2dd50762de5",
   "execution_count": 219
  },
  {
   "cell_type": "code",
   "outputs": [],
   "source": [
    "model_Linear_regression = Model_Training(LinearRegression(), x,y)\n",
    "model_ridge_regression = Model_Training(Ridge(alpha=8), x, y)\n",
    "model_decision_tree = Model_Training(DecisionTreeRegressor(max_depth=5), x, y)\n"
   ],
   "metadata": {
    "collapsed": false,
    "ExecuteTime": {
     "end_time": "2024-07-23T05:46:37.327811Z",
     "start_time": "2024-07-23T05:46:37.325761Z"
    }
   },
   "id": "8587572f8c7b241b",
   "execution_count": 220
  },
  {
   "cell_type": "code",
   "outputs": [],
   "source": [
    "score_linear_regression = model_Linear_regression.run()\n",
    "score_ridge_regression = model_ridge_regression.run()\n",
    "score_decision_tree = model_decision_tree.run()"
   ],
   "metadata": {
    "collapsed": false,
    "ExecuteTime": {
     "end_time": "2024-07-23T05:46:37.342441Z",
     "start_time": "2024-07-23T05:46:37.335105Z"
    }
   },
   "id": "5958a20d5bdfddc8",
   "execution_count": 221
  },
  {
   "cell_type": "code",
   "outputs": [
    {
     "data": {
      "text/plain": "   r2_score  mean_absolute_error  mean_squared_error  cross_val_score\n0  0.841432          5276.675311           59.826632         0.813126",
      "text/html": "<div>\n<style scoped>\n    .dataframe tbody tr th:only-of-type {\n        vertical-align: middle;\n    }\n\n    .dataframe tbody tr th {\n        vertical-align: top;\n    }\n\n    .dataframe thead th {\n        text-align: right;\n    }\n</style>\n<table border=\"1\" class=\"dataframe\">\n  <thead>\n    <tr style=\"text-align: right;\">\n      <th></th>\n      <th>r2_score</th>\n      <th>mean_absolute_error</th>\n      <th>mean_squared_error</th>\n      <th>cross_val_score</th>\n    </tr>\n  </thead>\n  <tbody>\n    <tr>\n      <th>0</th>\n      <td>0.841432</td>\n      <td>5276.675311</td>\n      <td>59.826632</td>\n      <td>0.813126</td>\n    </tr>\n  </tbody>\n</table>\n</div>"
     },
     "execution_count": 222,
     "metadata": {},
     "output_type": "execute_result"
    }
   ],
   "source": [
    "score_decision_tree.get_score()"
   ],
   "metadata": {
    "collapsed": false,
    "ExecuteTime": {
     "end_time": "2024-07-23T05:46:37.392551Z",
     "start_time": "2024-07-23T05:46:37.361963Z"
    }
   },
   "id": "bb4ad9f5cae95922",
   "execution_count": 222
  },
  {
   "cell_type": "code",
   "outputs": [
    {
     "data": {
      "text/plain": "   r2_score  mean_absolute_error  mean_squared_error  cross_val_score\n0  0.865952          4425.597646           56.921477         0.875633",
      "text/html": "<div>\n<style scoped>\n    .dataframe tbody tr th:only-of-type {\n        vertical-align: middle;\n    }\n\n    .dataframe tbody tr th {\n        vertical-align: top;\n    }\n\n    .dataframe thead th {\n        text-align: right;\n    }\n</style>\n<table border=\"1\" class=\"dataframe\">\n  <thead>\n    <tr style=\"text-align: right;\">\n      <th></th>\n      <th>r2_score</th>\n      <th>mean_absolute_error</th>\n      <th>mean_squared_error</th>\n      <th>cross_val_score</th>\n    </tr>\n  </thead>\n  <tbody>\n    <tr>\n      <th>0</th>\n      <td>0.865952</td>\n      <td>4425.597646</td>\n      <td>56.921477</td>\n      <td>0.875633</td>\n    </tr>\n  </tbody>\n</table>\n</div>"
     },
     "execution_count": 223,
     "metadata": {},
     "output_type": "execute_result"
    }
   ],
   "source": [
    "score_ridge_regression.get_score()"
   ],
   "metadata": {
    "collapsed": false,
    "ExecuteTime": {
     "end_time": "2024-07-23T05:46:37.416815Z",
     "start_time": "2024-07-23T05:46:37.393713Z"
    }
   },
   "id": "a1c59af6f7b22772",
   "execution_count": 223
  },
  {
   "cell_type": "code",
   "outputs": [
    {
     "data": {
      "text/plain": "   r2_score  mean_absolute_error  mean_squared_error  cross_val_score\n0  0.892744           4019.25448           54.086281         0.866158",
      "text/html": "<div>\n<style scoped>\n    .dataframe tbody tr th:only-of-type {\n        vertical-align: middle;\n    }\n\n    .dataframe tbody tr th {\n        vertical-align: top;\n    }\n\n    .dataframe thead th {\n        text-align: right;\n    }\n</style>\n<table border=\"1\" class=\"dataframe\">\n  <thead>\n    <tr style=\"text-align: right;\">\n      <th></th>\n      <th>r2_score</th>\n      <th>mean_absolute_error</th>\n      <th>mean_squared_error</th>\n      <th>cross_val_score</th>\n    </tr>\n  </thead>\n  <tbody>\n    <tr>\n      <th>0</th>\n      <td>0.892744</td>\n      <td>4019.25448</td>\n      <td>54.086281</td>\n      <td>0.866158</td>\n    </tr>\n  </tbody>\n</table>\n</div>"
     },
     "execution_count": 224,
     "metadata": {},
     "output_type": "execute_result"
    }
   ],
   "source": [
    "score_linear_regression.get_score()"
   ],
   "metadata": {
    "collapsed": false,
    "ExecuteTime": {
     "end_time": "2024-07-23T05:46:37.438516Z",
     "start_time": "2024-07-23T05:46:37.417669Z"
    }
   },
   "id": "86f4ed7eca6766e7",
   "execution_count": 224
  },
  {
   "cell_type": "markdown",
   "source": [
    "# Voting Ensemble"
   ],
   "metadata": {
    "collapsed": false
   },
   "id": "945d25b1d535f779"
  },
  {
   "cell_type": "code",
   "outputs": [],
   "source": [
    "from sklearn.ensemble import VotingRegressor"
   ],
   "metadata": {
    "collapsed": false,
    "ExecuteTime": {
     "end_time": "2024-07-23T05:46:37.442437Z",
     "start_time": "2024-07-23T05:46:37.440052Z"
    }
   },
   "id": "a52926ab0c5f3888",
   "execution_count": 225
  },
  {
   "cell_type": "code",
   "outputs": [],
   "source": [
    "ensemble = [('linear_regression', LinearRegression()), ('ridge regression', Ridge(alpha = 5)), ('Decision Tree', DecisionTreeRegressor(max_depth=5))]"
   ],
   "metadata": {
    "collapsed": false,
    "ExecuteTime": {
     "end_time": "2024-07-23T05:46:37.445412Z",
     "start_time": "2024-07-23T05:46:37.443526Z"
    }
   },
   "id": "d83369c47426781a",
   "execution_count": 226
  },
  {
   "cell_type": "code",
   "outputs": [],
   "source": [
    "model_voting_regressor = Model_Training(VotingRegressor(estimators=ensemble), x, y)"
   ],
   "metadata": {
    "collapsed": false,
    "ExecuteTime": {
     "end_time": "2024-07-23T05:46:37.447733Z",
     "start_time": "2024-07-23T05:46:37.446207Z"
    }
   },
   "id": "87483813bbb963c2",
   "execution_count": 227
  },
  {
   "cell_type": "code",
   "outputs": [],
   "source": [
    "score_voting_regressor = model_voting_regressor.run()"
   ],
   "metadata": {
    "collapsed": false,
    "ExecuteTime": {
     "end_time": "2024-07-23T05:46:37.455487Z",
     "start_time": "2024-07-23T05:46:37.448255Z"
    }
   },
   "id": "61de7009899cb762",
   "execution_count": 228
  },
  {
   "cell_type": "code",
   "outputs": [
    {
     "data": {
      "text/plain": "   r2_score  mean_absolute_error  mean_squared_error  cross_val_score\n0  0.893373          3911.448757            52.50272         0.860193",
      "text/html": "<div>\n<style scoped>\n    .dataframe tbody tr th:only-of-type {\n        vertical-align: middle;\n    }\n\n    .dataframe tbody tr th {\n        vertical-align: top;\n    }\n\n    .dataframe thead th {\n        text-align: right;\n    }\n</style>\n<table border=\"1\" class=\"dataframe\">\n  <thead>\n    <tr style=\"text-align: right;\">\n      <th></th>\n      <th>r2_score</th>\n      <th>mean_absolute_error</th>\n      <th>mean_squared_error</th>\n      <th>cross_val_score</th>\n    </tr>\n  </thead>\n  <tbody>\n    <tr>\n      <th>0</th>\n      <td>0.893373</td>\n      <td>3911.448757</td>\n      <td>52.50272</td>\n      <td>0.860193</td>\n    </tr>\n  </tbody>\n</table>\n</div>"
     },
     "execution_count": 229,
     "metadata": {},
     "output_type": "execute_result"
    }
   ],
   "source": [
    "score_voting_regressor.get_score()"
   ],
   "metadata": {
    "collapsed": false,
    "ExecuteTime": {
     "end_time": "2024-07-23T05:46:37.504319Z",
     "start_time": "2024-07-23T05:46:37.456073Z"
    }
   },
   "id": "a6d0ab537b7a319c",
   "execution_count": 229
  },
  {
   "cell_type": "code",
   "outputs": [
    {
     "data": {
      "text/plain": "                    num_rooms  num_people  housearea     is_ac     is_tv  \\\nnum_rooms            1.000000   -0.005765  -0.033561  0.018620 -0.016146   \nnum_people          -0.005765    1.000000   0.000072  0.033672  0.020101   \nhousearea           -0.033561    0.000072   1.000000  0.036039  0.088323   \nis_ac                0.018620    0.033672   0.036039  1.000000 -0.000247   \nis_tv               -0.016146    0.020101   0.088323 -0.000247  1.000000   \nis_flat              0.004133    0.012104   0.007986  0.002678 -0.028155   \nave_monthly_income  -0.000345    0.019152  -0.042645 -0.014054  0.013664   \nnum_children        -0.037474   -0.010656   0.038699 -0.027256  0.015353   \nis_urban            -0.015705   -0.023863   0.024902 -0.053317  0.034774   \namount_paid         -0.023933    0.053501   0.096157  0.390003  0.197613   \n\n                     is_flat  ave_monthly_income  num_children  is_urban  \\\nnum_rooms           0.004133           -0.000345     -0.037474 -0.015705   \nnum_people          0.012104            0.019152     -0.010656 -0.023863   \nhousearea           0.007986           -0.042645      0.038699  0.024902   \nis_ac               0.002678           -0.014054     -0.027256 -0.053317   \nis_tv              -0.028155            0.013664      0.015353  0.034774   \nis_flat             1.000000           -0.014879     -0.028315 -0.000066   \nave_monthly_income -0.014879            1.000000      0.008329 -0.039424   \nnum_children       -0.028315            0.008329      1.000000 -0.007511   \nis_urban           -0.000066           -0.039424     -0.007511  1.000000   \namount_paid         0.147927            0.025889      0.447512  0.649568   \n\n                    amount_paid  \nnum_rooms             -0.023933  \nnum_people             0.053501  \nhousearea              0.096157  \nis_ac                  0.390003  \nis_tv                  0.197613  \nis_flat                0.147927  \nave_monthly_income     0.025889  \nnum_children           0.447512  \nis_urban               0.649568  \namount_paid            1.000000  ",
      "text/html": "<div>\n<style scoped>\n    .dataframe tbody tr th:only-of-type {\n        vertical-align: middle;\n    }\n\n    .dataframe tbody tr th {\n        vertical-align: top;\n    }\n\n    .dataframe thead th {\n        text-align: right;\n    }\n</style>\n<table border=\"1\" class=\"dataframe\">\n  <thead>\n    <tr style=\"text-align: right;\">\n      <th></th>\n      <th>num_rooms</th>\n      <th>num_people</th>\n      <th>housearea</th>\n      <th>is_ac</th>\n      <th>is_tv</th>\n      <th>is_flat</th>\n      <th>ave_monthly_income</th>\n      <th>num_children</th>\n      <th>is_urban</th>\n      <th>amount_paid</th>\n    </tr>\n  </thead>\n  <tbody>\n    <tr>\n      <th>num_rooms</th>\n      <td>1.000000</td>\n      <td>-0.005765</td>\n      <td>-0.033561</td>\n      <td>0.018620</td>\n      <td>-0.016146</td>\n      <td>0.004133</td>\n      <td>-0.000345</td>\n      <td>-0.037474</td>\n      <td>-0.015705</td>\n      <td>-0.023933</td>\n    </tr>\n    <tr>\n      <th>num_people</th>\n      <td>-0.005765</td>\n      <td>1.000000</td>\n      <td>0.000072</td>\n      <td>0.033672</td>\n      <td>0.020101</td>\n      <td>0.012104</td>\n      <td>0.019152</td>\n      <td>-0.010656</td>\n      <td>-0.023863</td>\n      <td>0.053501</td>\n    </tr>\n    <tr>\n      <th>housearea</th>\n      <td>-0.033561</td>\n      <td>0.000072</td>\n      <td>1.000000</td>\n      <td>0.036039</td>\n      <td>0.088323</td>\n      <td>0.007986</td>\n      <td>-0.042645</td>\n      <td>0.038699</td>\n      <td>0.024902</td>\n      <td>0.096157</td>\n    </tr>\n    <tr>\n      <th>is_ac</th>\n      <td>0.018620</td>\n      <td>0.033672</td>\n      <td>0.036039</td>\n      <td>1.000000</td>\n      <td>-0.000247</td>\n      <td>0.002678</td>\n      <td>-0.014054</td>\n      <td>-0.027256</td>\n      <td>-0.053317</td>\n      <td>0.390003</td>\n    </tr>\n    <tr>\n      <th>is_tv</th>\n      <td>-0.016146</td>\n      <td>0.020101</td>\n      <td>0.088323</td>\n      <td>-0.000247</td>\n      <td>1.000000</td>\n      <td>-0.028155</td>\n      <td>0.013664</td>\n      <td>0.015353</td>\n      <td>0.034774</td>\n      <td>0.197613</td>\n    </tr>\n    <tr>\n      <th>is_flat</th>\n      <td>0.004133</td>\n      <td>0.012104</td>\n      <td>0.007986</td>\n      <td>0.002678</td>\n      <td>-0.028155</td>\n      <td>1.000000</td>\n      <td>-0.014879</td>\n      <td>-0.028315</td>\n      <td>-0.000066</td>\n      <td>0.147927</td>\n    </tr>\n    <tr>\n      <th>ave_monthly_income</th>\n      <td>-0.000345</td>\n      <td>0.019152</td>\n      <td>-0.042645</td>\n      <td>-0.014054</td>\n      <td>0.013664</td>\n      <td>-0.014879</td>\n      <td>1.000000</td>\n      <td>0.008329</td>\n      <td>-0.039424</td>\n      <td>0.025889</td>\n    </tr>\n    <tr>\n      <th>num_children</th>\n      <td>-0.037474</td>\n      <td>-0.010656</td>\n      <td>0.038699</td>\n      <td>-0.027256</td>\n      <td>0.015353</td>\n      <td>-0.028315</td>\n      <td>0.008329</td>\n      <td>1.000000</td>\n      <td>-0.007511</td>\n      <td>0.447512</td>\n    </tr>\n    <tr>\n      <th>is_urban</th>\n      <td>-0.015705</td>\n      <td>-0.023863</td>\n      <td>0.024902</td>\n      <td>-0.053317</td>\n      <td>0.034774</td>\n      <td>-0.000066</td>\n      <td>-0.039424</td>\n      <td>-0.007511</td>\n      <td>1.000000</td>\n      <td>0.649568</td>\n    </tr>\n    <tr>\n      <th>amount_paid</th>\n      <td>-0.023933</td>\n      <td>0.053501</td>\n      <td>0.096157</td>\n      <td>0.390003</td>\n      <td>0.197613</td>\n      <td>0.147927</td>\n      <td>0.025889</td>\n      <td>0.447512</td>\n      <td>0.649568</td>\n      <td>1.000000</td>\n    </tr>\n  </tbody>\n</table>\n</div>"
     },
     "execution_count": 230,
     "metadata": {},
     "output_type": "execute_result"
    }
   ],
   "source": [
    "df.corr()"
   ],
   "metadata": {
    "collapsed": false,
    "ExecuteTime": {
     "end_time": "2024-07-23T05:48:16.370185Z",
     "start_time": "2024-07-23T05:48:16.359425Z"
    }
   },
   "id": "8a3f109390415935",
   "execution_count": 230
  },
  {
   "cell_type": "code",
   "outputs": [],
   "source": [],
   "metadata": {
    "collapsed": false
   },
   "id": "522fd6d853e3520c"
  }
 ],
 "metadata": {
  "kernelspec": {
   "display_name": "Python 3",
   "language": "python",
   "name": "python3"
  },
  "language_info": {
   "codemirror_mode": {
    "name": "ipython",
    "version": 2
   },
   "file_extension": ".py",
   "mimetype": "text/x-python",
   "name": "python",
   "nbconvert_exporter": "python",
   "pygments_lexer": "ipython2",
   "version": "2.7.6"
  }
 },
 "nbformat": 4,
 "nbformat_minor": 5
}
