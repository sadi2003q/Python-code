{
 "cells": [
  {
   "cell_type": "markdown",
   "source": [
    "# Data Loading"
   ],
   "metadata": {
    "collapsed": false
   },
   "id": "6c40df498d03e5c0"
  },
  {
   "cell_type": "code",
   "outputs": [],
   "source": [
    "import pandas as pd"
   ],
   "metadata": {
    "collapsed": false,
    "ExecuteTime": {
     "end_time": "2024-07-22T13:11:38.883438Z",
     "start_time": "2024-07-22T13:11:38.880758Z"
    }
   },
   "id": "d69ea61e5eba8a8b",
   "execution_count": 58
  },
  {
   "cell_type": "code",
   "outputs": [],
   "source": [
    "df = pd.read_csv('All_CSV/data_science_job.csv')"
   ],
   "metadata": {
    "collapsed": false,
    "ExecuteTime": {
     "end_time": "2024-07-22T13:11:38.931048Z",
     "start_time": "2024-07-22T13:11:38.907273Z"
    }
   },
   "id": "e0d5375be0c203de",
   "execution_count": 59
  },
  {
   "cell_type": "code",
   "outputs": [
    {
     "name": "stdout",
     "output_type": "stream",
     "text": [
      "<class 'pandas.core.frame.DataFrame'>\n",
      "RangeIndex: 19158 entries, 0 to 19157\n",
      "Data columns (total 13 columns):\n",
      " #   Column                  Non-Null Count  Dtype  \n",
      "---  ------                  --------------  -----  \n",
      " 0   enrollee_id             19158 non-null  int64  \n",
      " 1   city                    19158 non-null  object \n",
      " 2   city_development_index  18679 non-null  float64\n",
      " 3   gender                  14650 non-null  object \n",
      " 4   relevent_experience     19158 non-null  object \n",
      " 5   enrolled_university     18772 non-null  object \n",
      " 6   education_level         18698 non-null  object \n",
      " 7   major_discipline        16345 non-null  object \n",
      " 8   experience              19093 non-null  float64\n",
      " 9   company_size            13220 non-null  object \n",
      " 10  company_type            13018 non-null  object \n",
      " 11  training_hours          18392 non-null  float64\n",
      " 12  target                  19158 non-null  float64\n",
      "dtypes: float64(4), int64(1), object(8)\n",
      "memory usage: 1.9+ MB\n"
     ]
    }
   ],
   "source": [
    "df.info()"
   ],
   "metadata": {
    "collapsed": false,
    "ExecuteTime": {
     "end_time": "2024-07-22T13:11:38.940239Z",
     "start_time": "2024-07-22T13:11:38.932229Z"
    }
   },
   "id": "83652929179a66aa",
   "execution_count": 60
  },
  {
   "cell_type": "markdown",
   "source": [
    "# Column Dropping "
   ],
   "metadata": {
    "collapsed": false
   },
   "id": "70d9db16951f6004"
  },
  {
   "cell_type": "code",
   "outputs": [],
   "source": [
    "df = df.drop(columns = ['enrollee_id', 'city', 'city_development_index', 'company_size'])"
   ],
   "metadata": {
    "collapsed": false,
    "ExecuteTime": {
     "end_time": "2024-07-22T13:11:38.944839Z",
     "start_time": "2024-07-22T13:11:38.941369Z"
    }
   },
   "id": "18ec3150b1a24d4b",
   "execution_count": 61
  },
  {
   "cell_type": "markdown",
   "source": [
    "# Missing Value and Duplicates"
   ],
   "metadata": {
    "collapsed": false
   },
   "id": "2fd24eaec03bd3ef"
  },
  {
   "cell_type": "code",
   "outputs": [],
   "source": [
    "df = df.dropna()\n",
    "df = df.drop_duplicates()"
   ],
   "metadata": {
    "collapsed": false,
    "ExecuteTime": {
     "end_time": "2024-07-22T13:11:38.955509Z",
     "start_time": "2024-07-22T13:11:38.945963Z"
    }
   },
   "id": "555ed51859fe056c",
   "execution_count": 62
  },
  {
   "cell_type": "markdown",
   "source": [
    "# Encoding"
   ],
   "metadata": {
    "collapsed": false
   },
   "id": "e95ec13ec0e1fb0d"
  },
  {
   "cell_type": "code",
   "outputs": [],
   "source": [
    "ordinal_encode = ['relevent_experience']\n",
    "onehot_encode = ['gender', 'enrolled_university', 'education_level', 'major_discipline', 'company_type']"
   ],
   "metadata": {
    "collapsed": false,
    "ExecuteTime": {
     "end_time": "2024-07-22T13:11:38.958576Z",
     "start_time": "2024-07-22T13:11:38.956318Z"
    }
   },
   "id": "54d5ff7327e3ff5c",
   "execution_count": 63
  },
  {
   "cell_type": "code",
   "outputs": [],
   "source": [
    "from Machine_Learning.Encoder import Encoder"
   ],
   "metadata": {
    "collapsed": false,
    "ExecuteTime": {
     "end_time": "2024-07-22T13:11:38.960653Z",
     "start_time": "2024-07-22T13:11:38.959094Z"
    }
   },
   "id": "cbbef6425c3fa212",
   "execution_count": 64
  },
  {
   "cell_type": "code",
   "outputs": [],
   "source": [
    "encode = Encoder(df.drop(columns = ['target']), df['target'], ordinal_code = ordinal_encode, onehot_code = onehot_encode) "
   ],
   "metadata": {
    "collapsed": false,
    "ExecuteTime": {
     "end_time": "2024-07-22T13:11:38.963680Z",
     "start_time": "2024-07-22T13:11:38.961309Z"
    }
   },
   "id": "53ce16843c221759",
   "execution_count": 65
  },
  {
   "cell_type": "code",
   "outputs": [],
   "source": [
    "x, y = encode.encode()"
   ],
   "metadata": {
    "collapsed": false,
    "ExecuteTime": {
     "end_time": "2024-07-22T13:11:38.975611Z",
     "start_time": "2024-07-22T13:11:38.964549Z"
    }
   },
   "id": "92042487ee726293",
   "execution_count": 66
  },
  {
   "cell_type": "markdown",
   "source": [
    "# Model Training"
   ],
   "metadata": {
    "collapsed": false
   },
   "id": "b3d31da4d46fedf0"
  },
  {
   "cell_type": "code",
   "outputs": [],
   "source": [
    "from sklearn.linear_model import LogisticRegression"
   ],
   "metadata": {
    "collapsed": false,
    "ExecuteTime": {
     "end_time": "2024-07-22T13:11:38.978382Z",
     "start_time": "2024-07-22T13:11:38.976501Z"
    }
   },
   "id": "23ea1c55bc3f38c9",
   "execution_count": 67
  },
  {
   "cell_type": "code",
   "outputs": [],
   "source": [
    "from Model_Training import Model_Training"
   ],
   "metadata": {
    "collapsed": false,
    "ExecuteTime": {
     "end_time": "2024-07-22T13:11:38.982678Z",
     "start_time": "2024-07-22T13:11:38.980466Z"
    }
   },
   "id": "fa4303b774f5e8df",
   "execution_count": 68
  },
  {
   "cell_type": "code",
   "outputs": [],
   "source": [
    "model = Model_Training(LogisticRegression(max_iter=1000), x, y, is_Regression=False)"
   ],
   "metadata": {
    "collapsed": false,
    "ExecuteTime": {
     "end_time": "2024-07-22T13:11:38.985382Z",
     "start_time": "2024-07-22T13:11:38.983269Z"
    }
   },
   "id": "acd3d1c0eb0ce705",
   "execution_count": 69
  },
  {
   "cell_type": "code",
   "outputs": [],
   "source": [
    "score = model.run()"
   ],
   "metadata": {
    "collapsed": false,
    "ExecuteTime": {
     "end_time": "2024-07-22T13:11:39.478346Z",
     "start_time": "2024-07-22T13:11:38.985951Z"
    }
   },
   "id": "1a800ef0f4ed2cc",
   "execution_count": 70
  },
  {
   "cell_type": "code",
   "outputs": [
    {
     "name": "stderr",
     "output_type": "stream",
     "text": [
      "/Users/sadi_/Coding/pythonProject/.venv/lib/python3.12/site-packages/sklearn/metrics/_classification.py:1517: UndefinedMetricWarning: Precision is ill-defined and being set to 0.0 in labels with no predicted samples. Use `zero_division` parameter to control this behavior.\n",
      "  _warn_prf(average, modifier, f\"{metric.capitalize()} is\", len(result))\n"
     ]
    },
    {
     "data": {
      "text/plain": "   Accuracy  Precision    Recall  F1 Score  Cross Val Score\n0  0.809229   0.654851  0.809229  0.723901         0.801309",
      "text/html": "<div>\n<style scoped>\n    .dataframe tbody tr th:only-of-type {\n        vertical-align: middle;\n    }\n\n    .dataframe tbody tr th {\n        vertical-align: top;\n    }\n\n    .dataframe thead th {\n        text-align: right;\n    }\n</style>\n<table border=\"1\" class=\"dataframe\">\n  <thead>\n    <tr style=\"text-align: right;\">\n      <th></th>\n      <th>Accuracy</th>\n      <th>Precision</th>\n      <th>Recall</th>\n      <th>F1 Score</th>\n      <th>Cross Val Score</th>\n    </tr>\n  </thead>\n  <tbody>\n    <tr>\n      <th>0</th>\n      <td>0.809229</td>\n      <td>0.654851</td>\n      <td>0.809229</td>\n      <td>0.723901</td>\n      <td>0.801309</td>\n    </tr>\n  </tbody>\n</table>\n</div>"
     },
     "execution_count": 71,
     "metadata": {},
     "output_type": "execute_result"
    }
   ],
   "source": [
    "score.get_score()"
   ],
   "metadata": {
    "collapsed": false,
    "ExecuteTime": {
     "end_time": "2024-07-22T13:11:42.115900Z",
     "start_time": "2024-07-22T13:11:39.480583Z"
    }
   },
   "id": "c82bd076d39bb162",
   "execution_count": 71
  },
  {
   "cell_type": "code",
   "outputs": [],
   "source": [],
   "metadata": {
    "collapsed": false,
    "ExecuteTime": {
     "end_time": "2024-07-22T13:11:42.120512Z",
     "start_time": "2024-07-22T13:11:42.118212Z"
    }
   },
   "id": "2a318c2b93b94243",
   "execution_count": 71
  }
 ],
 "metadata": {
  "kernelspec": {
   "display_name": "Python 3",
   "language": "python",
   "name": "python3"
  },
  "language_info": {
   "codemirror_mode": {
    "name": "ipython",
    "version": 2
   },
   "file_extension": ".py",
   "mimetype": "text/x-python",
   "name": "python",
   "nbconvert_exporter": "python",
   "pygments_lexer": "ipython2",
   "version": "2.7.6"
  }
 },
 "nbformat": 4,
 "nbformat_minor": 5
}
