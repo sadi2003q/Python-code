{
 "cells": [
  {
   "cell_type": "code",
   "execution_count": 160,
   "id": "initial_id",
   "metadata": {
    "collapsed": true,
    "ExecuteTime": {
     "end_time": "2024-05-31T07:38:18.458540Z",
     "start_time": "2024-05-31T07:38:18.451487Z"
    }
   },
   "outputs": [],
   "source": [
    "import pandas as pd\n",
    "\n",
    "from sklearn.model_selection import train_test_split as split\n",
    "from sklearn.decomposition import PCA as pca"
   ]
  },
  {
   "cell_type": "code",
   "outputs": [],
   "source": [
    "df = pd.read_csv('another_train.csv')"
   ],
   "metadata": {
    "collapsed": false,
    "ExecuteTime": {
     "end_time": "2024-05-31T07:37:24.397843Z",
     "start_time": "2024-05-31T07:37:23.661992Z"
    }
   },
   "id": "5254385402d9c9d1",
   "execution_count": 153
  },
  {
   "cell_type": "code",
   "outputs": [],
   "source": [
    "train_x, test_x, train_y, test_y = split(df.drop(columns=['FloodProbability']),  df['FloodProbability'], test_size = 0.2, random_state = 6)"
   ],
   "metadata": {
    "collapsed": false,
    "ExecuteTime": {
     "end_time": "2024-05-31T07:37:24.628547Z",
     "start_time": "2024-05-31T07:37:24.399653Z"
    }
   },
   "id": "3b940b6bd8cb7ca5",
   "execution_count": 154
  },
  {
   "cell_type": "markdown",
   "source": [
    "# Before decomposition "
   ],
   "metadata": {
    "collapsed": false
   },
   "id": "45766599fcc1ff57"
  },
  {
   "cell_type": "code",
   "outputs": [
    {
     "data": {
      "text/plain": "(894365, 21)"
     },
     "execution_count": 155,
     "metadata": {},
     "output_type": "execute_result"
    }
   ],
   "source": [
    "train_x.shape"
   ],
   "metadata": {
    "collapsed": false,
    "ExecuteTime": {
     "end_time": "2024-05-31T07:37:24.632719Z",
     "start_time": "2024-05-31T07:37:24.630133Z"
    }
   },
   "id": "4d2055b285f955c9",
   "execution_count": 155
  },
  {
   "cell_type": "code",
   "outputs": [],
   "source": [
    "decompose = pca(n_components = 2)"
   ],
   "metadata": {
    "collapsed": false,
    "ExecuteTime": {
     "end_time": "2024-05-31T07:37:24.635318Z",
     "start_time": "2024-05-31T07:37:24.633468Z"
    }
   },
   "id": "60dccd0ea5e888c0",
   "execution_count": 156
  },
  {
   "cell_type": "code",
   "outputs": [],
   "source": [
    "train_x = decompose.fit_transform(train_x)\n",
    "test_x = decompose.transform(test_x)"
   ],
   "metadata": {
    "collapsed": false,
    "ExecuteTime": {
     "end_time": "2024-05-31T07:37:24.803234Z",
     "start_time": "2024-05-31T07:37:24.636074Z"
    }
   },
   "id": "b54923f1b6e2baa",
   "execution_count": 157
  },
  {
   "cell_type": "code",
   "outputs": [],
   "source": [
    "train_x = pd.DataFrame(train_x)\n",
    "test_x = pd.DataFrame(test_x)"
   ],
   "metadata": {
    "collapsed": false,
    "ExecuteTime": {
     "end_time": "2024-05-31T07:37:24.829123Z",
     "start_time": "2024-05-31T07:37:24.807505Z"
    }
   },
   "id": "4367f4107403d19a",
   "execution_count": 158
  },
  {
   "cell_type": "markdown",
   "source": [
    "# after decomposition"
   ],
   "metadata": {
    "collapsed": false
   },
   "id": "74f26f299bdcd2e6"
  },
  {
   "cell_type": "code",
   "outputs": [
    {
     "data": {
      "text/plain": "(894365, 2)"
     },
     "execution_count": 159,
     "metadata": {},
     "output_type": "execute_result"
    }
   ],
   "source": [
    "train_x.shape"
   ],
   "metadata": {
    "collapsed": false,
    "ExecuteTime": {
     "end_time": "2024-05-31T07:37:24.847597Z",
     "start_time": "2024-05-31T07:37:24.832353Z"
    }
   },
   "id": "c9581662d3115c2f",
   "execution_count": 159
  },
  {
   "cell_type": "code",
   "outputs": [],
   "source": [],
   "metadata": {
    "collapsed": false,
    "ExecuteTime": {
     "end_time": "2024-05-31T07:37:24.852412Z",
     "start_time": "2024-05-31T07:37:24.849484Z"
    }
   },
   "id": "88beab4bd433a4ca",
   "execution_count": 159
  }
 ],
 "metadata": {
  "kernelspec": {
   "display_name": "Python 3",
   "language": "python",
   "name": "python3"
  },
  "language_info": {
   "codemirror_mode": {
    "name": "ipython",
    "version": 2
   },
   "file_extension": ".py",
   "mimetype": "text/x-python",
   "name": "python",
   "nbconvert_exporter": "python",
   "pygments_lexer": "ipython2",
   "version": "2.7.6"
  }
 },
 "nbformat": 4,
 "nbformat_minor": 5
}
