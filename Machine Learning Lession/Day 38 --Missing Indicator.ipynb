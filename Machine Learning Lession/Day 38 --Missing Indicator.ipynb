{
  "cells": [
    {
      "cell_type": "code",
      "source": [
        "import pandas as pd\n",
        "import matplotlib.pyplot as plt\n",
        "import numpy as np\n",
        "\n",
        "from sklearn.model_selection import train_test_split as split\n",
        "from sklearn.impute import SimpleImputer"
      ],
      "metadata": {
        "id": "mXVmVSRTK8qA"
      },
      "execution_count": 132,
      "outputs": []
    },
    {
      "cell_type": "code",
      "source": [
        "df = pd.read_csv('train.csv', usecols = ['Age', 'Fare', 'Survived'])"
      ],
      "metadata": {
        "id": "jZXTvgiMLWR5"
      },
      "execution_count": 133,
      "outputs": []
    },
    {
      "cell_type": "markdown",
      "source": [
        "# Missing Indicator"
      ],
      "metadata": {
        "id": "7cD5gfX9Oj5a"
      }
    },
    {
      "cell_type": "code",
      "source": [
        "train_x, test_x, train_y, test_y = split(df.drop(columns = ['Survived']),\n",
        "                                         df['Survived'], test_size=0.2)"
      ],
      "metadata": {
        "id": "y-Q4h5WQLvvm"
      },
      "execution_count": 134,
      "outputs": []
    },
    {
      "cell_type": "code",
      "source": [
        "si = SimpleImputer(add_indicator = True)"
      ],
      "metadata": {
        "id": "y6bfx3KxMLrk"
      },
      "execution_count": 134,
      "outputs": []
    },
    {
      "cell_type": "code",
      "source": [
        "train_x = si.fit_transform(train_x)\n",
        "test_x = si.transform(test_x)"
      ],
      "metadata": {
        "id": "NUTCOArruHox"
      },
      "execution_count": 136,
      "outputs": []
    },
    {
      "cell_type": "code",
      "source": [
        "train_x"
      ],
      "metadata": {
        "colab": {
          "base_uri": "https://localhost:8080/"
        },
        "id": "QSsYA2IqxmQU",
        "outputId": "a0f5277b-cf28-4d94-beef-386fb8754edb"
      },
      "execution_count": 137,
      "outputs": [
        {
          "output_type": "execute_result",
          "data": {
            "text/plain": [
              "array([[18.        ,  7.775     ,  0.        ],\n",
              "       [30.14302977,  8.05      ,  1.        ],\n",
              "       [30.14302977,  7.8292    ,  1.        ],\n",
              "       ...,\n",
              "       [51.        , 61.3792    ,  0.        ],\n",
              "       [30.14302977,  7.8958    ,  1.        ],\n",
              "       [30.        ,  8.05      ,  0.        ]])"
            ]
          },
          "metadata": {},
          "execution_count": 137
        }
      ]
    },
    {
      "cell_type": "code",
      "source": [],
      "metadata": {
        "id": "LpuLE8xlydKS"
      },
      "execution_count": null,
      "outputs": []
    }
  ],
  "metadata": {
    "colab": {
      "provenance": []
    },
    "kernelspec": {
      "display_name": "Python 3",
      "name": "python3"
    },
    "language_info": {
      "name": "python"
    }
  },
  "nbformat": 4,
  "nbformat_minor": 0
}